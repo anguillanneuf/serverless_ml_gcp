{
 "cells": [
  {
   "cell_type": "markdown",
   "metadata": {},
   "source": [
    "<h1> Machine Learning using tf.learn </h1>\n",
    "\n",
    "In this notebook, we will create a machine learning model using tf.learn and evaluate its performance.  The dataset is rather small (7700 samples), so we can do it all in-memory.  We will also simply pass the raw data in as-is. \n"
   ]
  },
  {
   "cell_type": "code",
   "execution_count": 1,
   "metadata": {
    "collapsed": false
   },
   "outputs": [
    {
     "name": "stdout",
     "output_type": "stream",
     "text": [
      "1.4.1\n"
     ]
    }
   ],
   "source": [
    "import datalab.bigquery as bq\n",
    "import tensorflow as tf\n",
    "import pandas as pd\n",
    "import numpy as np\n",
    "import shutil\n",
    "\n",
    "print tf.__version__"
   ]
  },
  {
   "cell_type": "markdown",
   "metadata": {},
   "source": [
    "Read data created in the previous chapter."
   ]
  },
  {
   "cell_type": "code",
   "execution_count": 2,
   "metadata": {
    "collapsed": true
   },
   "outputs": [],
   "source": [
    "# in CSV, target is the first column, after the features, followed by the key\n",
    "CSV_COLUMNS = ['fare_amount', 'pickuplon','pickuplat','dropofflon','dropofflat','passengers', 'key']\n",
    "FEATURES = CSV_COLUMNS[1:len(CSV_COLUMNS)-1]\n",
    "TARGET = CSV_COLUMNS[0]\n",
    "\n",
    "df_train = pd.read_csv('./taxi-train.csv', header=None, names=CSV_COLUMNS)\n",
    "df_valid = pd.read_csv('./taxi-valid.csv', header=None, names=CSV_COLUMNS)"
   ]
  },
  {
   "cell_type": "markdown",
   "metadata": {},
   "source": [
    "<h2> Input function to read from Pandas Dataframe into tf.constant </h2>"
   ]
  },
  {
   "cell_type": "code",
   "execution_count": 3,
   "metadata": {
    "collapsed": false
   },
   "outputs": [],
   "source": [
    "def make_input_fn(df):\n",
    "  def pandas_to_tf(pdcol):\n",
    "    # convert the pandas column values to float\n",
    "    t = tf.constant(pdcol.astype('float32').values)\n",
    "    # take the column which is of shape (N) and make it (N, 1)\n",
    "    return tf.expand_dims(t, -1)\n",
    "  \n",
    "  def input_fn():\n",
    "    # create features, columns\n",
    "    features = {k: pandas_to_tf(df[k]) for k in FEATURES}\n",
    "    labels = tf.constant(df[TARGET].values)\n",
    "    return features, labels\n",
    "  return input_fn # need an input function that does not take any parameters\n",
    "  \n",
    "def make_feature_cols():\n",
    "  input_columns = [tf.contrib.layers.real_valued_column(k) for k in FEATURES]\n",
    "  return input_columns"
   ]
  },
  {
   "cell_type": "markdown",
   "metadata": {},
   "source": [
    "<h3> Linear Regression with tf.learn Estimators framework </h3>"
   ]
  },
  {
   "cell_type": "code",
   "execution_count": 5,
   "metadata": {
    "collapsed": false
   },
   "outputs": [
    {
     "name": "stdout",
     "output_type": "stream",
     "text": [
      "INFO:tensorflow:Using default config.\n",
      "[2018-01-22 19:09:46,218] {tf_logging.py:82} INFO - Using default config.\n",
      "INFO:tensorflow:Using config: {'_save_checkpoints_secs': 600, '_num_ps_replicas': 0, '_keep_checkpoint_max': 5, '_task_type': None, '_is_chief': True, '_cluster_spec': <tensorflow.python.training.server_lib.ClusterSpec object at 0x7fa53563f710>, '_model_dir': 'taxi_trained', '_save_checkpoints_steps': None, '_keep_checkpoint_every_n_hours': 10000, '_session_config': None, '_tf_random_seed': None, '_save_summary_steps': 100, '_environment': 'local', '_num_worker_replicas': 0, '_task_id': 0, '_log_step_count_steps': 100, '_tf_config': gpu_options {\n",
      "  per_process_gpu_memory_fraction: 1.0\n",
      "}\n",
      ", '_evaluation_master': '', '_master': ''}\n",
      "[2018-01-22 19:09:46,222] {tf_logging.py:82} INFO - Using config: {'_save_checkpoints_secs': 600, '_num_ps_replicas': 0, '_keep_checkpoint_max': 5, '_task_type': None, '_is_chief': True, '_cluster_spec': <tensorflow.python.training.server_lib.ClusterSpec object at 0x7fa53563f710>, '_model_dir': 'taxi_trained', '_save_checkpoints_steps': None, '_keep_checkpoint_every_n_hours': 10000, '_session_config': None, '_tf_random_seed': None, '_save_summary_steps': 100, '_environment': 'local', '_num_worker_replicas': 0, '_task_id': 0, '_log_step_count_steps': 100, '_tf_config': gpu_options {\n",
      "  per_process_gpu_memory_fraction: 1.0\n",
      "}\n",
      ", '_evaluation_master': '', '_master': ''}\n",
      "WARNING:tensorflow:From /usr/local/lib/python2.7/dist-packages/tensorflow/contrib/learn/python/learn/estimators/linear.py:173: get_global_step (from tensorflow.contrib.framework.python.ops.variables) is deprecated and will be removed in a future version.\n",
      "Instructions for updating:\n",
      "Please switch to tf.train.get_global_step\n",
      "[2018-01-22 19:09:46,872] {tf_logging.py:90} WARNING - From /usr/local/lib/python2.7/dist-packages/tensorflow/contrib/learn/python/learn/estimators/linear.py:173: get_global_step (from tensorflow.contrib.framework.python.ops.variables) is deprecated and will be removed in a future version.\n",
      "Instructions for updating:\n",
      "Please switch to tf.train.get_global_step\n",
      "INFO:tensorflow:Create CheckpointSaverHook.\n",
      "[2018-01-22 19:09:46,969] {tf_logging.py:82} INFO - Create CheckpointSaverHook.\n",
      "INFO:tensorflow:Saving checkpoints for 1 into taxi_trained/model.ckpt.\n",
      "[2018-01-22 19:09:47,441] {tf_logging.py:82} INFO - Saving checkpoints for 1 into taxi_trained/model.ckpt.\n",
      "INFO:tensorflow:loss = 212.39543, step = 1\n",
      "[2018-01-22 19:09:47,496] {tf_logging.py:82} INFO - loss = 212.39543, step = 1\n",
      "INFO:tensorflow:Saving checkpoints for 10 into taxi_trained/model.ckpt.\n",
      "[2018-01-22 19:09:47,530] {tf_logging.py:82} INFO - Saving checkpoints for 10 into taxi_trained/model.ckpt.\n",
      "INFO:tensorflow:Loss for final step: 87.09076.\n",
      "[2018-01-22 19:09:47,581] {tf_logging.py:82} INFO - Loss for final step: 87.09076.\n"
     ]
    }
   ],
   "source": [
    "tf.logging.set_verbosity(tf.logging.INFO)\n",
    "shutil.rmtree('taxi_trained', ignore_errors=True) # start fresh each time\n",
    "model = tf.contrib.learn.LinearRegressor(\n",
    "      feature_columns=make_feature_cols(), model_dir='taxi_trained')\n",
    "\n",
    "# feature_columns: An iterable containing all the feature columns used by the model\n",
    "\n",
    "model.fit(input_fn=make_input_fn(df_train), steps=10);"
   ]
  },
  {
   "cell_type": "markdown",
   "metadata": {},
   "source": [
    "Evaluate on the validation data (we should defer using the test data to after we have selected a final model)."
   ]
  },
  {
   "cell_type": "code",
   "execution_count": 6,
   "metadata": {
    "collapsed": false
   },
   "outputs": [
    {
     "name": "stdout",
     "output_type": "stream",
     "text": [
      "INFO:tensorflow:Starting evaluation at 2018-01-22-19:10:07\n",
      "[2018-01-22 19:10:07,732] {tf_logging.py:82} INFO - Starting evaluation at 2018-01-22-19:10:07\n",
      "INFO:tensorflow:Restoring parameters from taxi_trained/model.ckpt-10\n",
      "[2018-01-22 19:10:07,811] {tf_logging.py:82} INFO - Restoring parameters from taxi_trained/model.ckpt-10\n",
      "INFO:tensorflow:Evaluation [1/1]\n",
      "[2018-01-22 19:10:07,888] {tf_logging.py:82} INFO - Evaluation [1/1]\n",
      "INFO:tensorflow:Finished evaluation at 2018-01-22-19:10:07\n",
      "[2018-01-22 19:10:07,898] {tf_logging.py:82} INFO - Finished evaluation at 2018-01-22-19:10:07\n",
      "INFO:tensorflow:Saving dict for global step 10: global_step = 10, loss = 88.99783\n",
      "[2018-01-22 19:10:07,903] {tf_logging.py:82} INFO - Saving dict for global step 10: global_step = 10, loss = 88.99783\n",
      "RMSE on validation dataset = 9.43386650085\n"
     ]
    }
   ],
   "source": [
    "def print_rmse(model, name, input_fn):\n",
    "  metrics = model.evaluate(input_fn=input_fn, steps=1)\n",
    "  print 'RMSE on {} dataset = {}'.format(name, np.sqrt(metrics['loss']))\n",
    "print_rmse(model, 'validation', make_input_fn(df_valid))"
   ]
  },
  {
   "cell_type": "markdown",
   "metadata": {},
   "source": [
    "This is nowhere near our benchmark (RMSE of $6 or so on this data), but it serves to demonstrate what TensorFlow code looks like.  Let's use this model for prediction."
   ]
  },
  {
   "cell_type": "code",
   "execution_count": 7,
   "metadata": {
    "collapsed": false
   },
   "outputs": [
    {
     "name": "stdout",
     "output_type": "stream",
     "text": [
      "INFO:tensorflow:Using default config.\n",
      "[2018-01-22 19:10:59,831] {tf_logging.py:82} INFO - Using default config.\n",
      "INFO:tensorflow:Using config: {'_save_checkpoints_secs': 600, '_num_ps_replicas': 0, '_keep_checkpoint_max': 5, '_task_type': None, '_is_chief': True, '_cluster_spec': <tensorflow.python.training.server_lib.ClusterSpec object at 0x7fa53403c890>, '_model_dir': 'taxi_trained', '_save_checkpoints_steps': None, '_keep_checkpoint_every_n_hours': 10000, '_session_config': None, '_tf_random_seed': None, '_save_summary_steps': 100, '_environment': 'local', '_num_worker_replicas': 0, '_task_id': 0, '_log_step_count_steps': 100, '_tf_config': gpu_options {\n",
      "  per_process_gpu_memory_fraction: 1.0\n",
      "}\n",
      ", '_evaluation_master': '', '_master': ''}\n",
      "[2018-01-22 19:10:59,837] {tf_logging.py:82} INFO - Using config: {'_save_checkpoints_secs': 600, '_num_ps_replicas': 0, '_keep_checkpoint_max': 5, '_task_type': None, '_is_chief': True, '_cluster_spec': <tensorflow.python.training.server_lib.ClusterSpec object at 0x7fa53403c890>, '_model_dir': 'taxi_trained', '_save_checkpoints_steps': None, '_keep_checkpoint_every_n_hours': 10000, '_session_config': None, '_tf_random_seed': None, '_save_summary_steps': 100, '_environment': 'local', '_num_worker_replicas': 0, '_task_id': 0, '_log_step_count_steps': 100, '_tf_config': gpu_options {\n",
      "  per_process_gpu_memory_fraction: 1.0\n",
      "}\n",
      ", '_evaluation_master': '', '_master': ''}\n",
      "WARNING:tensorflow:From /usr/local/lib/python2.7/dist-packages/tensorflow/python/util/deprecation.py:381: calling predict (from tensorflow.contrib.learn.python.learn.estimators.linear) with outputs=None is deprecated and will be removed after 2017-03-01.\n",
      "Instructions for updating:\n",
      "Please switch to predict_scores, or set `outputs` argument.\n",
      "[2018-01-22 19:10:59,868] {tf_logging.py:90} WARNING - From /usr/local/lib/python2.7/dist-packages/tensorflow/python/util/deprecation.py:381: calling predict (from tensorflow.contrib.learn.python.learn.estimators.linear) with outputs=None is deprecated and will be removed after 2017-03-01.\n",
      "Instructions for updating:\n",
      "Please switch to predict_scores, or set `outputs` argument.\n",
      "INFO:tensorflow:Restoring parameters from taxi_trained/model.ckpt-10\n",
      "[2018-01-22 19:11:00,141] {tf_logging.py:82} INFO - Restoring parameters from taxi_trained/model.ckpt-10\n",
      "[11.142173, 11.156511, 11.207322, 11.159891, 11.208663]\n"
     ]
    }
   ],
   "source": [
    "import itertools\n",
    "# read saved model and use it for prediction\n",
    "model = tf.contrib.learn.LinearRegressor(\n",
    "      feature_columns=make_feature_cols(), model_dir='taxi_trained')\n",
    "preds_iter = model.predict(input_fn=make_input_fn(df_valid))\n",
    "print list(itertools.islice(preds_iter, 5)) # first 5"
   ]
  },
  {
   "cell_type": "markdown",
   "metadata": {},
   "source": [
    "This explains why the RMSE was so high -- the model essentially predicts $11 for every trip.  Would a more complex model help? Let's try using a deep neural network.  The code to do this is quite straightforward as well."
   ]
  },
  {
   "cell_type": "markdown",
   "metadata": {},
   "source": [
    "<h3> Deep Neural Network regression </h3>"
   ]
  },
  {
   "cell_type": "code",
   "execution_count": 8,
   "metadata": {
    "collapsed": false
   },
   "outputs": [
    {
     "name": "stdout",
     "output_type": "stream",
     "text": [
      "INFO:tensorflow:Using default config.\n",
      "[2018-01-22 19:11:28,273] {tf_logging.py:82} INFO - Using default config.\n",
      "INFO:tensorflow:Using config: {'_save_checkpoints_secs': 600, '_num_ps_replicas': 0, '_keep_checkpoint_max': 5, '_task_type': None, '_is_chief': True, '_cluster_spec': <tensorflow.python.training.server_lib.ClusterSpec object at 0x7fa52f7e83d0>, '_model_dir': 'taxi_trained', '_save_checkpoints_steps': None, '_keep_checkpoint_every_n_hours': 10000, '_session_config': None, '_tf_random_seed': None, '_save_summary_steps': 100, '_environment': 'local', '_num_worker_replicas': 0, '_task_id': 0, '_log_step_count_steps': 100, '_tf_config': gpu_options {\n",
      "  per_process_gpu_memory_fraction: 1.0\n",
      "}\n",
      ", '_evaluation_master': '', '_master': ''}\n",
      "[2018-01-22 19:11:28,278] {tf_logging.py:82} INFO - Using config: {'_save_checkpoints_secs': 600, '_num_ps_replicas': 0, '_keep_checkpoint_max': 5, '_task_type': None, '_is_chief': True, '_cluster_spec': <tensorflow.python.training.server_lib.ClusterSpec object at 0x7fa52f7e83d0>, '_model_dir': 'taxi_trained', '_save_checkpoints_steps': None, '_keep_checkpoint_every_n_hours': 10000, '_session_config': None, '_tf_random_seed': None, '_save_summary_steps': 100, '_environment': 'local', '_num_worker_replicas': 0, '_task_id': 0, '_log_step_count_steps': 100, '_tf_config': gpu_options {\n",
      "  per_process_gpu_memory_fraction: 1.0\n",
      "}\n",
      ", '_evaluation_master': '', '_master': ''}\n",
      "INFO:tensorflow:Create CheckpointSaverHook.\n",
      "[2018-01-22 19:11:28,515] {tf_logging.py:82} INFO - Create CheckpointSaverHook.\n",
      "INFO:tensorflow:Saving checkpoints for 1 into taxi_trained/model.ckpt.\n",
      "[2018-01-22 19:11:29,027] {tf_logging.py:82} INFO - Saving checkpoints for 1 into taxi_trained/model.ckpt.\n",
      "INFO:tensorflow:loss = 598.4031, step = 1\n",
      "[2018-01-22 19:11:29,087] {tf_logging.py:82} INFO - loss = 598.4031, step = 1\n",
      "INFO:tensorflow:Saving checkpoints for 100 into taxi_trained/model.ckpt.\n",
      "[2018-01-22 19:11:29,828] {tf_logging.py:82} INFO - Saving checkpoints for 100 into taxi_trained/model.ckpt.\n",
      "INFO:tensorflow:Loss for final step: 196.80359.\n",
      "[2018-01-22 19:11:29,900] {tf_logging.py:82} INFO - Loss for final step: 196.80359.\n",
      "INFO:tensorflow:Starting evaluation at 2018-01-22-19:11:30\n",
      "[2018-01-22 19:11:30,019] {tf_logging.py:82} INFO - Starting evaluation at 2018-01-22-19:11:30\n",
      "INFO:tensorflow:Restoring parameters from taxi_trained/model.ckpt-100\n",
      "[2018-01-22 19:11:30,115] {tf_logging.py:82} INFO - Restoring parameters from taxi_trained/model.ckpt-100\n",
      "INFO:tensorflow:Evaluation [1/1]\n",
      "[2018-01-22 19:11:30,174] {tf_logging.py:82} INFO - Evaluation [1/1]\n",
      "INFO:tensorflow:Finished evaluation at 2018-01-22-19:11:30\n",
      "[2018-01-22 19:11:30,185] {tf_logging.py:82} INFO - Finished evaluation at 2018-01-22-19:11:30\n",
      "INFO:tensorflow:Saving dict for global step 100: global_step = 100, loss = 202.97804\n",
      "[2018-01-22 19:11:30,191] {tf_logging.py:82} INFO - Saving dict for global step 100: global_step = 100, loss = 202.97804\n",
      "RMSE on validation dataset = 14.2470359802\n"
     ]
    }
   ],
   "source": [
    "tf.logging.set_verbosity(tf.logging.INFO)\n",
    "shutil.rmtree('taxi_trained', ignore_errors=True) # start fresh each time\n",
    "model = tf.contrib.learn.DNNRegressor(hidden_units=[32, 8, 2],\n",
    "      feature_columns=make_feature_cols(), model_dir='taxi_trained')\n",
    "model.fit(input_fn=make_input_fn(df_train), steps=100);\n",
    "print_rmse(model, 'validation', make_input_fn(df_valid))"
   ]
  },
  {
   "cell_type": "markdown",
   "metadata": {},
   "source": [
    "We are not beating our benchmark with either model ... what's up?  Well, we may be using TensorFlow for Machine Learning, but we are not yet using it well.  That's what the rest of this course is about!\n",
    "\n",
    "But, for the record, let's say we had to choose between the two models. We'd choose the one with the lower validation error. Finally, we'd measure the RMSE on the test data with this chosen model."
   ]
  },
  {
   "cell_type": "markdown",
   "metadata": {},
   "source": [
    "<h2> Benchmark dataset </h2>\n",
    "\n",
    "Let's do this on the benchmark dataset."
   ]
  },
  {
   "cell_type": "code",
   "execution_count": 9,
   "metadata": {
    "collapsed": false
   },
   "outputs": [
    {
     "name": "stdout",
     "output_type": "stream",
     "text": [
      "INFO:tensorflow:Starting evaluation at 2018-01-22-19:12:05\n",
      "[2018-01-22 19:12:05,288] {tf_logging.py:82} INFO - Starting evaluation at 2018-01-22-19:12:05\n",
      "INFO:tensorflow:Restoring parameters from taxi_trained/model.ckpt-100\n",
      "[2018-01-22 19:12:05,370] {tf_logging.py:82} INFO - Restoring parameters from taxi_trained/model.ckpt-100\n",
      "INFO:tensorflow:Evaluation [1/1]\n",
      "[2018-01-22 19:12:05,452] {tf_logging.py:82} INFO - Evaluation [1/1]\n",
      "INFO:tensorflow:Finished evaluation at 2018-01-22-19:12:05\n",
      "[2018-01-22 19:12:05,463] {tf_logging.py:82} INFO - Finished evaluation at 2018-01-22-19:12:05\n",
      "INFO:tensorflow:Saving dict for global step 100: global_step = 100, loss = 201.10027\n",
      "[2018-01-22 19:12:05,468] {tf_logging.py:82} INFO - Saving dict for global step 100: global_step = 100, loss = 201.10027\n",
      "RMSE on benchmark dataset = 14.1809825897\n"
     ]
    }
   ],
   "source": [
    "import datalab.bigquery as bq\n",
    "import numpy as np\n",
    "import pandas as pd\n",
    "\n",
    "\n",
    "def create_query(phase, EVERY_N):\n",
    "  \"\"\"\n",
    "  phase: 1=train 2=valid\n",
    "  \"\"\"\n",
    "  base_query = \"\"\"\n",
    "SELECT\n",
    "  (tolls_amount + fare_amount) AS fare_amount,\n",
    "  CONCAT(STRING(pickup_datetime), STRING(pickup_longitude), STRING(pickup_latitude), STRING(dropoff_latitude), STRING(dropoff_longitude)) AS key,\n",
    "  DAYOFWEEK(pickup_datetime)*1.0 AS dayofweek,\n",
    "  HOUR(pickup_datetime)*1.0 AS hourofday,\n",
    "  pickup_longitude AS pickuplon,\n",
    "  pickup_latitude AS pickuplat,\n",
    "  dropoff_longitude AS dropofflon,\n",
    "  dropoff_latitude AS dropofflat,\n",
    "  passenger_count*1.0 AS passengers,\n",
    "FROM\n",
    "  [nyc-tlc:yellow.trips]\n",
    "WHERE\n",
    "  trip_distance > 0\n",
    "  AND fare_amount >= 2.5\n",
    "  AND pickup_longitude > -78\n",
    "  AND pickup_longitude < -70\n",
    "  AND dropoff_longitude > -78\n",
    "  AND dropoff_longitude < -70\n",
    "  AND pickup_latitude > 37\n",
    "  AND pickup_latitude < 45\n",
    "  AND dropoff_latitude > 37\n",
    "  AND dropoff_latitude < 45\n",
    "  AND passenger_count > 0\n",
    "  \"\"\"\n",
    "\n",
    "  if EVERY_N == None:\n",
    "    if phase < 2:\n",
    "      # training\n",
    "      query = \"{0} AND ABS(HASH(pickup_datetime)) % 4 < 2\".format(base_query)\n",
    "    else:\n",
    "      query = \"{0} AND ABS(HASH(pickup_datetime)) % 4 == {1}\".format(base_query, phase)\n",
    "  else:\n",
    "      query = \"{0} AND ABS(HASH(pickup_datetime)) % {1} == {2}\".format(base_query, EVERY_N, phase)\n",
    "    \n",
    "  return query\n",
    "\n",
    "\n",
    "\n",
    "query = create_query(2, 100000)\n",
    "df = bq.Query(query).to_dataframe()\n",
    "print_rmse(model, 'benchmark', make_input_fn(df))"
   ]
  },
  {
   "cell_type": "markdown",
   "metadata": {},
   "source": [
    "RMSE on benchmark dataset is <b>9.41</b> (your results will vary because of random seeds).\n",
    "\n",
    "This is not only way more than our original benchmark of 6.00, but it doesn't even beat our distance-based rule's RMSE of 8.02.\n",
    "\n",
    "Fear not -- you have learned how to write a TensorFlow model, but not to do all the things that you will have to do to your ML model performant. We will do this in the next chapters. In this chapter though, we will get our TensorFlow model ready for these improvements.\n",
    "\n",
    "In a software sense, the rest of the labs in this chapter will be about refactoring the code so that we can improve it."
   ]
  },
  {
   "cell_type": "markdown",
   "metadata": {},
   "source": [
    "Copyright 2017 Google Inc. Licensed under the Apache License, Version 2.0 (the \"License\"); you may not use this file except in compliance with the License. You may obtain a copy of the License at http://www.apache.org/licenses/LICENSE-2.0 Unless required by applicable law or agreed to in writing, software distributed under the License is distributed on an \"AS IS\" BASIS, WITHOUT WARRANTIES OR CONDITIONS OF ANY KIND, either express or implied. See the License for the specific language governing permissions and limitations under the License"
   ]
  }
 ],
 "metadata": {
  "kernelspec": {
   "display_name": "Python 2",
   "language": "python",
   "name": "python2"
  },
  "language_info": {
   "codemirror_mode": {
    "name": "ipython",
    "version": 2
   },
   "file_extension": ".py",
   "mimetype": "text/x-python",
   "name": "python",
   "nbconvert_exporter": "python",
   "pygments_lexer": "ipython2",
   "version": "2.7.12"
  }
 },
 "nbformat": 4,
 "nbformat_minor": 0
}
