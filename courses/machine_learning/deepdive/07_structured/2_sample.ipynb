{
 "cells": [
  {
   "cell_type": "markdown",
   "metadata": {},
   "source": [
    "<h1> 2. Creating a sampled dataset </h1>\n",
    "\n",
    "This notebook illustrates:\n",
    "<ol>\n",
    "<li> Sampling a BigQuery dataset to create datasets for ML\n",
    "<li> Preprocessing with Pandas\n",
    "</ol>"
   ]
  },
  {
   "cell_type": "code",
   "execution_count": 1,
   "metadata": {
    "collapsed": false
   },
   "outputs": [
    {
     "data": {
      "text/html": [
       "\n",
       "          <script src=\"/static/components/requirejs/require.js\"></script>\n",
       "          <script>\n",
       "            requirejs.config({\n",
       "              paths: {\n",
       "                base: '/static/base',\n",
       "              },\n",
       "            });\n",
       "          </script>\n",
       "          "
      ],
      "text/plain": [
       "<IPython.core.display.HTML object>"
      ]
     },
     "metadata": {},
     "output_type": "display_data"
    }
   ],
   "source": [
    "# change these to try this notebook out\n",
    "BUCKET = 'cloud-training-demos-ml'\n",
    "PROJECT = 'cloud-training-demos'\n",
    "REGION = 'us-central1'"
   ]
  },
  {
   "cell_type": "code",
   "execution_count": 2,
   "metadata": {
    "collapsed": false
   },
   "outputs": [
    {
     "data": {
      "text/html": [
       "\n",
       "          <script src=\"/static/components/requirejs/require.js\"></script>\n",
       "          <script>\n",
       "            requirejs.config({\n",
       "              paths: {\n",
       "                base: '/static/base',\n",
       "              },\n",
       "            });\n",
       "          </script>\n",
       "          "
      ],
      "text/plain": [
       "<IPython.core.display.HTML object>"
      ]
     },
     "metadata": {},
     "output_type": "display_data"
    }
   ],
   "source": [
    "import os\n",
    "os.environ['BUCKET'] = BUCKET\n",
    "os.environ['PROJECT'] = PROJECT\n",
    "os.environ['REGION'] = REGION"
   ]
  },
  {
   "cell_type": "code",
   "execution_count": 3,
   "metadata": {
    "collapsed": false
   },
   "outputs": [],
   "source": [
    "%%bash\n",
    "if ! gsutil ls | grep -q gs://${BUCKET}/; then\n",
    "  gsutil mb -l ${REGION} gs://${BUCKET}\n",
    "fi"
   ]
  },
  {
   "cell_type": "markdown",
   "metadata": {},
   "source": [
    "<h2> Create ML dataset by sampling using BigQuery </h2>\n",
    "<p>\n",
    "Let's sample the BigQuery data to create smaller datasets.\n",
    "</p>"
   ]
  },
  {
   "cell_type": "code",
   "execution_count": 3,
   "metadata": {
    "collapsed": false
   },
   "outputs": [
    {
     "data": {
      "text/html": [
       "\n",
       "          <script src=\"/static/components/requirejs/require.js\"></script>\n",
       "          <script>\n",
       "            requirejs.config({\n",
       "              paths: {\n",
       "                base: '/static/base',\n",
       "              },\n",
       "            });\n",
       "          </script>\n",
       "          "
      ],
      "text/plain": [
       "<IPython.core.display.HTML object>"
      ]
     },
     "metadata": {},
     "output_type": "display_data"
    }
   ],
   "source": [
    "# Create SQL query using natality data after the year 2000\n",
    "import google.datalab.bigquery as bq\n",
    "query = \"\"\"\n",
    "SELECT\n",
    "  weight_pounds,\n",
    "  is_male,\n",
    "  mother_age,\n",
    "  plurality,\n",
    "  gestation_weeks,\n",
    "  FARM_FINGERPRINT(CONCAT(CAST(YEAR AS STRING), CAST(month AS STRING))) AS hashmonth\n",
    "FROM\n",
    "  publicdata.samples.natality\n",
    "WHERE year > 2000\n",
    "\"\"\""
   ]
  },
  {
   "cell_type": "markdown",
   "metadata": {},
   "source": [
    "There are only a limited number of years and months in the dataset. Let's see what the hashmonths are."
   ]
  },
  {
   "cell_type": "code",
   "execution_count": 4,
   "metadata": {
    "collapsed": false
   },
   "outputs": [
    {
     "data": {
      "text/html": [
       "\n",
       "          <script src=\"/static/components/requirejs/require.js\"></script>\n",
       "          <script>\n",
       "            requirejs.config({\n",
       "              paths: {\n",
       "                base: '/static/base',\n",
       "              },\n",
       "            });\n",
       "          </script>\n",
       "          "
      ],
      "text/plain": [
       "<IPython.core.display.HTML object>"
      ]
     },
     "metadata": {},
     "output_type": "display_data"
    },
    {
     "name": "stdout",
     "output_type": "stream",
     "text": [
      "There are 96 unique hashmonths.\n"
     ]
    },
    {
     "data": {
      "text/html": [
       "<div>\n",
       "<table border=\"1\" class=\"dataframe\">\n",
       "  <thead>\n",
       "    <tr style=\"text-align: right;\">\n",
       "      <th></th>\n",
       "      <th>hashmonth</th>\n",
       "      <th>num_babies</th>\n",
       "    </tr>\n",
       "  </thead>\n",
       "  <tbody>\n",
       "    <tr>\n",
       "      <th>0</th>\n",
       "      <td>-1403073183891835564</td>\n",
       "      <td>351299</td>\n",
       "    </tr>\n",
       "    <tr>\n",
       "      <th>1</th>\n",
       "      <td>3545707052733304728</td>\n",
       "      <td>327823</td>\n",
       "    </tr>\n",
       "    <tr>\n",
       "      <th>2</th>\n",
       "      <td>1451354159195218418</td>\n",
       "      <td>334485</td>\n",
       "    </tr>\n",
       "    <tr>\n",
       "      <th>3</th>\n",
       "      <td>-7773938200482214258</td>\n",
       "      <td>343795</td>\n",
       "    </tr>\n",
       "    <tr>\n",
       "      <th>4</th>\n",
       "      <td>-328012383083104805</td>\n",
       "      <td>359891</td>\n",
       "    </tr>\n",
       "  </tbody>\n",
       "</table>\n",
       "</div>"
      ],
      "text/plain": [
       "             hashmonth  num_babies\n",
       "0 -1403073183891835564      351299\n",
       "1  3545707052733304728      327823\n",
       "2  1451354159195218418      334485\n",
       "3 -7773938200482214258      343795\n",
       "4  -328012383083104805      359891"
      ]
     },
     "execution_count": 4,
     "metadata": {},
     "output_type": "execute_result"
    }
   ],
   "source": [
    "# Call BigQuery but GROUP BY the hashmonth and see number of records for each group to enable us to get the correct train and evaluation percentages\n",
    "df = bq.Query(\"SELECT hashmonth, COUNT(weight_pounds) AS num_babies FROM (\" + query + \") GROUP BY hashmonth\").execute().result().to_dataframe()\n",
    "print(\"There are {} unique hashmonths.\".format(len(df)))\n",
    "df.head()"
   ]
  },
  {
   "cell_type": "markdown",
   "metadata": {},
   "source": [
    "Here's a way to get a well distributed portion of the data in such a way that the test and train sets do not overlap:"
   ]
  },
  {
   "cell_type": "code",
   "execution_count": 5,
   "metadata": {
    "collapsed": false
   },
   "outputs": [
    {
     "data": {
      "text/html": [
       "\n",
       "          <script src=\"/static/components/requirejs/require.js\"></script>\n",
       "          <script>\n",
       "            requirejs.config({\n",
       "              paths: {\n",
       "                base: '/static/base',\n",
       "              },\n",
       "            });\n",
       "          </script>\n",
       "          "
      ],
      "text/plain": [
       "<IPython.core.display.HTML object>"
      ]
     },
     "metadata": {},
     "output_type": "display_data"
    },
    {
     "name": "stdout",
     "output_type": "stream",
     "text": [
      "There are 15083 examples in the train dataset and 1511 in the eval dataset\n"
     ]
    }
   ],
   "source": [
    "# Added the RAND() so that we can now subsample from each of the hashmonths to get approximately the record counts we want\n",
    "trainQuery = \"SELECT * FROM (\" + query + \") WHERE MOD(hashmonth, 4) < 3 AND RAND() < 0.0005\"\n",
    "evalQuery = \"SELECT * FROM (\" + query + \") WHERE MOD(hashmonth, 4) = 3 AND RAND() < 0.0005\"\n",
    "traindf = bq.Query(trainQuery).execute().result().to_dataframe()\n",
    "evaldf = bq.Query(evalQuery).execute().result().to_dataframe()\n",
    "print(\"There are {} examples in the train dataset and {} in the eval dataset\".format(len(traindf), len(evaldf)))"
   ]
  },
  {
   "cell_type": "markdown",
   "metadata": {},
   "source": [
    "<h2> Preprocess data using Pandas </h2>\n",
    "<p>\n",
    "Let's add extra rows to simulate the lack of ultrasound. In the process, we'll also change the plurality column to be a string."
   ]
  },
  {
   "cell_type": "code",
   "execution_count": 6,
   "metadata": {
    "collapsed": false
   },
   "outputs": [
    {
     "data": {
      "text/html": [
       "\n",
       "          <script src=\"/static/components/requirejs/require.js\"></script>\n",
       "          <script>\n",
       "            requirejs.config({\n",
       "              paths: {\n",
       "                base: '/static/base',\n",
       "              },\n",
       "            });\n",
       "          </script>\n",
       "          "
      ],
      "text/plain": [
       "<IPython.core.display.HTML object>"
      ]
     },
     "metadata": {},
     "output_type": "display_data"
    },
    {
     "data": {
      "text/html": [
       "<div>\n",
       "<table border=\"1\" class=\"dataframe\">\n",
       "  <thead>\n",
       "    <tr style=\"text-align: right;\">\n",
       "      <th></th>\n",
       "      <th>weight_pounds</th>\n",
       "      <th>is_male</th>\n",
       "      <th>mother_age</th>\n",
       "      <th>plurality</th>\n",
       "      <th>gestation_weeks</th>\n",
       "      <th>hashmonth</th>\n",
       "    </tr>\n",
       "  </thead>\n",
       "  <tbody>\n",
       "    <tr>\n",
       "      <th>0</th>\n",
       "      <td>6.988654</td>\n",
       "      <td>True</td>\n",
       "      <td>13</td>\n",
       "      <td>1</td>\n",
       "      <td>38.0</td>\n",
       "      <td>-9068386407968572094</td>\n",
       "    </tr>\n",
       "    <tr>\n",
       "      <th>1</th>\n",
       "      <td>6.812284</td>\n",
       "      <td>True</td>\n",
       "      <td>13</td>\n",
       "      <td>1</td>\n",
       "      <td>40.0</td>\n",
       "      <td>-1922480672677032316</td>\n",
       "    </tr>\n",
       "    <tr>\n",
       "      <th>2</th>\n",
       "      <td>6.444112</td>\n",
       "      <td>True</td>\n",
       "      <td>13</td>\n",
       "      <td>1</td>\n",
       "      <td>39.0</td>\n",
       "      <td>-5937540421097454372</td>\n",
       "    </tr>\n",
       "    <tr>\n",
       "      <th>3</th>\n",
       "      <td>6.563162</td>\n",
       "      <td>True</td>\n",
       "      <td>13</td>\n",
       "      <td>1</td>\n",
       "      <td>34.0</td>\n",
       "      <td>7895641210289919997</td>\n",
       "    </tr>\n",
       "    <tr>\n",
       "      <th>4</th>\n",
       "      <td>3.875727</td>\n",
       "      <td>False</td>\n",
       "      <td>14</td>\n",
       "      <td>1</td>\n",
       "      <td>31.0</td>\n",
       "      <td>1011945037241428753</td>\n",
       "    </tr>\n",
       "  </tbody>\n",
       "</table>\n",
       "</div>"
      ],
      "text/plain": [
       "   weight_pounds is_male  mother_age  plurality  gestation_weeks  \\\n",
       "0       6.988654    True          13          1             38.0   \n",
       "1       6.812284    True          13          1             40.0   \n",
       "2       6.444112    True          13          1             39.0   \n",
       "3       6.563162    True          13          1             34.0   \n",
       "4       3.875727   False          14          1             31.0   \n",
       "\n",
       "             hashmonth  \n",
       "0 -9068386407968572094  \n",
       "1 -1922480672677032316  \n",
       "2 -5937540421097454372  \n",
       "3  7895641210289919997  \n",
       "4  1011945037241428753  "
      ]
     },
     "execution_count": 6,
     "metadata": {},
     "output_type": "execute_result"
    }
   ],
   "source": [
    "traindf.head()"
   ]
  },
  {
   "cell_type": "markdown",
   "metadata": {},
   "source": [
    "Also notice that there are some very important numeric fields that are missing in some rows (the count in Pandas doesn't count missing data)"
   ]
  },
  {
   "cell_type": "code",
   "execution_count": 7,
   "metadata": {
    "collapsed": false
   },
   "outputs": [
    {
     "data": {
      "text/html": [
       "\n",
       "          <script src=\"/static/components/requirejs/require.js\"></script>\n",
       "          <script>\n",
       "            requirejs.config({\n",
       "              paths: {\n",
       "                base: '/static/base',\n",
       "              },\n",
       "            });\n",
       "          </script>\n",
       "          "
      ],
      "text/plain": [
       "<IPython.core.display.HTML object>"
      ]
     },
     "metadata": {},
     "output_type": "display_data"
    },
    {
     "data": {
      "text/html": [
       "<div>\n",
       "<table border=\"1\" class=\"dataframe\">\n",
       "  <thead>\n",
       "    <tr style=\"text-align: right;\">\n",
       "      <th></th>\n",
       "      <th>weight_pounds</th>\n",
       "      <th>mother_age</th>\n",
       "      <th>plurality</th>\n",
       "      <th>gestation_weeks</th>\n",
       "      <th>hashmonth</th>\n",
       "    </tr>\n",
       "  </thead>\n",
       "  <tbody>\n",
       "    <tr>\n",
       "      <th>count</th>\n",
       "      <td>15069.000000</td>\n",
       "      <td>15083.000000</td>\n",
       "      <td>15083.000000</td>\n",
       "      <td>14975.000000</td>\n",
       "      <td>1.508300e+04</td>\n",
       "    </tr>\n",
       "    <tr>\n",
       "      <th>mean</th>\n",
       "      <td>7.222424</td>\n",
       "      <td>27.328781</td>\n",
       "      <td>1.033017</td>\n",
       "      <td>38.612821</td>\n",
       "      <td>-3.138648e+17</td>\n",
       "    </tr>\n",
       "    <tr>\n",
       "      <th>std</th>\n",
       "      <td>1.310411</td>\n",
       "      <td>6.178642</td>\n",
       "      <td>0.190191</td>\n",
       "      <td>2.545370</td>\n",
       "      <td>5.227885e+18</td>\n",
       "    </tr>\n",
       "    <tr>\n",
       "      <th>min</th>\n",
       "      <td>0.500449</td>\n",
       "      <td>13.000000</td>\n",
       "      <td>1.000000</td>\n",
       "      <td>17.000000</td>\n",
       "      <td>-9.183606e+18</td>\n",
       "    </tr>\n",
       "    <tr>\n",
       "      <th>25%</th>\n",
       "      <td>6.563162</td>\n",
       "      <td>22.000000</td>\n",
       "      <td>1.000000</td>\n",
       "      <td>38.000000</td>\n",
       "      <td>-4.979698e+18</td>\n",
       "    </tr>\n",
       "    <tr>\n",
       "      <th>50%</th>\n",
       "      <td>7.312733</td>\n",
       "      <td>27.000000</td>\n",
       "      <td>1.000000</td>\n",
       "      <td>39.000000</td>\n",
       "      <td>-1.002950e+18</td>\n",
       "    </tr>\n",
       "    <tr>\n",
       "      <th>75%</th>\n",
       "      <td>8.000575</td>\n",
       "      <td>32.000000</td>\n",
       "      <td>1.000000</td>\n",
       "      <td>40.000000</td>\n",
       "      <td>3.572456e+18</td>\n",
       "    </tr>\n",
       "    <tr>\n",
       "      <th>max</th>\n",
       "      <td>13.999354</td>\n",
       "      <td>49.000000</td>\n",
       "      <td>4.000000</td>\n",
       "      <td>47.000000</td>\n",
       "      <td>8.599690e+18</td>\n",
       "    </tr>\n",
       "  </tbody>\n",
       "</table>\n",
       "</div>"
      ],
      "text/plain": [
       "       weight_pounds    mother_age     plurality  gestation_weeks  \\\n",
       "count   15069.000000  15083.000000  15083.000000     14975.000000   \n",
       "mean        7.222424     27.328781      1.033017        38.612821   \n",
       "std         1.310411      6.178642      0.190191         2.545370   \n",
       "min         0.500449     13.000000      1.000000        17.000000   \n",
       "25%         6.563162     22.000000      1.000000        38.000000   \n",
       "50%         7.312733     27.000000      1.000000        39.000000   \n",
       "75%         8.000575     32.000000      1.000000        40.000000   \n",
       "max        13.999354     49.000000      4.000000        47.000000   \n",
       "\n",
       "          hashmonth  \n",
       "count  1.508300e+04  \n",
       "mean  -3.138648e+17  \n",
       "std    5.227885e+18  \n",
       "min   -9.183606e+18  \n",
       "25%   -4.979698e+18  \n",
       "50%   -1.002950e+18  \n",
       "75%    3.572456e+18  \n",
       "max    8.599690e+18  "
      ]
     },
     "execution_count": 7,
     "metadata": {},
     "output_type": "execute_result"
    }
   ],
   "source": [
    "# Let's look at a small sample of the training data\n",
    "traindf.describe()"
   ]
  },
  {
   "cell_type": "code",
   "execution_count": 10,
   "metadata": {
    "collapsed": false
   },
   "outputs": [
    {
     "data": {
      "text/html": [
       "\n",
       "          <script src=\"/static/components/requirejs/require.js\"></script>\n",
       "          <script>\n",
       "            requirejs.config({\n",
       "              paths: {\n",
       "                base: '/static/base',\n",
       "              },\n",
       "            });\n",
       "          </script>\n",
       "          "
      ],
      "text/plain": [
       "<IPython.core.display.HTML object>"
      ]
     },
     "metadata": {},
     "output_type": "display_data"
    }
   ],
   "source": [
    "# It is always crucial to clean raw data before using in ML, so we have a preprocessing step\n",
    "import pandas as pd\n",
    "def preprocess(df):\n",
    "  # clean up data we don't want to train on\n",
    "  # in other words, users will have to tell us the mother's age\n",
    "  # otherwise, our ML service won't work.\n",
    "  # these were chosen because they are such good predictors\n",
    "  # and because these are easy enough to collect\n",
    "  df = df[df.weight_pounds > 0]\n",
    "  df = df[df.mother_age > 0]\n",
    "  df = df[df.gestation_weeks > 0]\n",
    "  df = df[df.plurality > 0]\n",
    "  \n",
    "  # modify plurality field to be a string\n",
    "  twins_etc = dict(zip([1,2,3,4,5],\n",
    "                   ['Single(1)', 'Twins(2)', 'Triplets(3)', 'Quadruplets(4)', 'Quintuplets(5)']))\n",
    "  df['plurality'].replace(twins_etc, inplace=True)\n",
    "  \n",
    "  # now create extra rows to simulate lack of ultrasound\n",
    "  nous = df.copy(deep=True)\n",
    "  nous.loc[nous['plurality'] != 'Single(1)', 'plurality'] = 'Multiple(2+)'\n",
    "  nous['is_male'] = 'Unknown'\n",
    "  \n",
    "  return pd.concat([df, nous])"
   ]
  },
  {
   "cell_type": "code",
   "execution_count": 11,
   "metadata": {
    "collapsed": false
   },
   "outputs": [
    {
     "data": {
      "text/html": [
       "\n",
       "          <script src=\"/static/components/requirejs/require.js\"></script>\n",
       "          <script>\n",
       "            requirejs.config({\n",
       "              paths: {\n",
       "                base: '/static/base',\n",
       "              },\n",
       "            });\n",
       "          </script>\n",
       "          "
      ],
      "text/plain": [
       "<IPython.core.display.HTML object>"
      ]
     },
     "metadata": {},
     "output_type": "display_data"
    },
    {
     "data": {
      "text/html": [
       "<div>\n",
       "<table border=\"1\" class=\"dataframe\">\n",
       "  <thead>\n",
       "    <tr style=\"text-align: right;\">\n",
       "      <th></th>\n",
       "      <th>weight_pounds</th>\n",
       "      <th>is_male</th>\n",
       "      <th>mother_age</th>\n",
       "      <th>plurality</th>\n",
       "      <th>gestation_weeks</th>\n",
       "      <th>hashmonth</th>\n",
       "    </tr>\n",
       "  </thead>\n",
       "  <tbody>\n",
       "    <tr>\n",
       "      <th>0</th>\n",
       "      <td>6.988654</td>\n",
       "      <td>True</td>\n",
       "      <td>13</td>\n",
       "      <td>Single(1)</td>\n",
       "      <td>38.0</td>\n",
       "      <td>-9068386407968572094</td>\n",
       "    </tr>\n",
       "    <tr>\n",
       "      <th>1</th>\n",
       "      <td>6.812284</td>\n",
       "      <td>True</td>\n",
       "      <td>13</td>\n",
       "      <td>Single(1)</td>\n",
       "      <td>40.0</td>\n",
       "      <td>-1922480672677032316</td>\n",
       "    </tr>\n",
       "    <tr>\n",
       "      <th>2</th>\n",
       "      <td>6.444112</td>\n",
       "      <td>True</td>\n",
       "      <td>13</td>\n",
       "      <td>Single(1)</td>\n",
       "      <td>39.0</td>\n",
       "      <td>-5937540421097454372</td>\n",
       "    </tr>\n",
       "    <tr>\n",
       "      <th>3</th>\n",
       "      <td>6.563162</td>\n",
       "      <td>True</td>\n",
       "      <td>13</td>\n",
       "      <td>Single(1)</td>\n",
       "      <td>34.0</td>\n",
       "      <td>7895641210289919997</td>\n",
       "    </tr>\n",
       "    <tr>\n",
       "      <th>4</th>\n",
       "      <td>3.875727</td>\n",
       "      <td>False</td>\n",
       "      <td>14</td>\n",
       "      <td>Single(1)</td>\n",
       "      <td>31.0</td>\n",
       "      <td>1011945037241428753</td>\n",
       "    </tr>\n",
       "  </tbody>\n",
       "</table>\n",
       "</div>"
      ],
      "text/plain": [
       "   weight_pounds is_male  mother_age  plurality  gestation_weeks  \\\n",
       "0       6.988654    True          13  Single(1)             38.0   \n",
       "1       6.812284    True          13  Single(1)             40.0   \n",
       "2       6.444112    True          13  Single(1)             39.0   \n",
       "3       6.563162    True          13  Single(1)             34.0   \n",
       "4       3.875727   False          14  Single(1)             31.0   \n",
       "\n",
       "             hashmonth  \n",
       "0 -9068386407968572094  \n",
       "1 -1922480672677032316  \n",
       "2 -5937540421097454372  \n",
       "3  7895641210289919997  \n",
       "4  1011945037241428753  "
      ]
     },
     "execution_count": 11,
     "metadata": {},
     "output_type": "execute_result"
    }
   ],
   "source": [
    "traindf.head()# Let's see a small sample of the training data now after our preprocessing\n",
    "traindf = preprocess(traindf)\n",
    "evaldf = preprocess(evaldf)\n",
    "traindf.head()"
   ]
  },
  {
   "cell_type": "code",
   "execution_count": 12,
   "metadata": {
    "collapsed": false
   },
   "outputs": [
    {
     "data": {
      "text/html": [
       "\n",
       "          <script src=\"/static/components/requirejs/require.js\"></script>\n",
       "          <script>\n",
       "            requirejs.config({\n",
       "              paths: {\n",
       "                base: '/static/base',\n",
       "              },\n",
       "            });\n",
       "          </script>\n",
       "          "
      ],
      "text/plain": [
       "<IPython.core.display.HTML object>"
      ]
     },
     "metadata": {},
     "output_type": "display_data"
    },
    {
     "data": {
      "text/html": [
       "<div>\n",
       "<table border=\"1\" class=\"dataframe\">\n",
       "  <thead>\n",
       "    <tr style=\"text-align: right;\">\n",
       "      <th></th>\n",
       "      <th>weight_pounds</th>\n",
       "      <th>is_male</th>\n",
       "      <th>mother_age</th>\n",
       "      <th>plurality</th>\n",
       "      <th>gestation_weeks</th>\n",
       "      <th>hashmonth</th>\n",
       "    </tr>\n",
       "  </thead>\n",
       "  <tbody>\n",
       "    <tr>\n",
       "      <th>15077</th>\n",
       "      <td>8.562754</td>\n",
       "      <td>Unknown</td>\n",
       "      <td>47</td>\n",
       "      <td>Single(1)</td>\n",
       "      <td>39.0</td>\n",
       "      <td>-4701948054522374613</td>\n",
       "    </tr>\n",
       "    <tr>\n",
       "      <th>15078</th>\n",
       "      <td>9.735613</td>\n",
       "      <td>Unknown</td>\n",
       "      <td>47</td>\n",
       "      <td>Single(1)</td>\n",
       "      <td>39.0</td>\n",
       "      <td>124458947937444850</td>\n",
       "    </tr>\n",
       "    <tr>\n",
       "      <th>15080</th>\n",
       "      <td>9.539402</td>\n",
       "      <td>Unknown</td>\n",
       "      <td>49</td>\n",
       "      <td>Single(1)</td>\n",
       "      <td>39.0</td>\n",
       "      <td>8599690069971956834</td>\n",
       "    </tr>\n",
       "    <tr>\n",
       "      <th>15081</th>\n",
       "      <td>3.249614</td>\n",
       "      <td>Unknown</td>\n",
       "      <td>49</td>\n",
       "      <td>Multiple(2+)</td>\n",
       "      <td>31.0</td>\n",
       "      <td>1148502204931914436</td>\n",
       "    </tr>\n",
       "    <tr>\n",
       "      <th>15082</th>\n",
       "      <td>4.750962</td>\n",
       "      <td>Unknown</td>\n",
       "      <td>49</td>\n",
       "      <td>Single(1)</td>\n",
       "      <td>36.0</td>\n",
       "      <td>7895641210289919997</td>\n",
       "    </tr>\n",
       "  </tbody>\n",
       "</table>\n",
       "</div>"
      ],
      "text/plain": [
       "       weight_pounds  is_male  mother_age     plurality  gestation_weeks  \\\n",
       "15077       8.562754  Unknown          47     Single(1)             39.0   \n",
       "15078       9.735613  Unknown          47     Single(1)             39.0   \n",
       "15080       9.539402  Unknown          49     Single(1)             39.0   \n",
       "15081       3.249614  Unknown          49  Multiple(2+)             31.0   \n",
       "15082       4.750962  Unknown          49     Single(1)             36.0   \n",
       "\n",
       "                 hashmonth  \n",
       "15077 -4701948054522374613  \n",
       "15078   124458947937444850  \n",
       "15080  8599690069971956834  \n",
       "15081  1148502204931914436  \n",
       "15082  7895641210289919997  "
      ]
     },
     "execution_count": 12,
     "metadata": {},
     "output_type": "execute_result"
    }
   ],
   "source": [
    "traindf.tail()"
   ]
  },
  {
   "cell_type": "code",
   "execution_count": 13,
   "metadata": {
    "collapsed": false
   },
   "outputs": [
    {
     "data": {
      "text/html": [
       "\n",
       "          <script src=\"/static/components/requirejs/require.js\"></script>\n",
       "          <script>\n",
       "            requirejs.config({\n",
       "              paths: {\n",
       "                base: '/static/base',\n",
       "              },\n",
       "            });\n",
       "          </script>\n",
       "          "
      ],
      "text/plain": [
       "<IPython.core.display.HTML object>"
      ]
     },
     "metadata": {},
     "output_type": "display_data"
    },
    {
     "data": {
      "text/html": [
       "<div>\n",
       "<table border=\"1\" class=\"dataframe\">\n",
       "  <thead>\n",
       "    <tr style=\"text-align: right;\">\n",
       "      <th></th>\n",
       "      <th>weight_pounds</th>\n",
       "      <th>mother_age</th>\n",
       "      <th>gestation_weeks</th>\n",
       "      <th>hashmonth</th>\n",
       "    </tr>\n",
       "  </thead>\n",
       "  <tbody>\n",
       "    <tr>\n",
       "      <th>count</th>\n",
       "      <td>29928.000000</td>\n",
       "      <td>29928.000000</td>\n",
       "      <td>29928.000000</td>\n",
       "      <td>2.992800e+04</td>\n",
       "    </tr>\n",
       "    <tr>\n",
       "      <th>mean</th>\n",
       "      <td>7.224877</td>\n",
       "      <td>27.326918</td>\n",
       "      <td>38.617749</td>\n",
       "      <td>-3.091691e+17</td>\n",
       "    </tr>\n",
       "    <tr>\n",
       "      <th>std</th>\n",
       "      <td>1.308462</td>\n",
       "      <td>6.173437</td>\n",
       "      <td>2.529335</td>\n",
       "      <td>5.225591e+18</td>\n",
       "    </tr>\n",
       "    <tr>\n",
       "      <th>min</th>\n",
       "      <td>0.500449</td>\n",
       "      <td>13.000000</td>\n",
       "      <td>17.000000</td>\n",
       "      <td>-9.183606e+18</td>\n",
       "    </tr>\n",
       "    <tr>\n",
       "      <th>25%</th>\n",
       "      <td>6.563162</td>\n",
       "      <td>22.000000</td>\n",
       "      <td>38.000000</td>\n",
       "      <td>-4.979698e+18</td>\n",
       "    </tr>\n",
       "    <tr>\n",
       "      <th>50%</th>\n",
       "      <td>7.312733</td>\n",
       "      <td>27.000000</td>\n",
       "      <td>39.000000</td>\n",
       "      <td>-1.002950e+18</td>\n",
       "    </tr>\n",
       "    <tr>\n",
       "      <th>75%</th>\n",
       "      <td>8.000575</td>\n",
       "      <td>32.000000</td>\n",
       "      <td>40.000000</td>\n",
       "      <td>3.572456e+18</td>\n",
       "    </tr>\n",
       "    <tr>\n",
       "      <th>max</th>\n",
       "      <td>13.999354</td>\n",
       "      <td>49.000000</td>\n",
       "      <td>47.000000</td>\n",
       "      <td>8.599690e+18</td>\n",
       "    </tr>\n",
       "  </tbody>\n",
       "</table>\n",
       "</div>"
      ],
      "text/plain": [
       "       weight_pounds    mother_age  gestation_weeks     hashmonth\n",
       "count   29928.000000  29928.000000     29928.000000  2.992800e+04\n",
       "mean        7.224877     27.326918        38.617749 -3.091691e+17\n",
       "std         1.308462      6.173437         2.529335  5.225591e+18\n",
       "min         0.500449     13.000000        17.000000 -9.183606e+18\n",
       "25%         6.563162     22.000000        38.000000 -4.979698e+18\n",
       "50%         7.312733     27.000000        39.000000 -1.002950e+18\n",
       "75%         8.000575     32.000000        40.000000  3.572456e+18\n",
       "max        13.999354     49.000000        47.000000  8.599690e+18"
      ]
     },
     "execution_count": 13,
     "metadata": {},
     "output_type": "execute_result"
    }
   ],
   "source": [
    "# Describe only does numeric columns, so you won't see plurality\n",
    "traindf.describe()"
   ]
  },
  {
   "cell_type": "markdown",
   "metadata": {},
   "source": [
    "<h2> Write out </h2>\n",
    "<p>\n",
    "In the final versions, we want to read from files, not Pandas dataframes. So, write the Pandas dataframes out as CSV files. \n",
    "Using CSV files gives us the advantage of shuffling during read. This is important for distributed training because some workers might be slower than others, and shuffling the data helps prevent the same data from being assigned to the slow workers.\n"
   ]
  },
  {
   "cell_type": "code",
   "execution_count": 14,
   "metadata": {
    "collapsed": false
   },
   "outputs": [
    {
     "data": {
      "text/html": [
       "\n",
       "          <script src=\"/static/components/requirejs/require.js\"></script>\n",
       "          <script>\n",
       "            requirejs.config({\n",
       "              paths: {\n",
       "                base: '/static/base',\n",
       "              },\n",
       "            });\n",
       "          </script>\n",
       "          "
      ],
      "text/plain": [
       "<IPython.core.display.HTML object>"
      ]
     },
     "metadata": {},
     "output_type": "display_data"
    }
   ],
   "source": [
    "traindf.to_csv('train.csv', index=False, header=False)\n",
    "evaldf.to_csv('eval.csv', index=False, header=False)"
   ]
  },
  {
   "cell_type": "code",
   "execution_count": 15,
   "metadata": {
    "collapsed": false
   },
   "outputs": [
    {
     "data": {
      "text/html": [
       "\n",
       "          <script src=\"/static/components/requirejs/require.js\"></script>\n",
       "          <script>\n",
       "            requirejs.config({\n",
       "              paths: {\n",
       "                base: '/static/base',\n",
       "              },\n",
       "            });\n",
       "          </script>\n",
       "          "
      ],
      "text/plain": [
       "<IPython.core.display.HTML object>"
      ]
     },
     "metadata": {},
     "output_type": "display_data"
    },
    {
     "name": "stdout",
     "output_type": "stream",
     "text": [
      "   3006 eval.csv\n",
      "  29928 train.csv\n",
      "  32934 total\n",
      "==> eval.csv <==\n",
      "5.40573466424,True,14,Single(1),38.0,1088037545023002395\n",
      "5.6879263596,False,16,Single(1),34.0,1088037545023002395\n",
      "7.936641432,False,16,Single(1),41.0,1088037545023002395\n",
      "4.49963476742,True,16,Single(1),37.0,1088037545023002395\n",
      "5.99877814902,False,17,Single(1),40.0,1088037545023002395\n",
      "8.24969784404,False,17,Single(1),39.0,1088037545023002395\n",
      "6.3889963527599996,False,18,Single(1),38.0,1088037545023002395\n",
      "7.50012615324,False,18,Single(1),40.0,1088037545023002395\n",
      "6.2611282408,False,18,Single(1),40.0,1088037545023002395\n",
      "6.4374980503999994,True,18,Single(1),37.0,1088037545023002395\n",
      "\n",
      "==> train.csv <==\n",
      "6.9886537054,True,13,Single(1),38.0,-9068386407968572094\n",
      "6.8122838958,True,13,Single(1),40.0,-1922480672677032316\n",
      "6.44411191826,True,13,Single(1),39.0,-5937540421097454372\n",
      "6.56316153974,True,13,Single(1),34.0,7895641210289919997\n",
      "3.87572656596,False,14,Single(1),31.0,1011945037241428753\n",
      "5.7981574905999995,True,14,Single(1),36.0,-6086613178753042412\n",
      "5.6769032465,True,14,Single(1),40.0,-6910174677251748583\n",
      "6.686620406459999,True,14,Single(1),37.0,-2700219941840496344\n",
      "7.81097794266,True,14,Single(1),40.0,-1305143018446161857\n",
      "6.85417172558,True,14,Single(1),40.0,-7361509899869211058\n",
      "==> eval.csv <==\n",
      "8.27394869286,Unknown,38,Single(1),40.0,74931465496927487\n",
      "8.12623897732,Unknown,38,Single(1),39.0,74931465496927487\n",
      "6.2501051276999995,Unknown,39,Single(1),37.0,74931465496927487\n",
      "6.3118345610599995,Unknown,39,Single(1),35.0,74931465496927487\n",
      "6.1883756943399995,Unknown,39,Single(1),38.0,74931465496927487\n",
      "6.59843550166,Unknown,39,Single(1),38.0,74931465496927487\n",
      "10.24929056038,Unknown,40,Single(1),40.0,74931465496927487\n",
      "7.22454832574,Unknown,40,Single(1),38.0,74931465496927487\n",
      "6.37576861704,Unknown,40,Single(1),39.0,74931465496927487\n",
      "6.2501051276999995,Unknown,43,Single(1),40.0,74931465496927487\n",
      "\n",
      "==> train.csv <==\n",
      "6.6910296517,Unknown,45,Single(1),37.0,-2768780346491825728\n",
      "8.375361333379999,Unknown,45,Single(1),41.0,-328012383083104805\n",
      "6.0009827716399995,Unknown,46,Single(1),38.0,-1005902328334352553\n",
      "2.5573622392,Unknown,46,Single(1),28.0,7108882242435606404\n",
      "6.8012607827,Unknown,47,Single(1),36.0,1443901198490054949\n",
      "8.56275425608,Unknown,47,Single(1),39.0,-4701948054522374613\n",
      "9.73561348992,Unknown,47,Single(1),39.0,124458947937444850\n",
      "9.53940207674,Unknown,49,Single(1),39.0,8599690069971956834\n",
      "3.2496137418799997,Unknown,49,Multiple(2+),31.0,1148502204931914436\n",
      "4.7509617461,Unknown,49,Single(1),36.0,7895641210289919997\n"
     ]
    }
   ],
   "source": [
    "%bash\n",
    "wc -l *.csv\n",
    "head *.csv\n",
    "tail *.csv"
   ]
  },
  {
   "cell_type": "markdown",
   "metadata": {},
   "source": [
    "Copyright 2017-2018 Google Inc. Licensed under the Apache License, Version 2.0 (the \"License\"); you may not use this file except in compliance with the License. You may obtain a copy of the License at http://www.apache.org/licenses/LICENSE-2.0 Unless required by applicable law or agreed to in writing, software distributed under the License is distributed on an \"AS IS\" BASIS, WITHOUT WARRANTIES OR CONDITIONS OF ANY KIND, either express or implied. See the License for the specific language governing permissions and limitations under the License"
   ]
  }
 ],
 "metadata": {
  "kernelspec": {
   "display_name": "Python 2",
   "language": "python",
   "name": "python2"
  },
  "language_info": {
   "codemirror_mode": {
    "name": "ipython",
    "version": 2
   },
   "file_extension": ".py",
   "mimetype": "text/x-python",
   "name": "python",
   "nbconvert_exporter": "python",
   "pygments_lexer": "ipython2",
   "version": "2.7.12"
  }
 },
 "nbformat": 4,
 "nbformat_minor": 2
}
