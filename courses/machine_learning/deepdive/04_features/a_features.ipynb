{
 "cells": [
  {
   "cell_type": "markdown",
   "metadata": {
    "colab_type": "text",
    "id": "4f3CKqFUqL2-",
    "slideshow": {
     "slide_type": "slide"
    }
   },
   "source": [
    "# Trying out features"
   ]
  },
  {
   "cell_type": "markdown",
   "metadata": {},
   "source": [
    "**Learning Objectives:**\n",
    "  * Improve the accuracy of a model by adding new features with the appropriate representation"
   ]
  },
  {
   "cell_type": "markdown",
   "metadata": {},
   "source": [
    "The data is based on 1990 census data from California. This data is at the city block level, so these features reflect the total number of rooms in that block, or the total number of people who live on that block, respectively."
   ]
  },
  {
   "cell_type": "markdown",
   "metadata": {
    "colab_type": "text",
    "id": "6TjLjL9IU80G"
   },
   "source": [
    "## Set Up\n",
    "In this first cell, we'll load the necessary libraries."
   ]
  },
  {
   "cell_type": "code",
   "execution_count": 1,
   "metadata": {
    "collapsed": false
   },
   "outputs": [
    {
     "data": {
      "text/html": [
       "\n",
       "          <script src=\"/static/components/requirejs/require.js\"></script>\n",
       "          <script>\n",
       "            requirejs.config({\n",
       "              paths: {\n",
       "                base: '/static/base',\n",
       "              },\n",
       "            });\n",
       "          </script>\n",
       "          "
      ],
      "text/plain": [
       "<IPython.core.display.HTML object>"
      ]
     },
     "metadata": {},
     "output_type": "display_data"
    }
   ],
   "source": [
    "import math\n",
    "import shutil\n",
    "import numpy as np\n",
    "import pandas as pd\n",
    "import tensorflow as tf\n",
    "\n",
    "tf.logging.set_verbosity(tf.logging.INFO)\n",
    "pd.options.display.max_rows = 10\n",
    "pd.options.display.float_format = '{:.1f}'.format"
   ]
  },
  {
   "cell_type": "markdown",
   "metadata": {
    "colab_type": "text",
    "id": "ipRyUHjhU80Q"
   },
   "source": [
    "Next, we'll load our data set."
   ]
  },
  {
   "cell_type": "code",
   "execution_count": 2,
   "metadata": {
    "collapsed": false
   },
   "outputs": [
    {
     "data": {
      "text/html": [
       "\n",
       "          <script src=\"/static/components/requirejs/require.js\"></script>\n",
       "          <script>\n",
       "            requirejs.config({\n",
       "              paths: {\n",
       "                base: '/static/base',\n",
       "              },\n",
       "            });\n",
       "          </script>\n",
       "          "
      ],
      "text/plain": [
       "<IPython.core.display.HTML object>"
      ]
     },
     "metadata": {},
     "output_type": "display_data"
    }
   ],
   "source": [
    "df = pd.read_csv(\"https://storage.googleapis.com/ml_universities/california_housing_train.csv\", sep=\",\")"
   ]
  },
  {
   "cell_type": "markdown",
   "metadata": {
    "colab_type": "text",
    "id": "HzzlSs3PtTmt",
    "slideshow": {
     "slide_type": "-"
    }
   },
   "source": [
    "## Examine and split the data\n",
    "\n",
    "It's a good idea to get to know your data a little bit before you work with it.\n",
    "\n",
    "We'll print out a quick summary of a few useful statistics on each column.\n",
    "\n",
    "This will include things like mean, standard deviation, max, min, and various quantiles."
   ]
  },
  {
   "cell_type": "code",
   "execution_count": 3,
   "metadata": {
    "collapsed": false
   },
   "outputs": [
    {
     "data": {
      "text/html": [
       "\n",
       "          <script src=\"/static/components/requirejs/require.js\"></script>\n",
       "          <script>\n",
       "            requirejs.config({\n",
       "              paths: {\n",
       "                base: '/static/base',\n",
       "              },\n",
       "            });\n",
       "          </script>\n",
       "          "
      ],
      "text/plain": [
       "<IPython.core.display.HTML object>"
      ]
     },
     "metadata": {},
     "output_type": "display_data"
    },
    {
     "data": {
      "text/html": [
       "<div>\n",
       "<table border=\"1\" class=\"dataframe\">\n",
       "  <thead>\n",
       "    <tr style=\"text-align: right;\">\n",
       "      <th></th>\n",
       "      <th>longitude</th>\n",
       "      <th>latitude</th>\n",
       "      <th>housing_median_age</th>\n",
       "      <th>total_rooms</th>\n",
       "      <th>total_bedrooms</th>\n",
       "      <th>population</th>\n",
       "      <th>households</th>\n",
       "      <th>median_income</th>\n",
       "      <th>median_house_value</th>\n",
       "    </tr>\n",
       "  </thead>\n",
       "  <tbody>\n",
       "    <tr>\n",
       "      <th>0</th>\n",
       "      <td>-114.3</td>\n",
       "      <td>34.2</td>\n",
       "      <td>15.0</td>\n",
       "      <td>5612.0</td>\n",
       "      <td>1283.0</td>\n",
       "      <td>1015.0</td>\n",
       "      <td>472.0</td>\n",
       "      <td>1.5</td>\n",
       "      <td>66900.0</td>\n",
       "    </tr>\n",
       "    <tr>\n",
       "      <th>1</th>\n",
       "      <td>-114.5</td>\n",
       "      <td>34.4</td>\n",
       "      <td>19.0</td>\n",
       "      <td>7650.0</td>\n",
       "      <td>1901.0</td>\n",
       "      <td>1129.0</td>\n",
       "      <td>463.0</td>\n",
       "      <td>1.8</td>\n",
       "      <td>80100.0</td>\n",
       "    </tr>\n",
       "    <tr>\n",
       "      <th>2</th>\n",
       "      <td>-114.6</td>\n",
       "      <td>33.7</td>\n",
       "      <td>17.0</td>\n",
       "      <td>720.0</td>\n",
       "      <td>174.0</td>\n",
       "      <td>333.0</td>\n",
       "      <td>117.0</td>\n",
       "      <td>1.7</td>\n",
       "      <td>85700.0</td>\n",
       "    </tr>\n",
       "    <tr>\n",
       "      <th>3</th>\n",
       "      <td>-114.6</td>\n",
       "      <td>33.6</td>\n",
       "      <td>14.0</td>\n",
       "      <td>1501.0</td>\n",
       "      <td>337.0</td>\n",
       "      <td>515.0</td>\n",
       "      <td>226.0</td>\n",
       "      <td>3.2</td>\n",
       "      <td>73400.0</td>\n",
       "    </tr>\n",
       "    <tr>\n",
       "      <th>4</th>\n",
       "      <td>-114.6</td>\n",
       "      <td>33.6</td>\n",
       "      <td>20.0</td>\n",
       "      <td>1454.0</td>\n",
       "      <td>326.0</td>\n",
       "      <td>624.0</td>\n",
       "      <td>262.0</td>\n",
       "      <td>1.9</td>\n",
       "      <td>65500.0</td>\n",
       "    </tr>\n",
       "  </tbody>\n",
       "</table>\n",
       "</div>"
      ],
      "text/plain": [
       "   longitude  latitude  housing_median_age  total_rooms  total_bedrooms  \\\n",
       "0     -114.3      34.2                15.0       5612.0          1283.0   \n",
       "1     -114.5      34.4                19.0       7650.0          1901.0   \n",
       "2     -114.6      33.7                17.0        720.0           174.0   \n",
       "3     -114.6      33.6                14.0       1501.0           337.0   \n",
       "4     -114.6      33.6                20.0       1454.0           326.0   \n",
       "\n",
       "   population  households  median_income  median_house_value  \n",
       "0      1015.0       472.0            1.5             66900.0  \n",
       "1      1129.0       463.0            1.8             80100.0  \n",
       "2       333.0       117.0            1.7             85700.0  \n",
       "3       515.0       226.0            3.2             73400.0  \n",
       "4       624.0       262.0            1.9             65500.0  "
      ]
     },
     "execution_count": 3,
     "metadata": {},
     "output_type": "execute_result"
    }
   ],
   "source": [
    "df.head()"
   ]
  },
  {
   "cell_type": "code",
   "execution_count": 4,
   "metadata": {
    "cellView": "both",
    "colab": {
     "autoexec": {
      "startup": false,
      "wait_interval": 0
     },
     "test": {
      "output": "ignore",
      "timeout": 600
     }
    },
    "colab_type": "code",
    "collapsed": false,
    "id": "gzb10yoVrydW",
    "slideshow": {
     "slide_type": "slide"
    }
   },
   "outputs": [
    {
     "data": {
      "text/html": [
       "\n",
       "          <script src=\"/static/components/requirejs/require.js\"></script>\n",
       "          <script>\n",
       "            requirejs.config({\n",
       "              paths: {\n",
       "                base: '/static/base',\n",
       "              },\n",
       "            });\n",
       "          </script>\n",
       "          "
      ],
      "text/plain": [
       "<IPython.core.display.HTML object>"
      ]
     },
     "metadata": {},
     "output_type": "display_data"
    },
    {
     "data": {
      "text/html": [
       "<div>\n",
       "<table border=\"1\" class=\"dataframe\">\n",
       "  <thead>\n",
       "    <tr style=\"text-align: right;\">\n",
       "      <th></th>\n",
       "      <th>longitude</th>\n",
       "      <th>latitude</th>\n",
       "      <th>housing_median_age</th>\n",
       "      <th>total_rooms</th>\n",
       "      <th>total_bedrooms</th>\n",
       "      <th>population</th>\n",
       "      <th>households</th>\n",
       "      <th>median_income</th>\n",
       "      <th>median_house_value</th>\n",
       "    </tr>\n",
       "  </thead>\n",
       "  <tbody>\n",
       "    <tr>\n",
       "      <th>count</th>\n",
       "      <td>17000.0</td>\n",
       "      <td>17000.0</td>\n",
       "      <td>17000.0</td>\n",
       "      <td>17000.0</td>\n",
       "      <td>17000.0</td>\n",
       "      <td>17000.0</td>\n",
       "      <td>17000.0</td>\n",
       "      <td>17000.0</td>\n",
       "      <td>17000.0</td>\n",
       "    </tr>\n",
       "    <tr>\n",
       "      <th>mean</th>\n",
       "      <td>-119.6</td>\n",
       "      <td>35.6</td>\n",
       "      <td>28.6</td>\n",
       "      <td>2643.7</td>\n",
       "      <td>539.4</td>\n",
       "      <td>1429.6</td>\n",
       "      <td>501.2</td>\n",
       "      <td>3.9</td>\n",
       "      <td>207300.9</td>\n",
       "    </tr>\n",
       "    <tr>\n",
       "      <th>std</th>\n",
       "      <td>2.0</td>\n",
       "      <td>2.1</td>\n",
       "      <td>12.6</td>\n",
       "      <td>2179.9</td>\n",
       "      <td>421.5</td>\n",
       "      <td>1147.9</td>\n",
       "      <td>384.5</td>\n",
       "      <td>1.9</td>\n",
       "      <td>115983.8</td>\n",
       "    </tr>\n",
       "    <tr>\n",
       "      <th>min</th>\n",
       "      <td>-124.3</td>\n",
       "      <td>32.5</td>\n",
       "      <td>1.0</td>\n",
       "      <td>2.0</td>\n",
       "      <td>1.0</td>\n",
       "      <td>3.0</td>\n",
       "      <td>1.0</td>\n",
       "      <td>0.5</td>\n",
       "      <td>14999.0</td>\n",
       "    </tr>\n",
       "    <tr>\n",
       "      <th>25%</th>\n",
       "      <td>-121.8</td>\n",
       "      <td>33.9</td>\n",
       "      <td>18.0</td>\n",
       "      <td>1462.0</td>\n",
       "      <td>297.0</td>\n",
       "      <td>790.0</td>\n",
       "      <td>282.0</td>\n",
       "      <td>2.6</td>\n",
       "      <td>119400.0</td>\n",
       "    </tr>\n",
       "    <tr>\n",
       "      <th>50%</th>\n",
       "      <td>-118.5</td>\n",
       "      <td>34.2</td>\n",
       "      <td>29.0</td>\n",
       "      <td>2127.0</td>\n",
       "      <td>434.0</td>\n",
       "      <td>1167.0</td>\n",
       "      <td>409.0</td>\n",
       "      <td>3.5</td>\n",
       "      <td>180400.0</td>\n",
       "    </tr>\n",
       "    <tr>\n",
       "      <th>75%</th>\n",
       "      <td>-118.0</td>\n",
       "      <td>37.7</td>\n",
       "      <td>37.0</td>\n",
       "      <td>3151.2</td>\n",
       "      <td>648.2</td>\n",
       "      <td>1721.0</td>\n",
       "      <td>605.2</td>\n",
       "      <td>4.8</td>\n",
       "      <td>265000.0</td>\n",
       "    </tr>\n",
       "    <tr>\n",
       "      <th>max</th>\n",
       "      <td>-114.3</td>\n",
       "      <td>42.0</td>\n",
       "      <td>52.0</td>\n",
       "      <td>37937.0</td>\n",
       "      <td>6445.0</td>\n",
       "      <td>35682.0</td>\n",
       "      <td>6082.0</td>\n",
       "      <td>15.0</td>\n",
       "      <td>500001.0</td>\n",
       "    </tr>\n",
       "  </tbody>\n",
       "</table>\n",
       "</div>"
      ],
      "text/plain": [
       "       longitude  latitude  housing_median_age  total_rooms  total_bedrooms  \\\n",
       "count    17000.0   17000.0             17000.0      17000.0         17000.0   \n",
       "mean      -119.6      35.6                28.6       2643.7           539.4   \n",
       "std          2.0       2.1                12.6       2179.9           421.5   \n",
       "min       -124.3      32.5                 1.0          2.0             1.0   \n",
       "25%       -121.8      33.9                18.0       1462.0           297.0   \n",
       "50%       -118.5      34.2                29.0       2127.0           434.0   \n",
       "75%       -118.0      37.7                37.0       3151.2           648.2   \n",
       "max       -114.3      42.0                52.0      37937.0          6445.0   \n",
       "\n",
       "       population  households  median_income  median_house_value  \n",
       "count     17000.0     17000.0        17000.0             17000.0  \n",
       "mean       1429.6       501.2            3.9            207300.9  \n",
       "std        1147.9       384.5            1.9            115983.8  \n",
       "min           3.0         1.0            0.5             14999.0  \n",
       "25%         790.0       282.0            2.6            119400.0  \n",
       "50%        1167.0       409.0            3.5            180400.0  \n",
       "75%        1721.0       605.2            4.8            265000.0  \n",
       "max       35682.0      6082.0           15.0            500001.0  "
      ]
     },
     "execution_count": 4,
     "metadata": {},
     "output_type": "execute_result"
    }
   ],
   "source": [
    "df.describe()"
   ]
  },
  {
   "cell_type": "markdown",
   "metadata": {},
   "source": [
    "Now, split the data into two parts -- training and evaluation."
   ]
  },
  {
   "cell_type": "code",
   "execution_count": 5,
   "metadata": {
    "collapsed": false
   },
   "outputs": [
    {
     "data": {
      "text/html": [
       "\n",
       "          <script src=\"/static/components/requirejs/require.js\"></script>\n",
       "          <script>\n",
       "            requirejs.config({\n",
       "              paths: {\n",
       "                base: '/static/base',\n",
       "              },\n",
       "            });\n",
       "          </script>\n",
       "          "
      ],
      "text/plain": [
       "<IPython.core.display.HTML object>"
      ]
     },
     "metadata": {},
     "output_type": "display_data"
    }
   ],
   "source": [
    "msk = np.random.rand(len(df)) < 0.8\n",
    "traindf = df[msk]\n",
    "evaldf = df[~msk]"
   ]
  },
  {
   "cell_type": "markdown",
   "metadata": {},
   "source": [
    "## Training and Evaluation\n",
    "\n",
    "In this exercise, we'll be trying to predict median_house_value. It will be our label (sometimes also called a target).\n",
    "\n",
    "We'll modify the feature_cols and input function to represent the features you want to use."
   ]
  },
  {
   "cell_type": "code",
   "execution_count": 7,
   "metadata": {
    "collapsed": false
   },
   "outputs": [
    {
     "data": {
      "text/html": [
       "\n",
       "          <script src=\"/static/components/requirejs/require.js\"></script>\n",
       "          <script>\n",
       "            requirejs.config({\n",
       "              paths: {\n",
       "                base: '/static/base',\n",
       "              },\n",
       "            });\n",
       "          </script>\n",
       "          "
      ],
      "text/plain": [
       "<IPython.core.display.HTML object>"
      ]
     },
     "metadata": {},
     "output_type": "display_data"
    }
   ],
   "source": [
    "# Add more features to dataframe that you think will be representative of the data distribution\n",
    "def add_more_features(df):\n",
    "  df['num_rooms'] = df['total_rooms'] / df['households']\n",
    "  return df"
   ]
  },
  {
   "cell_type": "code",
   "execution_count": 8,
   "metadata": {
    "collapsed": false
   },
   "outputs": [
    {
     "data": {
      "text/html": [
       "\n",
       "          <script src=\"/static/components/requirejs/require.js\"></script>\n",
       "          <script>\n",
       "            requirejs.config({\n",
       "              paths: {\n",
       "                base: '/static/base',\n",
       "              },\n",
       "            });\n",
       "          </script>\n",
       "          "
      ],
      "text/plain": [
       "<IPython.core.display.HTML object>"
      ]
     },
     "metadata": {},
     "output_type": "display_data"
    }
   ],
   "source": [
    "# Create pandas input function\n",
    "def make_input_fn(df, num_epochs):\n",
    "  return tf.estimator.inputs.pandas_input_fn(\n",
    "    x = add_more_features(df),\n",
    "    y = df['median_house_value'] / 100000, # will talk about why later in the course\n",
    "    batch_size = 128,\n",
    "    num_epochs = num_epochs,\n",
    "    shuffle = True,\n",
    "    queue_capacity = 1000,\n",
    "    num_threads = 1\n",
    "  )"
   ]
  },
  {
   "cell_type": "code",
   "execution_count": 9,
   "metadata": {
    "collapsed": false
   },
   "outputs": [
    {
     "data": {
      "text/html": [
       "\n",
       "          <script src=\"/static/components/requirejs/require.js\"></script>\n",
       "          <script>\n",
       "            requirejs.config({\n",
       "              paths: {\n",
       "                base: '/static/base',\n",
       "              },\n",
       "            });\n",
       "          </script>\n",
       "          "
      ],
      "text/plain": [
       "<IPython.core.display.HTML object>"
      ]
     },
     "metadata": {},
     "output_type": "display_data"
    }
   ],
   "source": [
    "# Define your feature columns\n",
    "def create_feature_cols():\n",
    "  return [\n",
    "    tf.feature_column.numeric_column('housing_median_age'),\n",
    "    tf.feature_column.bucketized_column(tf.feature_column.numeric_column('latitude'), boundaries = np.arange(32.0, 42, 1).tolist()),\n",
    "    tf.feature_column.numeric_column('num_rooms'),\n",
    "    tf.feature_column.numeric_column('median_income')\n",
    "  ]"
   ]
  },
  {
   "cell_type": "code",
   "execution_count": 10,
   "metadata": {
    "collapsed": false
   },
   "outputs": [
    {
     "data": {
      "text/html": [
       "\n",
       "          <script src=\"/static/components/requirejs/require.js\"></script>\n",
       "          <script>\n",
       "            requirejs.config({\n",
       "              paths: {\n",
       "                base: '/static/base',\n",
       "              },\n",
       "            });\n",
       "          </script>\n",
       "          "
      ],
      "text/plain": [
       "<IPython.core.display.HTML object>"
      ]
     },
     "metadata": {},
     "output_type": "display_data"
    }
   ],
   "source": [
    "# Create estimator train and evaluate function\n",
    "def train_and_evaluate(output_dir, num_train_steps):\n",
    "  estimator = tf.estimator.LinearRegressor(model_dir = output_dir, feature_columns = create_feature_cols())\n",
    "  train_spec = tf.estimator.TrainSpec(input_fn = make_input_fn(traindf, 8), \n",
    "                                      max_steps = num_train_steps)\n",
    "  eval_spec = tf.estimator.EvalSpec(input_fn = make_input_fn(evaldf, 1), \n",
    "                                    steps = None, \n",
    "                                    start_delay_secs = 1, # start evaluating after N seconds, \n",
    "                                    throttle_secs = 10)  # evaluate every N seconds\n",
    "  tf.estimator.train_and_evaluate(estimator, train_spec, eval_spec)"
   ]
  },
  {
   "cell_type": "code",
   "execution_count": 11,
   "metadata": {
    "collapsed": false
   },
   "outputs": [
    {
     "data": {
      "text/html": [
       "\n",
       "          <script src=\"/static/components/requirejs/require.js\"></script>\n",
       "          <script>\n",
       "            requirejs.config({\n",
       "              paths: {\n",
       "                base: '/static/base',\n",
       "              },\n",
       "            });\n",
       "          </script>\n",
       "          "
      ],
      "text/plain": [
       "<IPython.core.display.HTML object>"
      ]
     },
     "metadata": {},
     "output_type": "display_data"
    },
    {
     "name": "stdout",
     "output_type": "stream",
     "text": [
      "INFO:tensorflow:Using default config.\n",
      "INFO:tensorflow:Using config: {'_save_checkpoints_secs': 600, '_session_config': None, '_keep_checkpoint_max': 5, '_task_type': 'worker', '_is_chief': True, '_cluster_spec': <tensorflow.python.training.server_lib.ClusterSpec object at 0x7f906b243d90>, '_save_checkpoints_steps': None, '_keep_checkpoint_every_n_hours': 10000, '_service': None, '_num_ps_replicas': 0, '_tf_random_seed': None, '_master': '', '_num_worker_replicas': 1, '_task_id': 0, '_log_step_count_steps': 100, '_model_dir': './trained_model', '_save_summary_steps': 100}\n",
      "INFO:tensorflow:Running training and evaluation locally (non-distributed).\n",
      "INFO:tensorflow:Start train and evaluate loop. The evaluate will happen after 10 secs (eval_spec.throttle_secs) or training is finished.\n"
     ]
    },
    {
     "name": "stderr",
     "output_type": "stream",
     "text": [
      "/usr/local/lib/python2.7/dist-packages/ipykernel/__main__.py:3: SettingWithCopyWarning: \n",
      "A value is trying to be set on a copy of a slice from a DataFrame.\n",
      "Try using .loc[row_indexer,col_indexer] = value instead\n",
      "\n",
      "See the caveats in the documentation: http://pandas.pydata.org/pandas-docs/stable/indexing.html#indexing-view-versus-copy\n",
      "  app.launch_new_instance()\n"
     ]
    },
    {
     "name": "stdout",
     "output_type": "stream",
     "text": [
      "INFO:tensorflow:Create CheckpointSaverHook.\n",
      "INFO:tensorflow:Saving checkpoints for 1 into ./trained_model/model.ckpt.\n",
      "INFO:tensorflow:loss = 777.2799, step = 1\n",
      "INFO:tensorflow:global_step/sec: 218.797\n",
      "INFO:tensorflow:loss = 106.926315, step = 101 (0.463 sec)\n",
      "INFO:tensorflow:global_step/sec: 223.663\n",
      "INFO:tensorflow:loss = 88.84267, step = 201 (0.445 sec)\n",
      "INFO:tensorflow:global_step/sec: 218.878\n",
      "INFO:tensorflow:loss = 91.31009, step = 301 (0.459 sec)\n",
      "INFO:tensorflow:global_step/sec: 225.412\n",
      "INFO:tensorflow:loss = 43.841667, step = 401 (0.443 sec)\n",
      "INFO:tensorflow:global_step/sec: 223.736\n",
      "INFO:tensorflow:loss = 82.97925, step = 501 (0.448 sec)\n",
      "INFO:tensorflow:global_step/sec: 214.919\n",
      "INFO:tensorflow:loss = 126.71311, step = 601 (0.464 sec)\n",
      "INFO:tensorflow:global_step/sec: 210.137\n",
      "INFO:tensorflow:loss = 63.899998, step = 701 (0.474 sec)\n",
      "INFO:tensorflow:global_step/sec: 218.046\n",
      "INFO:tensorflow:loss = 43.52455, step = 801 (0.462 sec)\n",
      "INFO:tensorflow:Saving checkpoints for 848 into ./trained_model/model.ckpt.\n",
      "INFO:tensorflow:Loss for final step: 6.472192.\n",
      "INFO:tensorflow:Starting evaluation at 2018-02-06-05:48:20\n",
      "INFO:tensorflow:Restoring parameters from ./trained_model/model.ckpt-848\n",
      "INFO:tensorflow:Finished evaluation at 2018-02-06-05:48:21\n",
      "INFO:tensorflow:Saving dict for global step 848: average_loss = 0.7075073, global_step = 848, loss = 90.194084\n",
      "INFO:tensorflow:Create CheckpointSaverHook.\n",
      "INFO:tensorflow:Restoring parameters from ./trained_model/model.ckpt-848\n",
      "INFO:tensorflow:Saving checkpoints for 849 into ./trained_model/model.ckpt.\n",
      "INFO:tensorflow:loss = 95.685776, step = 849\n",
      "INFO:tensorflow:global_step/sec: 221.031\n",
      "INFO:tensorflow:loss = 91.0182, step = 949 (0.462 sec)\n",
      "INFO:tensorflow:global_step/sec: 237.675\n",
      "INFO:tensorflow:loss = 30.0704, step = 1049 (0.417 sec)\n",
      "INFO:tensorflow:global_step/sec: 252.549\n",
      "INFO:tensorflow:loss = 45.929768, step = 1149 (0.395 sec)\n",
      "INFO:tensorflow:global_step/sec: 257.048\n",
      "INFO:tensorflow:loss = 54.37513, step = 1249 (0.392 sec)\n",
      "INFO:tensorflow:global_step/sec: 254.344\n",
      "INFO:tensorflow:loss = 40.275215, step = 1349 (0.390 sec)\n",
      "INFO:tensorflow:global_step/sec: 247.094\n",
      "INFO:tensorflow:loss = 131.14674, step = 1449 (0.410 sec)\n",
      "INFO:tensorflow:global_step/sec: 263.321\n",
      "INFO:tensorflow:loss = 115.264435, step = 1549 (0.375 sec)\n",
      "INFO:tensorflow:global_step/sec: 264.067\n",
      "INFO:tensorflow:loss = 55.387806, step = 1649 (0.378 sec)\n",
      "INFO:tensorflow:Saving checkpoints for 1696 into ./trained_model/model.ckpt.\n",
      "INFO:tensorflow:Loss for final step: 12.442864.\n",
      "INFO:tensorflow:Starting evaluation at 2018-02-06-05:48:26\n",
      "INFO:tensorflow:Restoring parameters from ./trained_model/model.ckpt-1696\n",
      "INFO:tensorflow:Finished evaluation at 2018-02-06-05:48:26\n",
      "INFO:tensorflow:Saving dict for global step 1696: average_loss = 0.68515265, global_step = 1696, loss = 87.34428\n",
      "INFO:tensorflow:Create CheckpointSaverHook.\n",
      "INFO:tensorflow:Restoring parameters from ./trained_model/model.ckpt-1696\n",
      "INFO:tensorflow:Saving checkpoints for 1697 into ./trained_model/model.ckpt.\n",
      "INFO:tensorflow:loss = 133.21634, step = 1697\n",
      "INFO:tensorflow:global_step/sec: 204.289\n",
      "INFO:tensorflow:loss = 104.15982, step = 1797 (0.494 sec)\n",
      "INFO:tensorflow:global_step/sec: 286.538\n",
      "INFO:tensorflow:loss = 43.113235, step = 1897 (0.350 sec)\n",
      "INFO:tensorflow:global_step/sec: 257.888\n",
      "INFO:tensorflow:loss = 77.1316, step = 1997 (0.387 sec)\n",
      "INFO:tensorflow:global_step/sec: 272.127\n",
      "INFO:tensorflow:loss = 45.00743, step = 2097 (0.368 sec)\n",
      "INFO:tensorflow:global_step/sec: 265.415\n",
      "INFO:tensorflow:loss = 62.865513, step = 2197 (0.377 sec)\n",
      "INFO:tensorflow:global_step/sec: 289.398\n",
      "INFO:tensorflow:loss = 111.74194, step = 2297 (0.349 sec)\n",
      "INFO:tensorflow:global_step/sec: 263.694\n",
      "INFO:tensorflow:loss = 34.654568, step = 2397 (0.376 sec)\n",
      "INFO:tensorflow:global_step/sec: 252.247\n",
      "INFO:tensorflow:loss = 110.04528, step = 2497 (0.395 sec)\n",
      "INFO:tensorflow:Saving checkpoints for 2544 into ./trained_model/model.ckpt.\n",
      "INFO:tensorflow:Loss for final step: 35.482086.\n",
      "INFO:tensorflow:Starting evaluation at 2018-02-06-05:48:31\n",
      "INFO:tensorflow:Restoring parameters from ./trained_model/model.ckpt-2544\n",
      "INFO:tensorflow:Finished evaluation at 2018-02-06-05:48:31\n",
      "INFO:tensorflow:Saving dict for global step 2544: average_loss = 0.623259, global_step = 2544, loss = 79.45399\n",
      "INFO:tensorflow:Create CheckpointSaverHook.\n",
      "INFO:tensorflow:Restoring parameters from ./trained_model/model.ckpt-2544\n",
      "INFO:tensorflow:Saving checkpoints for 2545 into ./trained_model/model.ckpt.\n",
      "INFO:tensorflow:loss = 129.68082, step = 2545\n",
      "INFO:tensorflow:global_step/sec: 238.073\n",
      "INFO:tensorflow:loss = 78.46756, step = 2645 (0.425 sec)\n",
      "INFO:tensorflow:global_step/sec: 283.258\n",
      "INFO:tensorflow:loss = 57.83006, step = 2745 (0.352 sec)\n",
      "INFO:tensorflow:global_step/sec: 278.172\n",
      "INFO:tensorflow:loss = 69.15115, step = 2845 (0.361 sec)\n",
      "INFO:tensorflow:global_step/sec: 287.272\n",
      "INFO:tensorflow:loss = 55.204063, step = 2945 (0.347 sec)\n",
      "INFO:tensorflow:global_step/sec: 269.329\n",
      "INFO:tensorflow:loss = 68.59729, step = 3045 (0.371 sec)\n",
      "INFO:tensorflow:global_step/sec: 296.883\n",
      "INFO:tensorflow:loss = 103.46634, step = 3145 (0.337 sec)\n",
      "INFO:tensorflow:global_step/sec: 292.644\n",
      "INFO:tensorflow:loss = 78.22746, step = 3245 (0.341 sec)\n",
      "INFO:tensorflow:global_step/sec: 283.614\n",
      "INFO:tensorflow:loss = 64.72679, step = 3345 (0.357 sec)\n",
      "INFO:tensorflow:Saving checkpoints for 3392 into ./trained_model/model.ckpt.\n",
      "INFO:tensorflow:Loss for final step: 35.775253.\n",
      "INFO:tensorflow:Starting evaluation at 2018-02-06-05:48:35\n",
      "INFO:tensorflow:Restoring parameters from ./trained_model/model.ckpt-3392\n",
      "INFO:tensorflow:Finished evaluation at 2018-02-06-05:48:36\n",
      "INFO:tensorflow:Saving dict for global step 3392: average_loss = 0.6578086, global_step = 3392, loss = 83.85841\n",
      "INFO:tensorflow:Create CheckpointSaverHook.\n",
      "INFO:tensorflow:Restoring parameters from ./trained_model/model.ckpt-3392\n",
      "INFO:tensorflow:Saving checkpoints for 3393 into ./trained_model/model.ckpt.\n",
      "INFO:tensorflow:loss = 149.61943, step = 3393\n",
      "INFO:tensorflow:global_step/sec: 259.206\n",
      "INFO:tensorflow:loss = 47.541733, step = 3493 (0.389 sec)\n",
      "INFO:tensorflow:global_step/sec: 293.07\n",
      "INFO:tensorflow:loss = 61.638958, step = 3593 (0.344 sec)\n",
      "INFO:tensorflow:global_step/sec: 298.889\n",
      "INFO:tensorflow:loss = 141.78514, step = 3693 (0.334 sec)\n",
      "INFO:tensorflow:global_step/sec: 296.453\n",
      "INFO:tensorflow:loss = 92.27846, step = 3793 (0.337 sec)\n",
      "INFO:tensorflow:global_step/sec: 281.326\n",
      "INFO:tensorflow:loss = 71.48155, step = 3893 (0.356 sec)\n",
      "INFO:tensorflow:global_step/sec: 309.107\n",
      "INFO:tensorflow:loss = 57.83149, step = 3993 (0.323 sec)\n",
      "INFO:tensorflow:global_step/sec: 326.374\n",
      "INFO:tensorflow:loss = 24.237116, step = 4093 (0.303 sec)\n",
      "INFO:tensorflow:global_step/sec: 276.278\n",
      "INFO:tensorflow:loss = 34.428886, step = 4193 (0.368 sec)\n",
      "INFO:tensorflow:Saving checkpoints for 4240 into ./trained_model/model.ckpt.\n",
      "INFO:tensorflow:Loss for final step: 14.512915.\n",
      "INFO:tensorflow:Starting evaluation at 2018-02-06-05:48:40\n",
      "INFO:tensorflow:Restoring parameters from ./trained_model/model.ckpt-4240\n",
      "INFO:tensorflow:Finished evaluation at 2018-02-06-05:48:40\n",
      "INFO:tensorflow:Saving dict for global step 4240: average_loss = 0.6522662, global_step = 4240, loss = 83.15186\n",
      "INFO:tensorflow:Create CheckpointSaverHook.\n",
      "INFO:tensorflow:Restoring parameters from ./trained_model/model.ckpt-4240\n",
      "INFO:tensorflow:Saving checkpoints for 4241 into ./trained_model/model.ckpt.\n",
      "INFO:tensorflow:loss = 110.95238, step = 4241\n",
      "INFO:tensorflow:global_step/sec: 236.73\n",
      "INFO:tensorflow:loss = 72.37021, step = 4341 (0.428 sec)\n",
      "INFO:tensorflow:global_step/sec: 293.077\n",
      "INFO:tensorflow:loss = 70.97557, step = 4441 (0.339 sec)\n",
      "INFO:tensorflow:global_step/sec: 257.999\n",
      "INFO:tensorflow:loss = 44.409657, step = 4541 (0.390 sec)\n",
      "INFO:tensorflow:global_step/sec: 268.239\n",
      "INFO:tensorflow:loss = 78.60161, step = 4641 (0.372 sec)\n",
      "INFO:tensorflow:global_step/sec: 301.167\n",
      "INFO:tensorflow:loss = 80.104866, step = 4741 (0.331 sec)\n",
      "INFO:tensorflow:global_step/sec: 296.017\n",
      "INFO:tensorflow:loss = 60.80034, step = 4841 (0.338 sec)\n",
      "INFO:tensorflow:global_step/sec: 272.03\n",
      "INFO:tensorflow:loss = 50.12139, step = 4941 (0.367 sec)\n",
      "INFO:tensorflow:Saving checkpoints for 5000 into ./trained_model/model.ckpt.\n",
      "INFO:tensorflow:Loss for final step: 66.035515.\n",
      "INFO:tensorflow:Starting evaluation at 2018-02-06-05:48:45\n",
      "INFO:tensorflow:Restoring parameters from ./trained_model/model.ckpt-5000\n",
      "INFO:tensorflow:Finished evaluation at 2018-02-06-05:48:45\n",
      "INFO:tensorflow:Saving dict for global step 5000: average_loss = 0.6051799, global_step = 5000, loss = 77.14923\n"
     ]
    }
   ],
   "source": [
    "# Run the model\n",
    "OUTDIR = './trained_model'\n",
    "shutil.rmtree(OUTDIR, ignore_errors = True)\n",
    "train_and_evaluate(OUTDIR, 5000)"
   ]
  }
 ],
 "metadata": {
  "colab": {
   "default_view": {},
   "name": "first_steps_with_tensor_flow.ipynb",
   "provenance": [],
   "version": "0.3.2",
   "views": {}
  },
  "kernelspec": {
   "display_name": "Python 2",
   "language": "python",
   "name": "python2"
  },
  "language_info": {
   "codemirror_mode": {
    "name": "ipython",
    "version": 2
   },
   "file_extension": ".py",
   "mimetype": "text/x-python",
   "name": "python",
   "nbconvert_exporter": "python",
   "pygments_lexer": "ipython2",
   "version": "2.7.12"
  }
 },
 "nbformat": 4,
 "nbformat_minor": 0
}
