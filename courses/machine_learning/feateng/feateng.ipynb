{
 "cells": [
  {
   "cell_type": "markdown",
   "metadata": {},
   "source": [
    "<h1> Feature Engineering </h1>\n",
    "\n",
    "In this notebook, you will learn how to incorporate feature engineering into your pipeline.\n",
    "<ul>\n",
    "<li> Working with feature columns </li>\n",
    "<li> Adding feature crosses in TensorFlow </li>\n",
    "<li> Reading data from BigQuery </li>\n",
    "<li> Creating datasets using Dataflow </li>\n",
    "<li> Using a wide-and-deep model </li>\n",
    "</ul>\n",
    "\n",
    "Table of Contents:\n",
    "<div id=\"toc\"></div>"
   ]
  },
  {
   "cell_type": "code",
   "execution_count": 1,
   "metadata": {
    "collapsed": false
   },
   "outputs": [
    {
     "data": {
      "application/javascript": [
       "$.getScript('https://kmahelona.github.io/ipython_notebook_goodies/ipython_notebook_toc.js')"
      ],
      "text/plain": [
       "<IPython.core.display.Javascript object>"
      ]
     },
     "metadata": {},
     "output_type": "display_data"
    }
   ],
   "source": [
    "%%javascript\n",
    "$.getScript('https://kmahelona.github.io/ipython_notebook_goodies/ipython_notebook_toc.js')"
   ]
  },
  {
   "cell_type": "code",
   "execution_count": 2,
   "metadata": {
    "collapsed": false
   },
   "outputs": [],
   "source": [
    "import warnings\n",
    "\n",
    "with warnings.catch_warnings():\n",
    "    warnings.filterwarnings(\"ignore\",category=DeprecationWarning)\n",
    "    import apache_beam"
   ]
  },
  {
   "cell_type": "code",
   "execution_count": 3,
   "metadata": {
    "collapsed": false
   },
   "outputs": [
    {
     "name": "stdout",
     "output_type": "stream",
     "text": [
      "1.4.1\n"
     ]
    }
   ],
   "source": [
    "import google.datalab.ml as ml\n",
    "import tensorflow as tf\n",
    "# import apache_beam as beam\n",
    "import shutil\n",
    "print tf.__version__"
   ]
  },
  {
   "cell_type": "code",
   "execution_count": null,
   "metadata": {
    "collapsed": true
   },
   "outputs": [],
   "source": []
  },
  {
   "cell_type": "markdown",
   "metadata": {},
   "source": [
    "<h2> 1. Environment variables for project and bucket </h2>\n",
    "\n",
    "<li> Your project id is the *unique* string that identifies your project (not the project name). You can find this from the GCP Console dashboard's Home page.  My dashboard reads:  <b>Project ID:</b> cloud-training-demos </li>\n",
    "<li> Cloud training often involves saving and restoring model files. Therefore, we should <b>create a single-region bucket</b>. If you don't have a bucket already, I suggest that you create one from the GCP console (because it will dynamically check whether the bucket name you want is available) </li>\n",
    "</ol>\n",
    "<b>Change the cell below</b> to reflect your Project ID and bucket name.\n"
   ]
  },
  {
   "cell_type": "code",
   "execution_count": 37,
   "metadata": {
    "collapsed": false
   },
   "outputs": [],
   "source": [
    "import os\n",
    "PROJECT = 'coursera-192902'    # CHANGE THIS\n",
    "BUCKET = 'single-bucket'  # CHANGE THIS\n",
    "REGION = 'us-central1' # CHANGE THIS"
   ]
  },
  {
   "cell_type": "markdown",
   "metadata": {},
   "source": [
    "Modify this path so that it works.  Essentially, /content is mapped in Datalab to where the home icon takes you. Then, you need to find where training_data_analyst is on your system relative to /content."
   ]
  },
  {
   "cell_type": "code",
   "execution_count": 38,
   "metadata": {
    "collapsed": false
   },
   "outputs": [
    {
     "data": {
      "text/plain": [
       "['CPB100',\n",
       " 'README.md',\n",
       " 'quests',\n",
       " 'self-paced-labs',\n",
       " 'CONTRIBUTING.md',\n",
       " 'LICENSE',\n",
       " '.git',\n",
       " '.gitignore',\n",
       " 'courses',\n",
       " 'datalab',\n",
       " 'blogs']"
      ]
     },
     "execution_count": 38,
     "metadata": {},
     "output_type": "execute_result"
    }
   ],
   "source": [
    "import os\n",
    "REPO = \"/content/datalab/training-data-analyst\"\n",
    "os.listdir(REPO)"
   ]
  },
  {
   "cell_type": "code",
   "execution_count": 39,
   "metadata": {
    "collapsed": true
   },
   "outputs": [],
   "source": [
    "# for bash\n",
    "os.environ['PROJECT'] = PROJECT\n",
    "os.environ['BUCKET'] = BUCKET\n",
    "os.environ['REGION'] = REGION\n",
    "os.environ['REPO'] = REPO"
   ]
  },
  {
   "cell_type": "markdown",
   "metadata": {},
   "source": [
    "<h2> 2. Specifying query to pull the data </h2>\n",
    "\n",
    "Let's pull out a few extra columns from the timestamp."
   ]
  },
  {
   "cell_type": "code",
   "execution_count": 40,
   "metadata": {
    "collapsed": false
   },
   "outputs": [
    {
     "name": "stdout",
     "output_type": "stream",
     "text": [
      "\n",
      "SELECT\n",
      "  (tolls_amount + fare_amount) AS fare_amount,\n",
      "  DAYOFWEEK(pickup_datetime) AS dayofweek,\n",
      "  HOUR(pickup_datetime) AS hourofday,\n",
      "  pickup_longitude AS pickuplon,\n",
      "  pickup_latitude AS pickuplat,\n",
      "  dropoff_longitude AS dropofflon,\n",
      "  dropoff_latitude AS dropofflat,\n",
      "  passenger_count*1.0 AS passengers,\n",
      "  CONCAT(STRING(pickup_datetime), STRING(pickup_longitude), STRING(pickup_latitude), STRING(dropoff_latitude), STRING(dropoff_longitude)) AS key\n",
      "FROM\n",
      "  [nyc-tlc:yellow.trips]\n",
      "WHERE\n",
      "  trip_distance > 0\n",
      "  AND fare_amount >= 2.5\n",
      "  AND pickup_longitude > -78\n",
      "  AND pickup_longitude < -70\n",
      "  AND dropoff_longitude > -78\n",
      "  AND dropoff_longitude < -70\n",
      "  AND pickup_latitude > 37\n",
      "  AND pickup_latitude < 45\n",
      "  AND dropoff_latitude > 37\n",
      "  AND dropoff_latitude < 45\n",
      "  AND passenger_count > 0\n",
      "   AND ABS(HASH(pickup_datetime)) % 100000 == 2\n"
     ]
    }
   ],
   "source": [
    "def create_query(phase, EVERY_N):\n",
    "  \"\"\"\n",
    "  phase: 1=train 2=valid\n",
    "  \"\"\"\n",
    "  base_query = \"\"\"\n",
    "SELECT\n",
    "  (tolls_amount + fare_amount) AS fare_amount,\n",
    "  DAYOFWEEK(pickup_datetime) AS dayofweek,\n",
    "  HOUR(pickup_datetime) AS hourofday,\n",
    "  pickup_longitude AS pickuplon,\n",
    "  pickup_latitude AS pickuplat,\n",
    "  dropoff_longitude AS dropofflon,\n",
    "  dropoff_latitude AS dropofflat,\n",
    "  passenger_count*1.0 AS passengers,\n",
    "  CONCAT(STRING(pickup_datetime), STRING(pickup_longitude), STRING(pickup_latitude), STRING(dropoff_latitude), STRING(dropoff_longitude)) AS key\n",
    "FROM\n",
    "  [nyc-tlc:yellow.trips]\n",
    "WHERE\n",
    "  trip_distance > 0\n",
    "  AND fare_amount >= 2.5\n",
    "  AND pickup_longitude > -78\n",
    "  AND pickup_longitude < -70\n",
    "  AND dropoff_longitude > -78\n",
    "  AND dropoff_longitude < -70\n",
    "  AND pickup_latitude > 37\n",
    "  AND pickup_latitude < 45\n",
    "  AND dropoff_latitude > 37\n",
    "  AND dropoff_latitude < 45\n",
    "  AND passenger_count > 0\n",
    "  \"\"\"\n",
    "\n",
    "  if EVERY_N == None:\n",
    "    if phase < 2:\n",
    "      # training\n",
    "      query = \"{0} AND ABS(HASH(pickup_datetime)) % 4 < 2\".format(base_query)\n",
    "    else:\n",
    "      query = \"{0} AND ABS(HASH(pickup_datetime)) % 4 == {1}\".format(base_query, phase)\n",
    "  else:\n",
    "      query = \"{0} AND ABS(HASH(pickup_datetime)) % {1} == {2}\".format(base_query, EVERY_N, phase)\n",
    "    \n",
    "  return query\n",
    "    \n",
    "print create_query(2, 100000)"
   ]
  },
  {
   "cell_type": "markdown",
   "metadata": {},
   "source": [
    "Try the query above in https://bigquery.cloud.google.com/table/nyc-tlc:yellow.trips if you want to see what it does (ADD LIMIT 10 to the query!)"
   ]
  },
  {
   "cell_type": "markdown",
   "metadata": {},
   "source": [
    "<h2> 3. Preprocessing Dataflow job from BigQuery </h2>\n",
    "\n",
    "This code reads from BigQuery and saves the data as-is on Google Cloud Storage.  We can do additional preprocessing and cleanup inside Dataflow, but then we'll have to remember to repeat that prepreprocessing during inference. It is better to use tf.transform which will do this book-keeping for you, or to do preprocessing within your TensorFlow model. We will look at this in future notebooks. For now, we are simply moving data from BigQuery to CSV using Dataflow.\n",
    "\n",
    "While we could read from BQ directly from TensorFlow (See: https://www.tensorflow.org/api_docs/python/tf/contrib/cloud/BigQueryReader), it is quite convenient to export to CSV and do the training off CSV.  Let's use Dataflow to do this at scale.\n",
    "\n",
    "Because we are running this on the Cloud, you should go to the GCP Console (https://console.cloud.google.com/dataflow) to look at the status of the job. It will take several minutes for the preprocessing job to launch."
   ]
  },
  {
   "cell_type": "code",
   "execution_count": 41,
   "metadata": {
    "collapsed": false
   },
   "outputs": [
    {
     "name": "stderr",
     "output_type": "stream",
     "text": [
      "CommandException: 1 files/objects could not be removed.\n"
     ]
    }
   ],
   "source": [
    "%bash\n",
    "gsutil -m rm -rf gs://$BUCKET/taxifare/ch4/taxi_preproc/"
   ]
  },
  {
   "cell_type": "code",
   "execution_count": 42,
   "metadata": {
    "collapsed": false
   },
   "outputs": [],
   "source": [
    "import datetime\n",
    "import apache_beam as beam \n",
    "\n",
    "def to_csv(rowdict):\n",
    "  import copy\n",
    "  days = ['null', 'Sun', 'Mon', 'Tue', 'Wed', 'Thu', 'Fri', 'Sat']\n",
    "  CSV_COLUMNS = 'fare_amount,dayofweek,hourofday,pickuplon,pickuplat,dropofflon,dropofflat,passengers,key'.split(',')\n",
    "  result = copy.deepcopy(rowdict)\n",
    "  result['dayofweek'] = days[result['dayofweek']]\n",
    "  return ','.join([str(result[k]) for k in CSV_COLUMNS])\n",
    "\n",
    "def preprocess(EVERY_N, RUNNER):\n",
    "  job_name = 'preprocess-taxifeatures' + '-' + datetime.datetime.now().strftime('%y%m%d-%H%M%S')\n",
    "  print 'Launching Dataflow job {} ... hang on'.format(job_name)\n",
    "  OUTPUT_DIR = 'gs://{0}/taxifare/ch4/taxi_preproc/'.format(BUCKET)\n",
    "  options = {\n",
    "    'staging_location': os.path.join(OUTPUT_DIR, 'tmp', 'staging'),\n",
    "    'temp_location': os.path.join(OUTPUT_DIR, 'tmp'),\n",
    "    'job_name': 'preprocess-taxifeatures' + '-' + datetime.datetime.now().strftime('%y%m%d-%H%M%S'),\n",
    "    'project': PROJECT,\n",
    "    'teardown_policy': 'TEARDOWN_ALWAYS',\n",
    "    'no_save_main_session': True\n",
    "  }\n",
    "  opts = beam.pipeline.PipelineOptions(flags=[], **options)\n",
    "  p = beam.Pipeline(RUNNER, options=opts)\n",
    "  for n, step in enumerate(['train', 'valid']):\n",
    "    query = create_query(n+1, EVERY_N)\n",
    "    outfile = os.path.join(OUTPUT_DIR, '{}.csv'.format(step))\n",
    "    (\n",
    "      p | 'read_{}'.format(step) >> beam.io.Read(beam.io.BigQuerySource(query=query))\n",
    "        | 'tocsv_{}'.format(step) >> beam.Map(to_csv)\n",
    "        | 'write_{}'.format(step) >> beam.io.Write(beam.io.WriteToText(outfile))\n",
    "    )\n",
    "\n",
    "  p.run()"
   ]
  },
  {
   "cell_type": "code",
   "execution_count": 43,
   "metadata": {
    "collapsed": false
   },
   "outputs": [
    {
     "name": "stdout",
     "output_type": "stream",
     "text": [
      "Launching Dataflow job preprocess-taxifeatures-180122-221628 ... hang on\n",
      "[2018-01-22 22:16:29,109] {dependency.py:463} INFO - Staging the SDK tarball from PyPI to gs://single-bucket/taxifare/ch4/taxi_preproc/tmp/staging/preprocess-taxifeatures-180122-221628.1516659388.764292/dataflow_python_sdk.tar\n",
      "[2018-01-22 22:16:29,117] {dependency.py:526} INFO - Executing command: ['/usr/bin/python', '-m', 'pip', 'install', '--download', '/tmp/tmpWwrzRs', 'google-cloud-dataflow==2.0.0', '--no-binary', ':all:', '--no-deps']\n",
      "[2018-01-22 22:16:31,169] {dependency.py:88} INFO - file copy from /tmp/tmpWwrzRs/google-cloud-dataflow-2.0.0.tar.gz to gs://single-bucket/taxifare/ch4/taxi_preproc/tmp/staging/preprocess-taxifeatures-180122-221628.1516659388.764292/dataflow_python_sdk.tar.\n",
      "[2018-01-22 22:16:31,181] {client.py:614} INFO - Attempting refresh to obtain initial access_token\n",
      "[2018-01-22 22:16:32,011] {client.py:614} INFO - Attempting refresh to obtain initial access_token\n",
      "[2018-01-22 22:16:32,782] {apiclient.py:485} INFO - Create job: <Job\n",
      " createTime: u'2018-01-22T22:16:32.747509Z'\n",
      " currentStateTime: u'1970-01-01T00:00:00Z'\n",
      " id: u'2018-01-22_14_16_32-2958510776184452122'\n",
      " location: u'us-central1'\n",
      " name: u'preprocess-taxifeatures-180122-221628'\n",
      " projectId: u'coursera-192902'\n",
      " stageStates: []\n",
      " steps: []\n",
      " tempFiles: []\n",
      " type: TypeValueValuesEnum(JOB_TYPE_BATCH, 1)>\n",
      "[2018-01-22 22:16:32,787] {apiclient.py:487} INFO - Created job with id: [2018-01-22_14_16_32-2958510776184452122]\n",
      "[2018-01-22 22:16:32,790] {apiclient.py:491} INFO - To access the Dataflow monitoring console, please navigate to https://console.developers.google.com/project/coursera-192902/dataflow/job/2018-01-22_14_16_32-2958510776184452122\n"
     ]
    }
   ],
   "source": [
    "# Change as needed\n",
    "#preprocess(50*100000, 'DirectRunner')  # runs locally\n",
    "preprocess(50*1000, 'DataflowRunner') # runs on cloud; change first arg to None to preprocess full dataset"
   ]
  },
  {
   "cell_type": "code",
   "execution_count": 44,
   "metadata": {
    "collapsed": false
   },
   "outputs": [
    {
     "name": "stdout",
     "output_type": "stream",
     "text": [
      "                                 gs://single-bucket/taxifare/ch4/taxi_preproc/tmp/\n"
     ]
    }
   ],
   "source": [
    "%bash\n",
    "gsutil ls -l gs://$BUCKET/taxifare/ch4/taxi_preproc/"
   ]
  },
  {
   "cell_type": "code",
   "execution_count": 45,
   "metadata": {
    "collapsed": false
   },
   "outputs": [
    {
     "name": "stderr",
     "output_type": "stream",
     "text": [
      "CommandException: No URLs matched: gs://single-bucket/taxifare/ch4/taxi_preproc/train.csv-00000-of-*\n"
     ]
    }
   ],
   "source": [
    "%bash\n",
    "gsutil cat \"gs://$BUCKET/taxifare/ch4/taxi_preproc/train.csv-00000-of-*\" | head"
   ]
  },
  {
   "cell_type": "markdown",
   "metadata": {},
   "source": [
    "<h2> 4. Develop model with new inputs </h2>\n",
    "\n",
    "Download a fraction of the preprocessed data to enable local development."
   ]
  },
  {
   "cell_type": "code",
   "execution_count": 46,
   "metadata": {
    "collapsed": false
   },
   "outputs": [
    {
     "name": "stderr",
     "output_type": "stream",
     "text": [
      "mkdir: cannot create directory ‘sample’: File exists\n",
      "CommandException: No URLs matched: gs://single-bucket/taxifare/ch4/taxi_preproc/train.csv-00000-of-*\n",
      "CommandException: No URLs matched: gs://single-bucket/taxifare/ch4/taxi_preproc/valid.csv-00000-of-*\n"
     ]
    }
   ],
   "source": [
    "%bash\n",
    "mkdir sample\n",
    "gsutil cp \"gs://$BUCKET/taxifare/ch4/taxi_preproc/train.csv-00000-of-*\" sample/train.csv\n",
    "gsutil cp \"gs://$BUCKET/taxifare/ch4/taxi_preproc/valid.csv-00000-of-*\" sample/valid.csv"
   ]
  },
  {
   "cell_type": "markdown",
   "metadata": {},
   "source": [
    "We have two new inputs in the INPUT_COLUMNS, three engineered features, and the estimator involves bucketization and feature crosses."
   ]
  },
  {
   "cell_type": "code",
   "execution_count": 47,
   "metadata": {
    "collapsed": false
   },
   "outputs": [
    {
     "name": "stdout",
     "output_type": "stream",
     "text": [
      "INPUT_COLUMNS = [\r\n",
      "    # define features\r\n",
      "    layers.sparse_column_with_keys('dayofweek', keys=['Sun', 'Mon', 'Tues', 'Wed', 'Thu', 'Fri', 'Sat']),\r\n",
      "    layers.sparse_column_with_integerized_feature('hourofday', bucket_size=24),\r\n",
      "\r\n",
      "    # engineered features that are created in the input_fn\r\n",
      "    layers.real_valued_column('latdiff'),\r\n",
      "    layers.real_valued_column('londiff'),\r\n",
      "    layers.real_valued_column('euclidean'),\r\n",
      "\r\n",
      "    # real_valued_column\r\n",
      "    layers.real_valued_column('pickuplon'),\r\n",
      "    layers.real_valued_column('pickuplat'),\r\n",
      "    layers.real_valued_column('dropofflat'),\r\n",
      "    layers.real_valued_column('dropofflon'),\r\n",
      "    layers.real_valued_column('passengers'),\r\n",
      "]\r\n",
      "\r\n",
      "def build_estimator(model_dir, nbuckets, hidden_units):\r\n",
      "  \"\"\"\r\n",
      "     Build an estimator starting from INPUT COLUMNS.\r\n"
     ]
    }
   ],
   "source": [
    "!grep -A 20 \"INPUT_COLUMNS =\" taxifare/trainer/model.py"
   ]
  },
  {
   "cell_type": "code",
   "execution_count": 48,
   "metadata": {
    "collapsed": false
   },
   "outputs": [
    {
     "name": "stdout",
     "output_type": "stream",
     "text": [
      "def build_estimator(model_dir, nbuckets, hidden_units):\r\n",
      "  \"\"\"\r\n",
      "     Build an estimator starting from INPUT COLUMNS.\r\n",
      "     These include feature transformations and synthetic features.\r\n",
      "     The model is a wide-and-deep model.\r\n",
      "  \"\"\"\r\n",
      "\r\n",
      "  # input columns\r\n",
      "  (dayofweek, hourofday, latdiff, londiff, euclidean, plon, plat, dlon, dlat, pcount) = INPUT_COLUMNS \r\n",
      "\r\n",
      "  # bucketize the lats & lons\r\n",
      "  latbuckets = np.linspace(38.0, 42.0, nbuckets).tolist()\r\n",
      "  lonbuckets = np.linspace(-76.0, -72.0, nbuckets).tolist()\r\n",
      "  b_plat = layers.bucketized_column(plat, latbuckets)\r\n",
      "  b_dlat = layers.bucketized_column(dlat, latbuckets)\r\n",
      "  b_plon = layers.bucketized_column(plon, lonbuckets)\r\n",
      "  b_dlon = layers.bucketized_column(dlon, lonbuckets)\r\n",
      "\r\n",
      "  # feature cross\r\n",
      "  ploc = layers.crossed_column([b_plat, b_plon], nbuckets*nbuckets)\r\n",
      "  dloc = layers.crossed_column([b_dlat, b_dlon], nbuckets*nbuckets)\r\n",
      "  pd_pair = layers.crossed_column([ploc, dloc], nbuckets ** 4 )\r\n",
      "  day_hr =  layers.crossed_column([dayofweek, hourofday], 24*7)\r\n",
      "\r\n",
      "  # Wide columns and deep columns.\r\n",
      "  wide_columns = [\r\n",
      "      # feature crosses\r\n",
      "      dloc, ploc, pd_pair,\r\n",
      "      day_hr,\r\n",
      "\r\n",
      "      # sparse columns\r\n",
      "      dayofweek, hourofday,\r\n",
      "\r\n",
      "      # anything with a linear relationship\r\n",
      "      pcount \r\n",
      "  ]\r\n",
      "\r\n",
      "  deep_columns = [\r\n",
      "      # embedding_column to \"group\" together ...\r\n",
      "      layers.embedding_column(pd_pair, 10),\r\n",
      "      layers.embedding_column(day_hr, 10),\r\n",
      "\r\n",
      "      # real_valued_column\r\n",
      "      plat, plon, dlat, dlon,\r\n",
      "      latdiff, londiff, euclidean\r\n",
      "  ]\r\n",
      "\r\n",
      "  return tf.contrib.learn.DNNLinearCombinedRegressor(\r\n",
      "      model_dir=model_dir,\r\n",
      "      linear_feature_columns=wide_columns,\r\n",
      "      dnn_feature_columns=deep_columns,\r\n"
     ]
    }
   ],
   "source": [
    "!grep -A 50 \"build_estimator\" taxifare/trainer/model.py"
   ]
  },
  {
   "cell_type": "code",
   "execution_count": 49,
   "metadata": {
    "collapsed": false
   },
   "outputs": [
    {
     "name": "stdout",
     "output_type": "stream",
     "text": [
      "def add_engineered(features):\r\n",
      "    # this is how you can do feature engineering in TensorFlow\r\n",
      "    lat1 = features['pickuplat']\r\n",
      "    lat2 = features['dropofflat']\r\n",
      "    lon1 = features['pickuplon']\r\n",
      "    lon2 = features['dropofflon']\r\n",
      "    latdiff = (lat1 - lat2)\r\n",
      "    londiff = (lon1 - lon2)\r\n",
      "    # set features for distance with sign that indicates direction\r\n",
      "    features['latdiff'] = latdiff\r\n",
      "    features['londiff'] = londiff\r\n",
      "    dist = tf.sqrt(latdiff*latdiff + londiff*londiff)\r\n",
      "    features['euclidean'] = dist\r\n",
      "    return features   \r\n",
      "\r\n",
      "def serving_input_fn():\r\n",
      "--\r\n",
      "      add_engineered(features),\r\n",
      "      None,\r\n",
      "      feature_placeholders\r\n",
      "    )\r\n",
      "\r\n",
      "\r\n",
      "def generate_csv_input_fn(filename, num_epochs=None, batch_size=512, mode=tf.contrib.learn.ModeKeys.TRAIN):\r\n",
      "  def _input_fn():\r\n",
      "    # could be a path to one file or a file pattern.\r\n",
      "    input_file_names = tf.train.match_filenames_once(filename)\r\n",
      "    #input_file_names = [filename]\r\n",
      "\r\n",
      "    filename_queue = tf.train.string_input_producer(\r\n",
      "        input_file_names, num_epochs=num_epochs, shuffle=True)\r\n",
      "    reader = tf.TextLineReader()\r\n",
      "    _, value = reader.read_up_to(filename_queue, num_records=batch_size)\r\n",
      "--\r\n",
      "    return add_engineered(features), label\r\n",
      "\r\n",
      "  return _input_fn\r\n",
      "\r\n",
      "def gzip_reader_fn():\r\n",
      "  return tf.TFRecordReader(options=tf.python_io.TFRecordOptions(\r\n",
      "      compression_type=tf.python_io.TFRecordCompressionType.GZIP))\r\n",
      "\r\n",
      "def generate_tfrecord_input_fn(data_paths, num_epochs=None, batch_size=512, mode=tf.contrib.learn.ModeKeys.TRAIN):\r\n",
      "  def get_input_features():\r\n",
      "    # Read the tfrecords. Same input schema as in preprocess\r\n",
      "    input_schema = {}\r\n",
      "    if mode != tf.contrib.learn.ModeKeys.INFER:\r\n",
      "      input_schema[LABEL_COLUMN] = tf.FixedLenFeature(shape=[1], dtype=tf.float32, default_value=0.0)\r\n",
      "    for name in ['dayofweek', 'key']:\r\n",
      "      input_schema[name] = tf.FixedLenFeature(shape=[1], dtype=tf.string, default_value='null')\r\n",
      "--\r\n",
      "    return add_engineered(features), target\r\n",
      "\r\n",
      "  # Return a function to input the features into the model from a data path.\r\n",
      "  return get_input_features\r\n",
      "\r\n",
      "\r\n",
      "\r\n",
      "def get_eval_metrics():\r\n",
      "  return {\r\n",
      "     'rmse': tflearn.MetricSpec(metric_fn=metrics.streaming_root_mean_squared_error),\r\n",
      "     'training/hptuning/metric': tflearn.MetricSpec(metric_fn=metrics.streaming_root_mean_squared_error),\r\n",
      "  }\r\n"
     ]
    }
   ],
   "source": [
    "!grep -A 15 \"add_engineered(\" taxifare/trainer/model.py"
   ]
  },
  {
   "cell_type": "markdown",
   "metadata": {},
   "source": [
    "Try out the new model on the local sample to make sure it works fine."
   ]
  },
  {
   "cell_type": "code",
   "execution_count": 50,
   "metadata": {
    "collapsed": false
   },
   "outputs": [
    {
     "name": "stderr",
     "output_type": "stream",
     "text": [
      "WARNING:tensorflow:The default stddev value of initializer will change from \"1/sqrt(vocab_size)\" to \"1/sqrt(dimension)\" after 2017/02/25.\n",
      "WARNING:tensorflow:The default stddev value of initializer will change from \"1/sqrt(vocab_size)\" to \"1/sqrt(dimension)\" after 2017/02/25.\n",
      "WARNING:tensorflow:From /content/datalab/training-data-analyst/courses/machine_learning/feateng/taxifare/trainer/model.py:105: calling __init__ (from tensorflow.contrib.learn.python.learn.estimators.dnn_linear_combined) with fix_global_step_increment_bug=False is deprecated and will be removed after 2017-04-15.\n",
      "Instructions for updating:\n",
      "Please set fix_global_step_increment_bug=True and update training steps in your pipeline. See pydoc for details.\n",
      "INFO:tensorflow:Using default config.\n",
      "INFO:tensorflow:Using config: {'_save_checkpoints_secs': 600, '_num_ps_replicas': 0, '_keep_checkpoint_max': 5, '_task_type': None, '_is_chief': True, '_cluster_spec': <tensorflow.python.training.server_lib.ClusterSpec object at 0x7f9d304de850>, '_model_dir': '/content/datalab/training-data-analyst/courses/machine_learning/feateng/taxi_trained/', '_save_checkpoints_steps': None, '_keep_checkpoint_every_n_hours': 10000, '_session_config': None, '_tf_random_seed': None, '_save_summary_steps': 100, '_environment': 'local', '_num_worker_replicas': 0, '_task_id': 0, '_log_step_count_steps': 100, '_tf_config': gpu_options {\n",
      "  per_process_gpu_memory_fraction: 1.0\n",
      "}\n",
      ", '_evaluation_master': '', '_master': ''}\n",
      "WARNING:tensorflow:From /usr/local/lib/python2.7/dist-packages/tensorflow/contrib/learn/python/learn/monitors.py:267: __init__ (from tensorflow.contrib.learn.python.learn.monitors) is deprecated and will be removed after 2016-12-05.\n",
      "Instructions for updating:\n",
      "Monitors are deprecated. Please use tf.train.SessionRunHook.\n",
      "WARNING:tensorflow:From /usr/local/lib/python2.7/dist-packages/tensorflow/contrib/layers/python/layers/feature_column.py:2333: calling sparse_feature_cross (from tensorflow.contrib.layers.python.ops.sparse_feature_cross_op) with hash_key=None is deprecated and will be removed after 2016-11-20.\n",
      "Instructions for updating:\n",
      "The default behavior of sparse_feature_cross is changing, the default\n",
      "value for hash_key will change to SPARSE_FEATURE_CROSS_DEFAULT_HASH_KEY.\n",
      "From that point on sparse_feature_cross will always use FingerprintCat64\n",
      "to concatenate the feature fingerprints. And the underlying\n",
      "_sparse_feature_cross_op.sparse_feature_cross operation will be marked\n",
      "as deprecated.\n",
      "INFO:tensorflow:Create CheckpointSaverHook.\n",
      "2018-01-22 22:17:14.214822: I tensorflow/core/platform/cpu_feature_guard.cc:137] Your CPU supports instructions that this TensorFlow binary was not compiled to use: SSE4.1 SSE4.2 AVX AVX2 FMA\n",
      "INFO:tensorflow:Saving checkpoints for 2 into /content/datalab/training-data-analyst/courses/machine_learning/feateng/taxi_trained/model.ckpt.\n",
      "INFO:tensorflow:Starting evaluation at 2018-01-22-22:17:17\n",
      "INFO:tensorflow:Restoring parameters from /content/datalab/training-data-analyst/courses/machine_learning/feateng/taxi_trained/model.ckpt-2\n",
      "INFO:tensorflow:Evaluation [1/10]\n",
      "INFO:tensorflow:Evaluation [2/10]\n",
      "INFO:tensorflow:Evaluation [3/10]\n",
      "INFO:tensorflow:Evaluation [4/10]\n",
      "INFO:tensorflow:Evaluation [5/10]\n",
      "INFO:tensorflow:Evaluation [6/10]\n",
      "INFO:tensorflow:Evaluation [7/10]\n",
      "INFO:tensorflow:Evaluation [8/10]\n",
      "INFO:tensorflow:Evaluation [9/10]\n",
      "INFO:tensorflow:Evaluation [10/10]\n",
      "INFO:tensorflow:Finished evaluation at 2018-01-22-22:17:18\n",
      "INFO:tensorflow:Saving dict for global step 2: global_step = 2, loss = 246.68002, rmse = 15.706051, training/hptuning/metric = 15.706051\n",
      "INFO:tensorflow:Validation (step 1): loss = 246.68002, rmse = 15.706051, global_step = 2, training/hptuning/metric = 15.706051\n",
      "INFO:tensorflow:loss = 316.23254, step = 2\n",
      "INFO:tensorflow:global_step/sec: 30.9579\n",
      "INFO:tensorflow:loss = 84.57443, step = 202 (2.727 sec)\n",
      "INFO:tensorflow:global_step/sec: 82.9833\n",
      "INFO:tensorflow:global_step/sec: 101.869\n",
      "INFO:tensorflow:loss = 73.51729, step = 402 (1.926 sec)\n",
      "INFO:tensorflow:global_step/sec: 105.568\n",
      "INFO:tensorflow:global_step/sec: 98.5004\n",
      "INFO:tensorflow:loss = 115.86492, step = 602 (2.001 sec)\n",
      "INFO:tensorflow:global_step/sec: 102.013\n",
      "INFO:tensorflow:global_step/sec: 106.806\n",
      "INFO:tensorflow:loss = 69.54555, step = 802 (1.931 sec)\n",
      "INFO:tensorflow:global_step/sec: 102.063\n",
      "INFO:tensorflow:global_step/sec: 111.919\n",
      "INFO:tensorflow:loss = 64.56089, step = 1002 (1.810 sec)\n",
      "INFO:tensorflow:global_step/sec: 108.505\n",
      "INFO:tensorflow:global_step/sec: 109.511\n",
      "INFO:tensorflow:loss = 87.53839, step = 1202 (1.823 sec)\n",
      "INFO:tensorflow:global_step/sec: 109.199\n",
      "INFO:tensorflow:global_step/sec: 108.793\n",
      "INFO:tensorflow:loss = 65.94019, step = 1402 (1.835 sec)\n",
      "INFO:tensorflow:global_step/sec: 109.457\n",
      "INFO:tensorflow:global_step/sec: 106.146\n",
      "INFO:tensorflow:loss = 76.51046, step = 1602 (1.857 sec)\n",
      "INFO:tensorflow:global_step/sec: 105.86\n",
      "INFO:tensorflow:global_step/sec: 108.779\n",
      "INFO:tensorflow:loss = 85.474655, step = 1802 (1.848 sec)\n",
      "INFO:tensorflow:global_step/sec: 109.446\n",
      "INFO:tensorflow:global_step/sec: 112.036\n",
      "INFO:tensorflow:loss = 74.00328, step = 2002 (1.809 sec)\n",
      "INFO:tensorflow:global_step/sec: 113.945\n",
      "INFO:tensorflow:global_step/sec: 111.994\n",
      "INFO:tensorflow:loss = 77.524925, step = 2202 (1.767 sec)\n",
      "INFO:tensorflow:global_step/sec: 113.698\n",
      "INFO:tensorflow:global_step/sec: 114.846\n",
      "INFO:tensorflow:loss = 75.331055, step = 2402 (1.771 sec)\n",
      "INFO:tensorflow:global_step/sec: 110.9\n",
      "INFO:tensorflow:global_step/sec: 108.828\n",
      "INFO:tensorflow:loss = 67.98211, step = 2602 (1.813 sec)\n",
      "INFO:tensorflow:global_step/sec: 106.268\n",
      "INFO:tensorflow:global_step/sec: 107.98\n",
      "INFO:tensorflow:loss = 105.26289, step = 2802 (1.850 sec)\n",
      "INFO:tensorflow:global_step/sec: 110.397\n",
      "INFO:tensorflow:global_step/sec: 108.481\n",
      "INFO:tensorflow:loss = 63.146713, step = 3002 (1.850 sec)\n",
      "INFO:tensorflow:global_step/sec: 108.954\n",
      "INFO:tensorflow:global_step/sec: 111.221\n",
      "INFO:tensorflow:loss = 58.905552, step = 3202 (1.803 sec)\n",
      "INFO:tensorflow:global_step/sec: 111.931\n",
      "INFO:tensorflow:global_step/sec: 113.355\n",
      "INFO:tensorflow:loss = 83.03619, step = 3402 (1.789 sec)\n",
      "INFO:tensorflow:global_step/sec: 110.361\n",
      "INFO:tensorflow:global_step/sec: 109.129\n",
      "INFO:tensorflow:loss = 65.42665, step = 3602 (1.830 sec)\n",
      "INFO:tensorflow:global_step/sec: 109.802\n",
      "INFO:tensorflow:global_step/sec: 109.038\n",
      "INFO:tensorflow:loss = 73.08032, step = 3802 (1.809 sec)\n",
      "INFO:tensorflow:global_step/sec: 110.901\n",
      "INFO:tensorflow:global_step/sec: 111.337\n",
      "INFO:tensorflow:loss = 83.48653, step = 4002 (1.798 sec)\n",
      "INFO:tensorflow:global_step/sec: 108.263\n",
      "INFO:tensorflow:global_step/sec: 109.058\n",
      "INFO:tensorflow:loss = 73.69336, step = 4202 (1.835 sec)\n",
      "INFO:tensorflow:global_step/sec: 114.778\n",
      "INFO:tensorflow:global_step/sec: 113.854\n",
      "INFO:tensorflow:loss = 75.21579, step = 4402 (1.764 sec)\n",
      "INFO:tensorflow:global_step/sec: 109.697\n",
      "INFO:tensorflow:global_step/sec: 111.203\n",
      "INFO:tensorflow:loss = 75.7816, step = 4602 (1.821 sec)\n",
      "INFO:tensorflow:global_step/sec: 109.623\n",
      "INFO:tensorflow:global_step/sec: 104.665\n",
      "INFO:tensorflow:loss = 66.97641, step = 4802 (1.855 sec)\n",
      "INFO:tensorflow:global_step/sec: 108.814\n",
      "INFO:tensorflow:global_step/sec: 110.561\n",
      "INFO:tensorflow:loss = 102.176346, step = 5002 (1.824 sec)\n",
      "INFO:tensorflow:global_step/sec: 107.685\n",
      "INFO:tensorflow:loss = 61.407234, step = 5202 (1.847 sec)\n",
      "INFO:tensorflow:global_step/sec: 108.55\n",
      "INFO:tensorflow:global_step/sec: 106.684\n",
      "INFO:tensorflow:loss = 57.083725, step = 5402 (1.859 sec)\n",
      "INFO:tensorflow:global_step/sec: 108.747\n",
      "INFO:tensorflow:global_step/sec: 110.466\n",
      "INFO:tensorflow:loss = 81.96097, step = 5602 (1.828 sec)\n",
      "INFO:tensorflow:global_step/sec: 107.095\n",
      "INFO:tensorflow:global_step/sec: 107.518\n",
      "INFO:tensorflow:loss = 65.721054, step = 5802 (1.883 sec)\n",
      "INFO:tensorflow:global_step/sec: 106.753\n",
      "INFO:tensorflow:global_step/sec: 107.745\n",
      "INFO:tensorflow:loss = 72.13782, step = 6002 (1.900 sec)\n",
      "INFO:tensorflow:global_step/sec: 103.104\n",
      "INFO:tensorflow:global_step/sec: 103.088\n",
      "INFO:tensorflow:loss = 83.32685, step = 6202 (1.909 sec)\n",
      "INFO:tensorflow:global_step/sec: 105.414\n",
      "INFO:tensorflow:global_step/sec: 108.502\n",
      "INFO:tensorflow:loss = 73.62479, step = 6402 (1.840 sec)\n",
      "INFO:tensorflow:global_step/sec: 109.628\n",
      "INFO:tensorflow:global_step/sec: 114.272\n",
      "INFO:tensorflow:loss = 74.40161, step = 6602 (1.780 sec)\n",
      "INFO:tensorflow:global_step/sec: 111.646\n",
      "INFO:tensorflow:global_step/sec: 110.855\n",
      "INFO:tensorflow:loss = 76.67283, step = 6802 (1.789 sec)\n",
      "INFO:tensorflow:global_step/sec: 113.171\n",
      "INFO:tensorflow:global_step/sec: 111.092\n",
      "INFO:tensorflow:loss = 66.623146, step = 7002 (1.825 sec)\n",
      "INFO:tensorflow:global_step/sec: 107.622\n",
      "INFO:tensorflow:global_step/sec: 111.269\n",
      "INFO:tensorflow:loss = 100.816986, step = 7202 (1.801 sec)\n",
      "INFO:tensorflow:global_step/sec: 111.031\n",
      "INFO:tensorflow:global_step/sec: 112.305\n",
      "INFO:tensorflow:loss = 60.74941, step = 7402 (1.784 sec)\n",
      "INFO:tensorflow:global_step/sec: 108.826\n",
      "INFO:tensorflow:global_step/sec: 108.033\n",
      "INFO:tensorflow:loss = 56.317833, step = 7602 (1.829 sec)\n",
      "INFO:tensorflow:global_step/sec: 115.193\n",
      "INFO:tensorflow:global_step/sec: 112.748\n",
      "INFO:tensorflow:loss = 81.64923, step = 7802 (1.755 sec)\n",
      "INFO:tensorflow:global_step/sec: 117.325\n",
      "INFO:tensorflow:global_step/sec: 113.633\n",
      "INFO:tensorflow:loss = 66.00893, step = 8002 (1.746 sec)\n",
      "INFO:tensorflow:global_step/sec: 114.185\n",
      "INFO:tensorflow:global_step/sec: 103.642\n",
      "INFO:tensorflow:loss = 71.80684, step = 8202 (1.820 sec)\n",
      "INFO:tensorflow:global_step/sec: 114.026\n",
      "INFO:tensorflow:global_step/sec: 113.526\n",
      "INFO:tensorflow:loss = 83.484566, step = 8402 (1.770 sec)\n",
      "INFO:tensorflow:global_step/sec: 114.143\n",
      "INFO:tensorflow:global_step/sec: 108.917\n",
      "INFO:tensorflow:loss = 73.62125, step = 8602 (1.802 sec)\n",
      "INFO:tensorflow:global_step/sec: 109.768\n",
      "INFO:tensorflow:global_step/sec: 103.027\n",
      "INFO:tensorflow:Saving checkpoints for 8800 into /content/datalab/training-data-analyst/courses/machine_learning/feateng/taxi_trained/model.ckpt.\n",
      "INFO:tensorflow:Loss for final step: 100.5379.\n",
      "INFO:tensorflow:Starting evaluation at 2018-01-22-22:18:41\n",
      "INFO:tensorflow:Restoring parameters from /content/datalab/training-data-analyst/courses/machine_learning/feateng/taxi_trained/model.ckpt-8800\n",
      "INFO:tensorflow:Evaluation [1/10]\n",
      "INFO:tensorflow:Evaluation [2/10]\n",
      "INFO:tensorflow:Evaluation [3/10]\n",
      "INFO:tensorflow:Evaluation [4/10]\n",
      "INFO:tensorflow:Evaluation [5/10]\n",
      "INFO:tensorflow:Evaluation [6/10]\n",
      "INFO:tensorflow:Evaluation [7/10]\n",
      "INFO:tensorflow:Evaluation [8/10]\n",
      "INFO:tensorflow:Evaluation [9/10]\n",
      "INFO:tensorflow:Evaluation [10/10]\n",
      "INFO:tensorflow:Finished evaluation at 2018-01-22-22:18:42\n",
      "INFO:tensorflow:Saving dict for global step 8800: global_step = 8800, loss = 71.61586, rmse = 8.462615, training/hptuning/metric = 8.462615\n",
      "INFO:tensorflow:Restoring parameters from /content/datalab/training-data-analyst/courses/machine_learning/feateng/taxi_trained/model.ckpt-8800\n",
      "INFO:tensorflow:Assets added to graph.\n",
      "INFO:tensorflow:No assets to write.\n",
      "INFO:tensorflow:SavedModel written to: /content/datalab/training-data-analyst/courses/machine_learning/feateng/taxi_trained/export/Servo/temp-1516659522/saved_model.pb\n"
     ]
    }
   ],
   "source": [
    "%bash\n",
    "rm -rf taxifare.tar.gz taxi_trained\n",
    "export PYTHONPATH=${PYTHONPATH}:${REPO}/courses/machine_learning/feateng/taxifare\n",
    "python -m trainer.task \\\n",
    "   --train_data_paths=\"${REPO}/courses/machine_learning/feateng/sample/train*\" \\\n",
    "   --eval_data_paths=${REPO}/courses/machine_learning/feateng/sample/valid.csv  \\\n",
    "   --output_dir=${REPO}/courses/machine_learning/feateng/taxi_trained \\\n",
    "   --num_epochs=100 --job-dir=/tmp"
   ]
  },
  {
   "cell_type": "code",
   "execution_count": 51,
   "metadata": {
    "collapsed": false
   },
   "outputs": [
    {
     "name": "stdout",
     "output_type": "stream",
     "text": [
      "1516659522\r\n"
     ]
    }
   ],
   "source": [
    "!ls $REPO/courses/machine_learning/feateng/taxi_trained/export/Servo"
   ]
  },
  {
   "cell_type": "code",
   "execution_count": 52,
   "metadata": {
    "collapsed": false
   },
   "outputs": [
    {
     "name": "stdout",
     "output_type": "stream",
     "text": [
      "Writing /tmp/test.json\n"
     ]
    }
   ],
   "source": [
    "%writefile /tmp/test.json\n",
    "{\"dayofweek\":\"Sun\",\"hourofday\":17,\"pickuplon\": -73.885262,\"pickuplat\": 40.773008,\"dropofflon\": -73.987232,\"dropofflat\": 40.732403,\"passengers\": 2}"
   ]
  },
  {
   "cell_type": "code",
   "execution_count": 53,
   "metadata": {
    "collapsed": false
   },
   "outputs": [
    {
     "name": "stdout",
     "output_type": "stream",
     "text": [
      "SCORES\n",
      "12.4498\n"
     ]
    },
    {
     "name": "stderr",
     "output_type": "stream",
     "text": [
      "WARNING: 2018-01-22 22:18:47.915447: I tensorflow/core/platform/cpu_feature_guard.cc:137] Your CPU supports instructions that this TensorFlow binary was not compiled to use: SSE4.1 SSE4.2 AVX AVX2 FMA\n",
      "\n"
     ]
    }
   ],
   "source": [
    "%bash\n",
    "model_dir=$(ls ${REPO}/courses/machine_learning/feateng/taxi_trained/export/Servo)\n",
    "gcloud ml-engine local predict \\\n",
    "    --model-dir=${REPO}/courses/machine_learning/feateng/taxi_trained/export/Servo/${model_dir} \\\n",
    "    --json-instances=/tmp/test.json"
   ]
  },
  {
   "cell_type": "markdown",
   "metadata": {},
   "source": [
    "<h2> 5. Train on cloud </h2>\n"
   ]
  },
  {
   "cell_type": "code",
   "execution_count": null,
   "metadata": {
    "collapsed": false
   },
   "outputs": [],
   "source": [
    "# might need this ...\n",
    "# !gcloud --quiet components update"
   ]
  },
  {
   "cell_type": "code",
   "execution_count": 54,
   "metadata": {
    "collapsed": false
   },
   "outputs": [
    {
     "name": "stdout",
     "output_type": "stream",
     "text": [
      "gs://single-bucket/taxifare/ch4/taxi_trained us-central1 lab4a_180122_221849\n",
      "jobId: lab4a_180122_221849\n",
      "state: QUEUED\n"
     ]
    },
    {
     "name": "stderr",
     "output_type": "stream",
     "text": [
      "CommandException: 1 files/objects could not be removed.\n",
      "API [ml.googleapis.com] not enabled on project [coursera-192902]. \n",
      "Would you like to enable and retry?  (Y/n)?  \n",
      "Enabling service ml.googleapis.com on project coursera-192902...\n",
      "Waiting for async operation operations/tmo-acf.826f05a2-2849-4f07-a7c9-4184d977ddd5 to complete...\n",
      "Operation finished successfully. The following command can describe the Operation details:\n",
      " gcloud service-management operations describe operations/tmo-acf.826f05a2-2849-4f07-a7c9-4184d977ddd5\n",
      "Job [lab4a_180122_221849] submitted successfully.\n",
      "Your job is still active. You may view the status of your job with the command\n",
      "\n",
      "  $ gcloud ml-engine jobs describe lab4a_180122_221849\n",
      "\n",
      "or continue streaming the logs with the command\n",
      "\n",
      "  $ gcloud ml-engine jobs stream-logs lab4a_180122_221849\n"
     ]
    }
   ],
   "source": [
    "%%bash\n",
    "OUTDIR=gs://${BUCKET}/taxifare/ch4/taxi_trained\n",
    "JOBNAME=lab4a_$(date -u +%y%m%d_%H%M%S)\n",
    "echo $OUTDIR $REGION $JOBNAME\n",
    "gsutil -m rm -rf $OUTDIR\n",
    "gcloud ml-engine jobs submit training $JOBNAME \\\n",
    "   --region=$REGION \\\n",
    "   --module-name=trainer.task \\\n",
    "   --package-path=${REPO}/courses/machine_learning/feateng/taxifare/trainer \\\n",
    "   --job-dir=$OUTDIR \\\n",
    "   --staging-bucket=gs://$BUCKET \\\n",
    "   --scale-tier=BASIC \\\n",
    "   --runtime-version=1.2 \\\n",
    "   -- \\\n",
    "   --train_data_paths=\"gs://$BUCKET/taxifare/ch4/taxi_preproc/train*\" \\\n",
    "   --eval_data_paths=\"gs://${BUCKET}/taxifare/ch4/taxi_preproc/valid*\"  \\\n",
    "   --output_dir=$OUTDIR \\\n",
    "   --num_epochs=100"
   ]
  },
  {
   "cell_type": "markdown",
   "metadata": {},
   "source": [
    "The RMSE is now 8.33249, an improvement over the 9.3 that we were getting ... of course, we won't know until we train/validate on a larger dataset. Still, this is promising. But before we do that, let's do hyper-parameter tuning."
   ]
  },
  {
   "cell_type": "markdown",
   "metadata": {},
   "source": [
    "<h2> 6. Hyper-parameter tune </h2>\n",
    "\n",
    "Look at <a href=\"hyperparam.ipynb\">hyper-parameter tuning notebook</a> to decide what parameters to use for model. Based on that run, I ended up choosing:\n",
    "<ol>\n",
    "<li> train_batch_size: 512 </li>\n",
    "<li> nbuckets: 16 </li>\n",
    "<li> hidden_units: \"64 64 64 8\" </li>    \n",
    "</ol>\n",
    "\n",
    "This gives an RMSE of 5, a considerable improvement from the 8.3 we were getting earlier ... Let's try this over a larger dataset."
   ]
  },
  {
   "cell_type": "markdown",
   "metadata": {},
   "source": [
    "<h1> Run Cloud training on 2 million row dataset </h1>\n",
    "\n",
    "This run uses as input 2 million rows and takes ~20 minutes with 10 workers (STANDARD_1 pricing tier). The model is exactly the same as above. The only changes are to the input (to use the larger dataset) and to the Cloud MLE tier (to use STANDARD_1 instead of BASIC -- STANDARD_1 is approximately 10x more powerful than BASIC). Because the Dataflow preprocessing takes about 15 minutes, we train here using CSV files in a public bucket.\n",
    "\n",
    "When doing distributed training, use train_steps instead of num_epochs. The distributed workers don't know how many rows there are, but we can calculate train_steps = num_rows \\* num_epochs / train_batch_size. In this case, we have 2141023 * 100 / 512 = 418168 train steps."
   ]
  },
  {
   "cell_type": "code",
   "execution_count": 55,
   "metadata": {
    "collapsed": false
   },
   "outputs": [
    {
     "name": "stdout",
     "output_type": "stream",
     "text": [
      "gs://single-bucket/taxifare/feateng2m us-central1 lab4a_180122_222340\n",
      "jobId: lab4a_180122_222340\n",
      "state: QUEUED\n"
     ]
    },
    {
     "name": "stderr",
     "output_type": "stream",
     "text": [
      "bash: line 2: WARNING: command not found\n",
      "CommandException: 1 files/objects could not be removed.\n",
      "Job [lab4a_180122_222340] submitted successfully.\n",
      "Your job is still active. You may view the status of your job with the command\n",
      "\n",
      "  $ gcloud ml-engine jobs describe lab4a_180122_222340\n",
      "\n",
      "or continue streaming the logs with the command\n",
      "\n",
      "  $ gcloud ml-engine jobs stream-logs lab4a_180122_222340\n"
     ]
    }
   ],
   "source": [
    "%%bash\n",
    "\n",
    "WARNING -- this uses significant resources and is optional. Remove this line to run the block.\n",
    "\n",
    "OUTDIR=gs://${BUCKET}/taxifare/feateng2m\n",
    "JOBNAME=lab4a_$(date -u +%y%m%d_%H%M%S)\n",
    "TIER=STANDARD_1 \n",
    "echo $OUTDIR $REGION $JOBNAME\n",
    "gsutil -m rm -rf $OUTDIR\n",
    "gcloud ml-engine jobs submit training $JOBNAME \\\n",
    "   --region=$REGION \\\n",
    "   --module-name=trainer.task \\\n",
    "   --package-path=${REPO}/courses/machine_learning/feateng/taxifare/trainer \\\n",
    "   --job-dir=$OUTDIR \\\n",
    "   --staging-bucket=gs://$BUCKET \\\n",
    "   --scale-tier=$TIER \\\n",
    "   --runtime-version=1.2 \\\n",
    "   -- \\\n",
    "   --train_data_paths=\"gs://cloud-training-demos/taxifare/train*\" \\\n",
    "   --eval_data_paths=\"gs://cloud-training-demos/taxifare/valid*\"  \\\n",
    "   --output_dir=$OUTDIR \\\n",
    "   --train_steps=418168 \\\n",
    "   --train_batch_size=512 --nbuckets=16 --hidden_units=\"64 64 64 8\""
   ]
  },
  {
   "cell_type": "code",
   "execution_count": 56,
   "metadata": {
    "collapsed": false
   },
   "outputs": [
    {
     "name": "stdout",
     "output_type": "stream",
     "text": [
      "gs://single-bucket/taxifare/feateng2m\n"
     ]
    },
    {
     "data": {
      "text/html": [
       "<p>TensorBoard was started successfully with pid 18761. Click <a href=\"/_proxy/39687/\" target=\"_blank\">here</a> to access it.</p>"
      ]
     },
     "metadata": {},
     "output_type": "display_data"
    },
    {
     "data": {
      "text/plain": [
       "18761"
      ]
     },
     "execution_count": 56,
     "metadata": {},
     "output_type": "execute_result"
    }
   ],
   "source": [
    "from google.datalab.ml import TensorBoard\n",
    "OUTDIR='gs://{0}/taxifare/feateng2m'.format(BUCKET)\n",
    "print OUTDIR\n",
    "TensorBoard().start(OUTDIR)"
   ]
  },
  {
   "cell_type": "markdown",
   "metadata": {},
   "source": [
    "The RMSE after training on the 2-million-row dataset is \\$3.03.  This graph shows the improvements so far ..."
   ]
  },
  {
   "cell_type": "code",
   "execution_count": 57,
   "metadata": {
    "collapsed": false
   },
   "outputs": [
    {
     "name": "stderr",
     "output_type": "stream",
     "text": [
      "/usr/local/lib/python2.7/dist-packages/seaborn/categorical.py:1424: FutureWarning: remove_na is deprecated and is a private function. Do not use.\n",
      "  stat_data = remove_na(group_data)\n"
     ]
    },
    {
     "data": {
      "image/png": "[encoded data removed]",
      "text/plain": [
       "<matplotlib.figure.Figure at 0x7fc45305d810>"
      ]
     },
     "metadata": {},
     "output_type": "display_data"
    }
   ],
   "source": [
    "import pandas as pd\n",
    "import seaborn as sns\n",
    "import numpy as np\n",
    "import matplotlib.pyplot as plt\n",
    "\n",
    "df = pd.DataFrame({'Lab' : pd.Series(['1a', '2-3', '4a', '4b', '4c']),\n",
    "              'Method' : pd.Series(['Heuristic Benchmark', 'tf.learn', '+Feature Eng.', '+ Hyperparam', '+ 2m rows']),\n",
    "              'RMSE': pd.Series([8.026, 9.4, 8.3, 5.0, 3.03]) })\n",
    "\n",
    "ax = sns.barplot(data=df, x='Method', y='RMSE')\n",
    "ax.set_ylabel('RMSE (dollars)')\n",
    "ax.set_xlabel('Labs/Methods')\n",
    "plt.plot(np.linspace(-20,120,1000), [5]*1000, 'b');"
   ]
  },
  {
   "cell_type": "code",
   "execution_count": 58,
   "metadata": {
    "collapsed": false
   },
   "outputs": [
    {
     "name": "stderr",
     "output_type": "stream",
     "text": [
      "Copying gs://single-bucket/taxifare/ch4/taxi_preproc/tmp/staging/preprocess-taxifeatures-180122-221628.1516659388.764292/dataflow_python_sdk.tar [Content-Type=application/octet-stream]...\n",
      "/ [0 files][    0.0 B/563.3 KiB]                                                \r",
      "Removing gs://single-bucket/taxifare/ch4/taxi_preproc/tmp/staging/preprocess-taxifeatures-180122-221628.1516659388.764292/dataflow_python_sdk.tar...\n",
      "/ [1/6 files][563.3 KiB/563.3 KiB]  99% Done                                    \r"
     ]
    }
   ],
   "source": [
    "%bash\n",
    "gsutil -m mv gs://${BUCKET}/taxifare/ch4/  gs://${BUCKET}/taxifare/ch4_1m/"
   ]
  },
  {
   "cell_type": "markdown",
   "metadata": {},
   "source": [
    "Copyright 2016 Google Inc. Licensed under the Apache License, Version 2.0 (the \"License\"); you may not use this file except in compliance with the License. You may obtain a copy of the License at http://www.apache.org/licenses/LICENSE-2.0 Unless required by applicable law or agreed to in writing, software distributed under the License is distributed on an \"AS IS\" BASIS, WITHOUT WARRANTIES OR CONDITIONS OF ANY KIND, either express or implied. See the License for the specific language governing permissions and limitations under the License"
   ]
  }
 ],
 "metadata": {
  "kernelspec": {
   "display_name": "Python 2",
   "language": "python",
   "name": "python2"
  },
  "language_info": {
   "codemirror_mode": {
    "name": "ipython",
    "version": 2
   },
   "file_extension": ".py",
   "mimetype": "text/x-python",
   "name": "python",
   "nbconvert_exporter": "python",
   "pygments_lexer": "ipython2",
   "version": "2.7.12"
  }
 },
 "nbformat": 4,
 "nbformat_minor": 0
}
