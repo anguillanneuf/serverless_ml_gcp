{
 "cells": [
  {
   "cell_type": "markdown",
   "metadata": {},
   "source": [
    "<h1> Feature Engineering </h1>\n",
    "\n",
    "In this notebook, you will learn how to incorporate feature engineering into your pipeline.\n",
    "<ul>\n",
    "<li> Working with feature columns </li>\n",
    "<li> Adding feature crosses in TensorFlow </li>\n",
    "<li> Reading data from BigQuery </li>\n",
    "<li> Creating datasets using Dataflow </li>\n",
    "<li> Using a wide-and-deep model </li>\n",
    "</ul>\n",
    "\n",
    "Table of Contents:\n",
    "<div id=\"toc\"></div>"
   ]
  },
  {
   "cell_type": "code",
   "execution_count": 35,
   "metadata": {
    "collapsed": false
   },
   "outputs": [
    {
     "data": {
      "application/javascript": [
       "$.getScript('https://kmahelona.github.io/ipython_notebook_goodies/ipython_notebook_toc.js')"
      ],
      "text/plain": [
       "<IPython.core.display.Javascript object>"
      ]
     },
     "metadata": {},
     "output_type": "display_data"
    }
   ],
   "source": [
    "%%javascript\n",
    "$.getScript('https://kmahelona.github.io/ipython_notebook_goodies/ipython_notebook_toc.js')"
   ]
  },
  {
   "cell_type": "code",
   "execution_count": 36,
   "metadata": {
    "collapsed": false
   },
   "outputs": [],
   "source": [
    "import warnings\n",
    "\n",
    "with warnings.catch_warnings():\n",
    "    warnings.filterwarnings(\"ignore\",category=DeprecationWarning)\n",
    "    import apache_beam"
   ]
  },
  {
   "cell_type": "code",
   "execution_count": 37,
   "metadata": {
    "collapsed": false
   },
   "outputs": [
    {
     "name": "stdout",
     "output_type": "stream",
     "text": [
      "1.4.1\n"
     ]
    }
   ],
   "source": [
    "import google.datalab.ml as ml\n",
    "import tensorflow as tf\n",
    "# import apache_beam as beam\n",
    "import shutil\n",
    "print tf.__version__"
   ]
  },
  {
   "cell_type": "code",
   "execution_count": 38,
   "metadata": {
    "collapsed": true
   },
   "outputs": [],
   "source": [
    "import apache_beam as beam"
   ]
  },
  {
   "cell_type": "markdown",
   "metadata": {},
   "source": [
    "<h2> 1. Environment variables for project and bucket </h2>\n",
    "\n",
    "<li> Your project id is the *unique* string that identifies your project (not the project name). You can find this from the GCP Console dashboard's Home page.  My dashboard reads:  <b>Project ID:</b> cloud-training-demos </li>\n",
    "<li> Cloud training often involves saving and restoring model files. Therefore, we should <b>create a single-region bucket</b>. If you don't have a bucket already, I suggest that you create one from the GCP console (because it will dynamically check whether the bucket name you want is available) </li>\n",
    "</ol>\n",
    "<b>Change the cell below</b> to reflect your Project ID and bucket name.\n"
   ]
  },
  {
   "cell_type": "code",
   "execution_count": 39,
   "metadata": {
    "collapsed": false
   },
   "outputs": [],
   "source": [
    "import os\n",
    "PROJECT = 'coursera-192902'    # CHANGE THIS\n",
    "BUCKET = 'single-bucket'  # CHANGE THIS\n",
    "REGION = 'us-central1' # CHANGE THIS"
   ]
  },
  {
   "cell_type": "markdown",
   "metadata": {},
   "source": [
    "Modify this path so that it works.  Essentially, /content is mapped in Datalab to where the home icon takes you. Then, you need to find where training_data_analyst is on your system relative to /content."
   ]
  },
  {
   "cell_type": "code",
   "execution_count": 40,
   "metadata": {
    "collapsed": false
   },
   "outputs": [
    {
     "data": {
      "text/plain": [
       "['.ipynb_checkpoints',\n",
       " 'Untitled Notebook.ipynb',\n",
       " 'CPB100',\n",
       " 'README.md',\n",
       " 'quests',\n",
       " 'self-paced-labs',\n",
       " 'CONTRIBUTING.md',\n",
       " 'LICENSE',\n",
       " '.git',\n",
       " '.gitignore',\n",
       " 'courses',\n",
       " 'datalab',\n",
       " 'blogs']"
      ]
     },
     "execution_count": 40,
     "metadata": {},
     "output_type": "execute_result"
    }
   ],
   "source": [
    "import os\n",
    "REPO = \"/content/datalab/training-data-analyst\"\n",
    "os.listdir(REPO)"
   ]
  },
  {
   "cell_type": "code",
   "execution_count": 41,
   "metadata": {
    "collapsed": true
   },
   "outputs": [],
   "source": [
    "# for bash\n",
    "os.environ['PROJECT'] = PROJECT\n",
    "os.environ['BUCKET'] = BUCKET\n",
    "os.environ['REGION'] = REGION\n",
    "os.environ['REPO'] = REPO"
   ]
  },
  {
   "cell_type": "markdown",
   "metadata": {},
   "source": [
    "<h2> 2. Specifying query to pull the data </h2>\n",
    "\n",
    "Let's pull out a few extra columns from the timestamp."
   ]
  },
  {
   "cell_type": "code",
   "execution_count": 42,
   "metadata": {
    "collapsed": false
   },
   "outputs": [
    {
     "name": "stdout",
     "output_type": "stream",
     "text": [
      "\n",
      "SELECT\n",
      "  (tolls_amount + fare_amount) AS fare_amount,\n",
      "  DAYOFWEEK(pickup_datetime) AS dayofweek,\n",
      "  HOUR(pickup_datetime) AS hourofday,\n",
      "  pickup_longitude AS pickuplon,\n",
      "  pickup_latitude AS pickuplat,\n",
      "  dropoff_longitude AS dropofflon,\n",
      "  dropoff_latitude AS dropofflat,\n",
      "  passenger_count*1.0 AS passengers,\n",
      "  CONCAT(STRING(pickup_datetime), STRING(pickup_longitude), STRING(pickup_latitude), STRING(dropoff_latitude), STRING(dropoff_longitude)) AS key\n",
      "FROM\n",
      "  [nyc-tlc:yellow.trips]\n",
      "WHERE\n",
      "  trip_distance > 0\n",
      "  AND fare_amount >= 2.5\n",
      "  AND pickup_longitude > -78\n",
      "  AND pickup_longitude < -70\n",
      "  AND dropoff_longitude > -78\n",
      "  AND dropoff_longitude < -70\n",
      "  AND pickup_latitude > 37\n",
      "  AND pickup_latitude < 45\n",
      "  AND dropoff_latitude > 37\n",
      "  AND dropoff_latitude < 45\n",
      "  AND passenger_count > 0\n",
      "   AND ABS(HASH(pickup_datetime)) % 100000 == 2\n"
     ]
    }
   ],
   "source": [
    "def create_query(phase, EVERY_N):\n",
    "  \"\"\"\n",
    "  phase: 1 = train 2 = valid\n",
    "  \"\"\"\n",
    "  base_query = \"\"\"\n",
    "SELECT\n",
    "  (tolls_amount + fare_amount) AS fare_amount,\n",
    "  DAYOFWEEK(pickup_datetime) AS dayofweek,\n",
    "  HOUR(pickup_datetime) AS hourofday,\n",
    "  pickup_longitude AS pickuplon,\n",
    "  pickup_latitude AS pickuplat,\n",
    "  dropoff_longitude AS dropofflon,\n",
    "  dropoff_latitude AS dropofflat,\n",
    "  passenger_count*1.0 AS passengers,\n",
    "  CONCAT(STRING(pickup_datetime), STRING(pickup_longitude), STRING(pickup_latitude), STRING(dropoff_latitude), STRING(dropoff_longitude)) AS key\n",
    "FROM\n",
    "  [nyc-tlc:yellow.trips]\n",
    "WHERE\n",
    "  trip_distance > 0\n",
    "  AND fare_amount >= 2.5\n",
    "  AND pickup_longitude > -78\n",
    "  AND pickup_longitude < -70\n",
    "  AND dropoff_longitude > -78\n",
    "  AND dropoff_longitude < -70\n",
    "  AND pickup_latitude > 37\n",
    "  AND pickup_latitude < 45\n",
    "  AND dropoff_latitude > 37\n",
    "  AND dropoff_latitude < 45\n",
    "  AND passenger_count > 0\n",
    "  \"\"\"\n",
    "\n",
    "  if EVERY_N == None:\n",
    "    if phase < 2:\n",
    "      # Training\n",
    "      query = \"{0} AND ABS(HASH(pickup_datetime)) % 4 < 2\".format(base_query)\n",
    "    else:\n",
    "      # Validation\n",
    "      query = \"{0} AND ABS(HASH(pickup_datetime)) % 4 == {1}\".format(base_query, phase)\n",
    "  else:\n",
    "      query = \"{0} AND ABS(HASH(pickup_datetime)) % {1} == {2}\".format(base_query, EVERY_N, phase)\n",
    "    \n",
    "  return query\n",
    "    \n",
    "print create_query(2, 100000)"
   ]
  },
  {
   "cell_type": "markdown",
   "metadata": {},
   "source": [
    "Try the query above in https://bigquery.cloud.google.com/table/nyc-tlc:yellow.trips if you want to see what it does (ADD LIMIT 10 to the query!)"
   ]
  },
  {
   "cell_type": "markdown",
   "metadata": {},
   "source": [
    "<h2> 3. Preprocessing Dataflow job from BigQuery </h2>\n",
    "\n",
    "This code reads from BigQuery and saves the data as-is on Google Cloud Storage.  We can do additional preprocessing and cleanup inside Dataflow, but then we'll have to remember to repeat that prepreprocessing during inference. It is better to use tf.transform which will do this book-keeping for you, or to do preprocessing within your TensorFlow model. We will look at this in future notebooks. For now, we are simply moving data from BigQuery to CSV using Dataflow.\n",
    "\n",
    "While we could read from BQ directly from TensorFlow (See: https://www.tensorflow.org/api_docs/python/tf/contrib/cloud/BigQueryReader), it is quite convenient to export to CSV and do the training off CSV.  Let's use Dataflow to do this at scale.\n",
    "\n",
    "Because we are running this on the Cloud, you should go to the GCP Console (https://console.cloud.google.com/dataflow) to look at the status of the job. It will take several minutes for the preprocessing job to launch."
   ]
  },
  {
   "cell_type": "code",
   "execution_count": 43,
   "metadata": {
    "collapsed": false
   },
   "outputs": [
    {
     "name": "stderr",
     "output_type": "stream",
     "text": [
      "Removing gs://single-bucket/taxifare/ch4/taxi_preproc/tmp/preprocess-taxifeatures-180122-221628.1516659388.764292/#1516659397413688...\n",
      "Removing gs://single-bucket/taxifare/ch4/taxi_preproc/tmp/preprocess-taxifeatures-180122-221628.1516659388.764292/dax-tmp-2018-01-22_14_16_32-2958510776184452122-S01-0-38beca16b56c7417/#1516659397799072...\n",
      "Removing gs://single-bucket/taxifare/ch4/taxi_preproc/tmp/preprocess-taxifeatures-180122-221628.1516659388.764292/dax-tmp-2018-01-22_14_16_32-2958510776184452122-S01-1-3cee3388804e6877/#1516659397742216...\n",
      "Removing gs://single-bucket/taxifare/ch4/taxi_preproc/tmp/preprocess-taxifeatures-180122-221628.1516659388.764292/dax-tmp-2018-01-22_14_16_32-2958510776184452122-S10-0-44855e279edf4084/#1516659397742385...\n",
      "Removing gs://single-bucket/taxifare/ch4/taxi_preproc/tmp/preprocess-taxifeatures-180122-221628.1516659388.764292/dax-tmp-2018-01-22_14_16_32-2958510776184452122-S10-1-4970415d1744a39b/#1516659397854623...\n",
      "/ [1/5 objects]  20% Done                                                       \r",
      "/ [2/5 objects]  40% Done                                                       \r",
      "/ [3/5 objects]  60% Done                                                       \r",
      "/ [4/5 objects]  80% Done                                                       \r",
      "/ [5/5 objects] 100% Done                                                       \r\n",
      "Operation completed over 5 objects.                                              \n"
     ]
    }
   ],
   "source": [
    "%bash\n",
    "gsutil -m rm -rf gs://$BUCKET/taxifare/ch4/taxi_preproc/"
   ]
  },
  {
   "cell_type": "code",
   "execution_count": 44,
   "metadata": {
    "collapsed": false
   },
   "outputs": [],
   "source": [
    "import datetime\n",
    "import apache_beam as beam \n",
    "\n",
    "def to_csv(rowdict):\n",
    "  import copy\n",
    "  days = ['null', 'Sun', 'Mon', 'Tue', 'Wed', 'Thu', 'Fri', 'Sat']\n",
    "  CSV_COLUMNS = 'fare_amount,dayofweek,hourofday,pickuplon,pickuplat,dropofflon,dropofflat,passengers,key'.split(',')\n",
    "  result = copy.deepcopy(rowdict)\n",
    "  result['dayofweek'] = days[result['dayofweek']]\n",
    "  return ','.join([str(result[k]) for k in CSV_COLUMNS])\n",
    "\n",
    "def preprocess(EVERY_N, RUNNER):\n",
    "  job_name = 'preprocess-taxifeatures' + '-' + datetime.datetime.now().strftime('%y%m%d-%H%M%S')\n",
    "  print 'Launching Dataflow job {} ... hang on'.format(job_name)\n",
    "  OUTPUT_DIR = 'gs://{0}/taxifare/ch4/taxi_preproc/'.format(BUCKET)\n",
    "  options = {\n",
    "    'staging_location': os.path.join(OUTPUT_DIR, 'tmp', 'staging'),\n",
    "    'temp_location': os.path.join(OUTPUT_DIR, 'tmp'),\n",
    "    'job_name': 'preprocess-taxifeatures' + '-' + datetime.datetime.now().strftime('%y%m%d-%H%M%S'),\n",
    "    'project': PROJECT,\n",
    "    'teardown_policy': 'TEARDOWN_ALWAYS',\n",
    "    'no_save_main_session': True\n",
    "  }\n",
    "  opts = beam.pipeline.PipelineOptions(flags=[], **options)\n",
    "  p = beam.Pipeline(RUNNER, options=opts)\n",
    "  for n, step in enumerate(['train', 'valid']):\n",
    "    query = create_query(n+1, EVERY_N)\n",
    "    outfile = os.path.join(OUTPUT_DIR, '{}.csv'.format(step))\n",
    "    (\n",
    "      p | 'read_{}'.format(step) >> beam.io.Read(beam.io.BigQuerySource(query=query))\n",
    "        | 'tocsv_{}'.format(step) >> beam.Map(to_csv)\n",
    "        | 'write_{}'.format(step) >> beam.io.Write(beam.io.WriteToText(outfile))\n",
    "    )\n",
    "\n",
    "  p.run()"
   ]
  },
  {
   "cell_type": "code",
   "execution_count": 45,
   "metadata": {
    "collapsed": false
   },
   "outputs": [
    {
     "name": "stdout",
     "output_type": "stream",
     "text": [
      "Launching Dataflow job preprocess-taxifeatures-180212-205618 ... hang on\n",
      "[2018-02-12 20:56:19,398] {dependency.py:463} INFO - Staging the SDK tarball from PyPI to gs://single-bucket/taxifare/ch4/taxi_preproc/tmp/staging/preprocess-taxifeatures-180212-205618.1518468979.310195/dataflow_python_sdk.tar\n",
      "[2018-02-12 20:56:19,403] {dependency.py:526} INFO - Executing command: ['/usr/bin/python', '-m', 'pip', 'install', '--download', '/tmp/tmpiHUtO3', 'google-cloud-dataflow==2.0.0', '--no-binary', ':all:', '--no-deps']\n",
      "[2018-02-12 20:56:23,035] {dependency.py:88} INFO - file copy from /tmp/tmpiHUtO3/google-cloud-dataflow-2.0.0.tar.gz to gs://single-bucket/taxifare/ch4/taxi_preproc/tmp/staging/preprocess-taxifeatures-180212-205618.1518468979.310195/dataflow_python_sdk.tar.\n",
      "[2018-02-12 20:56:23,046] {client.py:614} INFO - Attempting refresh to obtain initial access_token\n",
      "[2018-02-12 20:56:23,633] {client.py:614} INFO - Attempting refresh to obtain initial access_token\n",
      "[2018-02-12 20:56:24,614] {apiclient.py:485} INFO - Create job: <Job\n",
      " createTime: u'2018-02-12T20:56:24.575478Z'\n",
      " currentStateTime: u'1970-01-01T00:00:00Z'\n",
      " id: u'2018-02-12_12_56_23-9880582729468518734'\n",
      " location: u'us-central1'\n",
      " name: u'preprocess-taxifeatures-180212-205618'\n",
      " projectId: u'coursera-192902'\n",
      " stageStates: []\n",
      " steps: []\n",
      " tempFiles: []\n",
      " type: TypeValueValuesEnum(JOB_TYPE_BATCH, 1)>\n",
      "[2018-02-12 20:56:24,618] {apiclient.py:487} INFO - Created job with id: [2018-02-12_12_56_23-9880582729468518734]\n",
      "[2018-02-12 20:56:24,621] {apiclient.py:491} INFO - To access the Dataflow monitoring console, please navigate to https://console.developers.google.com/project/coursera-192902/dataflow/job/2018-02-12_12_56_23-9880582729468518734\n"
     ]
    }
   ],
   "source": [
    "# Change as needed\n",
    "#preprocess(50*100000, 'DirectRunner')  # runs locally\n",
    "preprocess(50*1000, 'DataflowRunner') # runs on cloud; change first arg to None to preprocess full dataset"
   ]
  },
  {
   "cell_type": "code",
   "execution_count": 46,
   "metadata": {
    "collapsed": false
   },
   "outputs": [
    {
     "name": "stdout",
     "output_type": "stream",
     "text": [
      "   2556219  2018-02-12T21:03:14Z  gs://single-bucket/taxifare/ch4/taxi_preproc/train.csv-00000-of-00001\n",
      "   2419169  2018-02-12T21:03:20Z  gs://single-bucket/taxifare/ch4/taxi_preproc/valid.csv-00000-of-00001\n",
      "                                 gs://single-bucket/taxifare/ch4/taxi_preproc/tmp/\n",
      "TOTAL: 2 objects, 4975388 bytes (4.74 MiB)\n"
     ]
    }
   ],
   "source": [
    "%bash\n",
    "gsutil ls -l gs://$BUCKET/taxifare/ch4/taxi_preproc/"
   ]
  },
  {
   "cell_type": "code",
   "execution_count": 47,
   "metadata": {
    "collapsed": false
   },
   "outputs": [
    {
     "name": "stdout",
     "output_type": "stream",
     "text": [
      "10.1,Fri,14,-73.966973,40.770045,-73.966973,40.770045,2.0,2010-10-08 14:52:00.000000-73.96740.7740.77-73.967\n",
      "19.0,Wed,15,-73.981985,40.754645,-74.00003,40.714303,2.0,2012-09-05 15:45:00.000000-73.98240.754640.7143-74\n",
      "12.1,Wed,10,-73.987306,40.75443,-73.999998,40.720361,2.0,2010-10-20 10:49:58.000000-73.987340.754440.7204-74\n",
      "4.1,Tue,23,-73.992283,40.75907,-73.999973,40.761296,2.0,2010-11-30 23:19:24.000000-73.992340.759140.7613-74\n",
      "8.5,Sat,18,-73.993321,40.747336,-73.999961,40.728558,2.0,2013-11-09 18:48:28.000000-73.993340.747340.7286-74\n",
      "5.7,Wed,19,-73.964436,40.769967,-73.964436,40.769967,2.0,2009-04-22 19:45:39.000000-73.964440.7740.77-73.9644\n",
      "8.9,Sun,13,-73.98504,40.742038,-73.990657,40.750042,2.0,2011-07-31 13:10:00.000000-73.98540.74240.75-73.9907\n",
      "49.8,Mon,15,-73.863107,40.769963,-73.863107,40.769963,2.0,2011-08-22 15:55:00.000000-73.863140.7740.77-73.8631\n",
      "16.9,Fri,2,-73.976433,40.744257,-73.99698,40.680028,2.0,2009-02-20 02:37:00.000000-73.976440.744340.68-73.997\n",
      "2.9,Fri,2,-74.00065,40.732032,-73.997997,40.732978,2.0,2009-02-20 02:37:00.000000-74.000640.73240.733-73.998\n"
     ]
    }
   ],
   "source": [
    "%bash\n",
    "gsutil cat \"gs://$BUCKET/taxifare/ch4/taxi_preproc/train.csv-00000-of-*\" | head"
   ]
  },
  {
   "cell_type": "markdown",
   "metadata": {},
   "source": [
    "<h2> 4. Develop model with new inputs </h2>\n",
    "\n",
    "Download a fraction of the preprocessed data to enable local development."
   ]
  },
  {
   "cell_type": "code",
   "execution_count": 48,
   "metadata": {
    "collapsed": false
   },
   "outputs": [
    {
     "name": "stderr",
     "output_type": "stream",
     "text": [
      "Copying gs://single-bucket/taxifare/ch4/taxi_preproc/train.csv-00000-of-00001...\n",
      "/ [0 files][    0.0 B/  2.4 MiB]                                                \r",
      "/ [1 files][  2.4 MiB/  2.4 MiB]                                                \r\n",
      "Operation completed over 1 objects/2.4 MiB.                                      \n",
      "Copying gs://single-bucket/taxifare/ch4/taxi_preproc/valid.csv-00000-of-00001...\n",
      "/ [0 files][    0.0 B/  2.3 MiB]                                                \r",
      "/ [1 files][  2.3 MiB/  2.3 MiB]                                                \r\n",
      "Operation completed over 1 objects/2.3 MiB.                                      \n"
     ]
    }
   ],
   "source": [
    "%bash\n",
    "gsutil cp \"gs://$BUCKET/taxifare/ch4/taxi_preproc/train.csv-00000-of-*\" sample/train.csv\n",
    "gsutil cp \"gs://$BUCKET/taxifare/ch4/taxi_preproc/valid.csv-00000-of-*\" sample/valid.csv"
   ]
  },
  {
   "cell_type": "markdown",
   "metadata": {},
   "source": [
    "Removed `mkdir sample` from the above cell. "
   ]
  },
  {
   "cell_type": "markdown",
   "metadata": {},
   "source": [
    "We have two new inputs in the INPUT_COLUMNS, three engineered features, and the estimator involves bucketization and feature crosses."
   ]
  },
  {
   "cell_type": "code",
   "execution_count": 49,
   "metadata": {
    "collapsed": false
   },
   "outputs": [
    {
     "name": "stdout",
     "output_type": "stream",
     "text": [
      "INPUT_COLUMNS = [\n",
      "    # Define features\n",
      "    tf.feature_column.categorical_column_with_vocabulary_list('dayofweek', vocabulary_list = ['Sun', 'Mon', 'Tues', 'Wed', 'Thu', 'Fri', 'Sat']),\n",
      "    tf.feature_column.categorical_column_with_identity('hourofday', num_buckets = 24),\n",
      "\n",
      "    # Numeric columns\n",
      "    tf.feature_column.numeric_column('pickuplon'),\n",
      "    tf.feature_column.numeric_column('pickuplat'),\n",
      "    tf.feature_column.numeric_column('dropofflat'),\n",
      "    tf.feature_column.numeric_column('dropofflon'),\n",
      "    tf.feature_column.numeric_column('passengers'),\n",
      "    \n",
      "    # Engineered features that are created in the input_fn\n",
      "    tf.feature_column.numeric_column('latdiff'),\n",
      "    tf.feature_column.numeric_column('londiff'),\n",
      "    tf.feature_column.numeric_column('euclidean')\n",
      "]\n",
      "\n",
      "# Build the estimator\n",
      "def build_estimator(model_dir, nbuckets, hidden_units):\n",
      "    \"\"\"\n"
     ]
    }
   ],
   "source": [
    "!grep -A 20 \"INPUT_COLUMNS =\" taxifare/trainer/model.py"
   ]
  },
  {
   "cell_type": "code",
   "execution_count": 50,
   "metadata": {
    "collapsed": false
   },
   "outputs": [
    {
     "name": "stdout",
     "output_type": "stream",
     "text": [
      "def build_estimator(model_dir, nbuckets, hidden_units):\r\n",
      "    \"\"\"\r\n",
      "     Build an estimator starting from INPUT COLUMNS.\r\n",
      "     These include feature transformations and synthetic features.\r\n",
      "     The model is a wide-and-deep model.\r\n",
      "  \"\"\"\r\n",
      "\r\n",
      "    # Input columns\r\n",
      "    (dayofweek, hourofday, latdiff, londiff, euclidean, plon, plat, dlon, dlat, pcount) = INPUT_COLUMNS\r\n",
      "\r\n",
      "    # Bucketize the lats & lons\r\n",
      "    latbuckets = np.linspace(38.0, 42.0, nbuckets).tolist()\r\n",
      "    lonbuckets = np.linspace(-76.0, -72.0, nbuckets).tolist()\r\n",
      "    b_plat = tf.feature_column.bucketized_column(plat, latbuckets)\r\n",
      "    b_dlat = tf.feature_column.bucketized_column(dlat, latbuckets)\r\n",
      "    b_plon = tf.feature_column.bucketized_column(plon, lonbuckets)\r\n",
      "    b_dlon = tf.feature_column.bucketized_column(dlon, lonbuckets)\r\n",
      "\r\n",
      "    # Feature cross\r\n",
      "    ploc = tf.feature_column.crossed_column([b_plat, b_plon], nbuckets * nbuckets)\r\n",
      "    dloc = tf.feature_column.crossed_column([b_dlat, b_dlon], nbuckets * nbuckets)\r\n",
      "    pd_pair = tf.feature_column.crossed_column([ploc, dloc], nbuckets ** 4 )\r\n",
      "    day_hr =  tf.feature_column.crossed_column([dayofweek, hourofday], 24 * 7)\r\n",
      "\r\n",
      "    # Wide columns and deep columns.\r\n",
      "    wide_columns = [\r\n",
      "        # Feature crosses\r\n",
      "        dloc, ploc, pd_pair,\r\n",
      "        day_hr,\r\n",
      "\r\n",
      "        # Sparse columns\r\n",
      "        dayofweek, hourofday,\r\n",
      "\r\n",
      "        # Anything with a linear relationship\r\n",
      "        pcount \r\n",
      "    ]\r\n",
      "\r\n",
      "    deep_columns = [\r\n",
      "        # Embedding_column to \"group\" together ...\r\n",
      "        tf.feature_column.embedding_column(pd_pair, 10),\r\n",
      "        tf.feature_column.embedding_column(day_hr, 10),\r\n",
      "\r\n",
      "        # Numeric columns\r\n",
      "        plat, plon, dlat, dlon,\r\n",
      "        latdiff, londiff, euclidean\r\n",
      "    ]\r\n",
      "    \r\n",
      "    return tf.estimator.DNNLinearCombinedRegressor(\r\n",
      "        model_dir = model_dir,\r\n",
      "        linear_feature_columns = wide_columns,\r\n",
      "        dnn_feature_columns = deep_columns,\r\n",
      "--\r\n",
      "    estimator = build_estimator(args['output_dir'], args['nbuckets'], args['hidden_units'])\r\n",
      "    train_spec = tf.estimator.TrainSpec(\r\n",
      "        input_fn = read_dataset(\r\n",
      "            filename = args['train_data_paths'],\r\n",
      "            mode = tf.estimator.ModeKeys.TRAIN,\r\n",
      "            batch_size = args['train_batch_size']),\r\n",
      "        max_steps = args['train_steps'])\r\n",
      "    exporter = tf.estimator.LatestExporter('exporter', serving_input_fn)\r\n",
      "    eval_spec = tf.estimator.EvalSpec(\r\n",
      "        input_fn = read_dataset(\r\n",
      "            filename = args['eval_data_paths'],\r\n",
      "            mode = tf.estimator.ModeKeys.EVAL,\r\n",
      "            batch_size = args['eval_batch_size']),\r\n",
      "        steps = None,\r\n",
      "        exporters = exporter)\r\n",
      "    tf.estimator.train_and_evaluate(estimator, train_spec, eval_spec)\r\n",
      "\r\n",
      "# If we want to use TFRecords instead of CSV\r\n",
      "def gzip_reader_fn():\r\n",
      "    return tf.TFRecordReader(options=tf.python_io.TFRecordOptions(\r\n",
      "            compression_type = tf.python_io.TFRecordCompressionType.GZIP))\r\n",
      "\r\n",
      "def generate_tfrecord_input_fn(data_paths, num_epochs = None, batch_size = 512, mode = tf.estimator.ModeKeys.TRAIN):\r\n",
      "    def get_input_features():\r\n",
      "        # Read the tfrecords. Same input schema as in preprocess\r\n",
      "        input_schema = {}\r\n",
      "        if mode != tf.estimator.ModeKeys.INFER:\r\n",
      "            input_schema[LABEL_COLUMN] = tf.FixedLenFeature(shape = [1], dtype = tf.float32, default_value = 0.0)\r\n",
      "        for name in ['dayofweek', 'key']:\r\n",
      "            input_schema[name] = tf.FixedLenFeature(shape = [1], dtype = tf.string, default_value = 'null')\r\n",
      "        for name in ['hourofday']:\r\n",
      "            input_schema[name] = tf.FixedLenFeature(shape = [1], dtype = tf.int64, default_value = 0)\r\n",
      "        for name in SCALE_COLUMNS:\r\n",
      "            input_schema[name] = tf.FixedLenFeature(shape = [1], dtype = tf.float32, default_value = 0.0)\r\n",
      "\r\n",
      "        # How? \r\n",
      "        keys, features = tf.contrib.learn.io.read_keyed_batch_features(\r\n",
      "            data_paths[0] if len(data_paths) == 1 else data_paths,\r\n",
      "            batch_size,\r\n",
      "            input_schema,\r\n",
      "            reader = gzip_reader_fn,\r\n",
      "            reader_num_threads = 4,\r\n",
      "            queue_capacity = batch_size * 2,\r\n",
      "            randomize_input = (mode != tf.estimator.ModeKeys.EVAL),\r\n",
      "            num_epochs = (1 if mode == tf.estimator.ModeKeys.EVAL else num_epochs))\r\n",
      "        target = features.pop(LABEL_COLUMN)\r\n",
      "        features[KEY_FEATURE_COLUMN] = keys\r\n",
      "        return add_engineered(features), target\r\n",
      "\r\n",
      "    # Return a function to input the features into the model from a data path.\r\n",
      "    return get_input_features\r\n"
     ]
    }
   ],
   "source": [
    "!grep -A 50 \"build_estimator\" taxifare/trainer/model.py"
   ]
  },
  {
   "cell_type": "code",
   "execution_count": 51,
   "metadata": {
    "collapsed": false
   },
   "outputs": [
    {
     "name": "stdout",
     "output_type": "stream",
     "text": [
      "def add_engineered(features):\r\n",
      "    # this is how you can do feature engineering in TensorFlow\r\n",
      "    lat1 = features['pickuplat']\r\n",
      "    lat2 = features['dropofflat']\r\n",
      "    lon1 = features['pickuplon']\r\n",
      "    lon2 = features['dropofflon']\r\n",
      "    latdiff = (lat1 - lat2)\r\n",
      "    londiff = (lon1 - lon2)\r\n",
      "    \r\n",
      "    # set features for distance with sign that indicates direction\r\n",
      "    features['latdiff'] = latdiff\r\n",
      "    features['londiff'] = londiff\r\n",
      "    dist = tf.sqrt(latdiff * latdiff + londiff * londiff)\r\n",
      "    features['euclidean'] = dist\r\n",
      "    return features\r\n",
      "\r\n",
      "--\r\n",
      "    return tf.estimator.export.ServingInputReceiver(add_engineered(features), feature_placeholders)\r\n",
      "\r\n",
      "# Create input function to load data into datasets\r\n",
      "def read_dataset(filename, mode, batch_size = 512):\r\n",
      "    def _input_fn():\r\n",
      "        def decode_csv(value_column):\r\n",
      "            columns = tf.decode_csv(value_column, record_defaults = DEFAULTS)\r\n",
      "            features = dict(zip(CSV_COLUMNS, columns))\r\n",
      "            label = features.pop(LABEL_COLUMN)\r\n",
      "            return add_engineered(features), label\r\n",
      "        \r\n",
      "        # Create list of files that match pattern\r\n",
      "        file_list = tf.gfile.Glob(filename)\r\n",
      "\r\n",
      "        # Create dataset from file list\r\n",
      "        dataset = tf.data.TextLineDataset(file_list).map(decode_csv)\r\n",
      "\r\n",
      "        if mode == tf.estimator.ModeKeys.TRAIN:\r\n",
      "            num_epochs = None # indefinitely\r\n",
      "            dataset = dataset.shuffle(buffer_size = 10 * batch_size)\r\n",
      "        else:\r\n",
      "            num_epochs = 1 # end-of-input after this\r\n",
      "\r\n",
      "        dataset = dataset.repeat(num_epochs).batch(batch_size)\r\n",
      "        batch_features, batch_labels = dataset.make_one_shot_iterator().get_next()\r\n",
      "--\r\n",
      "        return add_engineered(features), target\r\n",
      "\r\n",
      "    # Return a function to input the features into the model from a data path.\r\n",
      "    return get_input_features\r\n",
      "\r\n",
      "def get_eval_metrics():\r\n",
      "    return {\r\n",
      "        'rmse': tflearn.MetricSpec(metric_fn=metrics.streaming_root_mean_squared_error),\r\n",
      "        'training/hptuning/metric': tflearn.MetricSpec(metric_fn=metrics.streaming_root_mean_squared_error),\r\n",
      "    }\r\n"
     ]
    }
   ],
   "source": [
    "!grep -A 15 \"add_engineered(\" taxifare/trainer/model.py"
   ]
  },
  {
   "cell_type": "markdown",
   "metadata": {},
   "source": [
    "Try out the new model on the local sample to make sure it works fine."
   ]
  },
  {
   "cell_type": "markdown",
   "metadata": {},
   "source": [
    "`usage: task.py [-h] --train_data_paths TRAIN_DATA_PATHS\n",
    "               [--train_batch_size TRAIN_BATCH_SIZE]\n",
    "               [--eval_batch_size EVAL_BATCH_SIZE] [--train_steps TRAIN_STEPS]\n",
    "               [--eval_steps EVAL_STEPS] --eval_data_paths EVAL_DATA_PATHS\n",
    "               [--nbuckets NBUCKETS]\n",
    "               [--hidden_units HIDDEN_UNITS [HIDDEN_UNITS ...]] --output_dir\n",
    "               OUTPUT_DIR [--job-dir JOB_DIR]\n",
    "               [--eval_delay_secs EVAL_DELAY_SECS]\n",
    "               [--min_eval_frequency MIN_EVAL_FREQUENCY] [--format FORMAT]\n",
    "task.py: error: unrecognized arguments: --num_epochs=100`"
   ]
  },
  {
   "cell_type": "code",
   "execution_count": 52,
   "metadata": {
    "collapsed": false
   },
   "outputs": [
    {
     "name": "stderr",
     "output_type": "stream",
     "text": [
      "INFO:tensorflow:Using default config.\n",
      "INFO:tensorflow:Using config: {'_save_checkpoints_secs': 600, '_session_config': None, '_keep_checkpoint_max': 5, '_task_type': 'worker', '_is_chief': True, '_cluster_spec': <tensorflow.python.training.server_lib.ClusterSpec object at 0x7f90aef2b710>, '_save_checkpoints_steps': None, '_keep_checkpoint_every_n_hours': 10000, '_service': None, '_num_ps_replicas': 0, '_tf_random_seed': None, '_master': '', '_num_worker_replicas': 1, '_task_id': 0, '_log_step_count_steps': 100, '_model_dir': '/content/datalab/training-data-analyst/courses/machine_learning/feateng/taxi_trained', '_save_summary_steps': 100}\n",
      "INFO:tensorflow:Running training and evaluation locally (non-distributed).\n",
      "INFO:tensorflow:Start train and evaluate loop. The evaluate will happen after 600 secs (eval_spec.throttle_secs) or training is finished.\n",
      "INFO:tensorflow:Create CheckpointSaverHook.\n",
      "2018-02-12 21:11:27.125096: I tensorflow/core/platform/cpu_feature_guard.cc:137] Your CPU supports instructions that this TensorFlow binary was not compiled to use: SSE4.1 SSE4.2 AVX AVX2 FMA\n",
      "INFO:tensorflow:Saving checkpoints for 1 into /content/datalab/training-data-analyst/courses/machine_learning/feateng/taxi_trained/model.ckpt.\n",
      "INFO:tensorflow:loss = 161796.94, step = 1\n",
      "INFO:tensorflow:global_step/sec: 15.8201\n",
      "INFO:tensorflow:loss = 99073.23, step = 101 (6.322 sec)\n",
      "INFO:tensorflow:global_step/sec: 13.7585\n",
      "INFO:tensorflow:loss = 90110.79, step = 201 (7.268 sec)\n",
      "INFO:tensorflow:global_step/sec: 18.154\n",
      "INFO:tensorflow:loss = 103141.48, step = 301 (5.508 sec)\n",
      "INFO:tensorflow:global_step/sec: 16.8068\n",
      "INFO:tensorflow:loss = 103304.68, step = 401 (5.950 sec)\n",
      "INFO:tensorflow:global_step/sec: 18.0189\n",
      "INFO:tensorflow:loss = 89329.3, step = 501 (5.550 sec)\n",
      "INFO:tensorflow:global_step/sec: 15.9666\n",
      "INFO:tensorflow:loss = 103334.2, step = 601 (6.263 sec)\n",
      "INFO:tensorflow:global_step/sec: 16.5526\n",
      "INFO:tensorflow:loss = 94766.41, step = 701 (6.042 sec)\n",
      "INFO:tensorflow:global_step/sec: 16.5452\n",
      "INFO:tensorflow:loss = 72895.58, step = 801 (6.043 sec)\n",
      "INFO:tensorflow:global_step/sec: 16.5667\n",
      "INFO:tensorflow:loss = 65323.258, step = 901 (6.036 sec)\n",
      "INFO:tensorflow:Saving checkpoints for 1000 into /content/datalab/training-data-analyst/courses/machine_learning/feateng/taxi_trained/model.ckpt.\n",
      "INFO:tensorflow:Loss for final step: 131048.37.\n",
      "INFO:tensorflow:Starting evaluation at 2018-02-12-21:12:32\n",
      "INFO:tensorflow:Restoring parameters from /content/datalab/training-data-analyst/courses/machine_learning/feateng/taxi_trained/model.ckpt-1000\n",
      "INFO:tensorflow:Finished evaluation at 2018-02-12-21:12:34\n",
      "INFO:tensorflow:Saving dict for global step 1000: average_loss = 172.5631, global_step = 1000, loss = 87119.71\n",
      "INFO:tensorflow:Restoring parameters from /content/datalab/training-data-analyst/courses/machine_learning/feateng/taxi_trained/model.ckpt-1000\n",
      "INFO:tensorflow:Assets added to graph.\n",
      "INFO:tensorflow:No assets to write.\n",
      "INFO:tensorflow:SavedModel written to: /content/datalab/training-data-analyst/courses/machine_learning/feateng/taxi_trained/export/exporter/temp-1518469956/saved_model.pb\n"
     ]
    }
   ],
   "source": [
    "%bash\n",
    "rm -rf taxifare.tar.gz taxi_trained\n",
    "export PYTHONPATH=${PYTHONPATH}:${REPO}/courses/machine_learning/feateng/taxifare\n",
    "python -m trainer.task \\\n",
    "   --train_data_paths=\"${REPO}/courses/machine_learning/feateng/sample/train*\" \\\n",
    "   --eval_data_paths=${REPO}/courses/machine_learning/feateng/sample/valid.csv  \\\n",
    "    --output_dir=${REPO}/courses/machine_learning/feateng/taxi_trained \\\n",
    "    --train_steps=1000 \\\n",
    "    --job-dir=/tmp"
   ]
  },
  {
   "cell_type": "code",
   "execution_count": 53,
   "metadata": {
    "collapsed": false
   },
   "outputs": [
    {
     "name": "stdout",
     "output_type": "stream",
     "text": [
      "1518469956\r\n"
     ]
    }
   ],
   "source": [
    "!ls $REPO/courses/machine_learning/feateng/taxi_trained/export/exporter"
   ]
  },
  {
   "cell_type": "code",
   "execution_count": 54,
   "metadata": {
    "collapsed": false
   },
   "outputs": [
    {
     "name": "stdout",
     "output_type": "stream",
     "text": [
      "Overwriting /tmp/test.json\n"
     ]
    }
   ],
   "source": [
    "%writefile /tmp/test.json\n",
    "{\"dayofweek\":\"Sun\",\"hourofday\":17,\"pickuplon\": -73.885262,\"pickuplat\": 40.773008,\"dropofflon\": -73.987232,\"dropofflat\": 40.732403,\"passengers\": 2}"
   ]
  },
  {
   "cell_type": "code",
   "execution_count": 55,
   "metadata": {
    "collapsed": false
   },
   "outputs": [
    {
     "name": "stdout",
     "output_type": "stream",
     "text": [
      "PREDICTIONS\n",
      "[2.1280734539031982]\n"
     ]
    },
    {
     "name": "stderr",
     "output_type": "stream",
     "text": [
      "WARNING: 2018-02-12 21:14:18.859704: I tensorflow/core/platform/cpu_feature_guard.cc:137] Your CPU supports instructions that this TensorFlow binary was not compiled to use: SSE4.1 SSE4.2 AVX AVX2 FMA\n",
      "\n"
     ]
    }
   ],
   "source": [
    "%bash\n",
    "model_dir=$(ls ${REPO}/courses/machine_learning/feateng/taxi_trained/export/exporter)\n",
    "gcloud ml-engine local predict \\\n",
    "    --model-dir=${REPO}/courses/machine_learning/feateng/taxi_trained/export/exporter/${model_dir} \\\n",
    "    --json-instances=/tmp/test.json"
   ]
  },
  {
   "cell_type": "markdown",
   "metadata": {},
   "source": [
    "<h2> 5. Train on cloud </h2>\n"
   ]
  },
  {
   "cell_type": "code",
   "execution_count": null,
   "metadata": {
    "collapsed": false
   },
   "outputs": [],
   "source": [
    "# might need this ...\n",
    "# !gcloud --quiet components update"
   ]
  },
  {
   "cell_type": "code",
   "execution_count": 31,
   "metadata": {
    "collapsed": false
   },
   "outputs": [
    {
     "name": "stderr",
     "output_type": "stream",
     "text": [
      "\n",
      "\n",
      "Your current Cloud SDK version is: 183.0.0\n",
      "You will be upgraded to version: 188.0.1\n",
      "\n",
      "+---------------------------------------------------+\n",
      "|         These components will be updated.         |\n",
      "+----------------------------+------------+---------+\n",
      "|            Name            |  Version   |   Size  |\n",
      "+----------------------------+------------+---------+\n",
      "| BigQuery Command Line Tool |     2.0.28 | < 1 MiB |\n",
      "| Cloud SDK Core Libraries   | 2018.02.08 | 7.2 MiB |\n",
      "| gcloud cli dependencies    | 2018.02.02 | 1.6 MiB |\n",
      "+----------------------------+------------+---------+\n",
      "\n",
      "The following release notes are new in this upgrade.\n",
      "Please read carefully for information about new features, breaking changes,\n",
      "and bugs fixed.  The latest full release notes can be viewed at:\n",
      "  https://cloud.google.com/sdk/release_notes\n",
      "\n",
      "188.0.1 (2018-02-08)\n",
      "      o Hotfix for https://issuetracker.google.com/73044966 affecting Cloud\n",
      "        SDK installations in environments with inconsistent access to the GCE\n",
      "        metadata server.\n",
      "\n",
      "188.0.0 (2018-02-07)\n",
      "  Breaking Changes\n",
      "      o **(REMOVED)** Removed deprecated gcloud service-management. Use\n",
      "        gcloud endpoints and gcloud services instead.\n",
      "      o **(MODIFIED)** The default trigger event behavior for\n",
      "        --trigger-bucket flag on the gcloud functions deploy command will soon\n",
      "        change. google.storage.object.finalize will replace\n",
      "        providers/cloud.storage/eventTypes/object.change as default trigger\n",
      "        event. To opt-in to the new behavior early, run gcloud config set\n",
      "        functions/use_new_object_trigger True.\n",
      "\n",
      "  Cloud SDK\n",
      "      o Added gcloud topic command-conventions for details on command line\n",
      "        conventions and processing.\n",
      "\n",
      "  Compute Engine\n",
      "      o Promoted gcloud compute security-policies rules to beta.\n",
      "      o Added --file-name and --file-format flags to gcloud compute\n",
      "        security-policies create. These flags allow creating security policies\n",
      "        from predefined templates by importing from the specified file.\n",
      "      o Modified the default file format for gcloud compute security-policies\n",
      "        import and gcloud compute security-policies export from json to yaml.\n",
      "\n",
      "  Container Builder\n",
      "      o Fixed issue where a .gcloudignore entry matching \".\" caused gcloud\n",
      "        container builds submit to not upload any files.\n",
      "\n",
      "  Firebase Test Lab\n",
      "      o Added default`as a possible device orientation. When orientation is\n",
      "        default, the most appropriate orientation for your app is picked.\n",
      "        Usually, this is any app-specified orientation for the main activity or\n",
      "        portrait, if none is specified in the app manifest.\n",
      "\n",
      "  Identity and Access Management\n",
      "      o **(MODIFIED)** Promoted gcloud beta iam roles, gcloud beta iam\n",
      "        list-testable-permissions to GA.\n",
      "\n",
      "  Miscellaneous\n",
      "      o Updated the Pubsub Emulator\n",
      "        * Pubsub emulator now spams the console less.\n",
      "        * Pubsub emulator properly sets the default value for\n",
      "          Subscription.message_retention_duration.\n",
      "\n",
      "    Subscribe to these release notes at\n",
      "    https://groups.google.com/forum/#!forum/google-cloud-sdk-announce\n",
      "    (https://groups.google.com/forum/#!forum/google-cloud-sdk-announce).\n",
      "\n",
      "187.0.0 (2018-01-31)\n",
      "  App Engine\n",
      "      o Updated the Java SDK to version 1.9.61. Please visit the following\n",
      "        release notes for details:\n",
      "        https://cloud.google.com/appengine/docs/java/release-notes\n",
      "        (https://cloud.google.com/appengine/docs/java/release-notes)\n",
      "\n",
      "  App Engine Flexible Environment\n",
      "      o Added --use-container-optimized-os flag to gcloud alpha|beta app\n",
      "        update to enable Container-Optimized OS\n",
      "        (https://cloud.google.com/container-optimized-os/docs/) as Flex VM base\n",
      "        image by default on new deployments.\n",
      "\n",
      "  Cloud DNS\n",
      "      o Added Cloud labels flags to gcloud beta managed-zones <create|update>\n",
      "        commands.\n",
      "\n",
      "  Cloud Interconnect\n",
      "      o Promoted support for labels on interconnects to beta.\n",
      "\n",
      "  Cloud PubSub\n",
      "      o Added gcloud alpha pubsub snapshots describe command.\n",
      "\n",
      "  Cloud TPU\n",
      "      o Promoted gcloud compute tpus to beta.\n",
      "\n",
      "  Compute Engine\n",
      "      o Promoted gcloud compute target-vpn-gateways update and gcloud compute\n",
      "    vpn-tunnels update to beta. These commands allow adding/modifying/clearing\n",
      "    labels.\n",
      "      o Promoted stackdriver-metric flag family of gcloud compute\n",
      "        instance-groups managed set-autoscaling to beta. These flags allow\n",
      "        setting up per-group autoscaling and metric filtering, as well as\n",
      "        provide an improved interface to the existing per-instance autoscaling.\n",
      "      o Promoted --source-snapshot flag of gcloud compute images create\n",
      "        command to beta. This flag allows creating images from snapshots.\n",
      "      o Promoted --guest-os-features flag of gcloud compute disks create to\n",
      "        beta. This flag allows create disks with additional specified GuestOS\n",
      "        features.\n",
      "      o Promoted --licenses flag of gcloud compute disks create to GA. This\n",
      "        flag allows create disks with additional specified licenses.\n",
      "\n",
      "  Container Builder\n",
      "      o Changed gcloud container builds submit command to no longer create a\n",
      "        .gcloudignore file on disk. Git files are still ignored by default, see\n",
      "        gcloud topic gcloudignore to learn more.\n",
      "\n",
      "  Container Engine\n",
      "      o Promoted --accelerator flag of gcloud container clusters create and\n",
      "        gcloud container node-pools create to beta.\n",
      "\n",
      "  Container Registry\n",
      "      o Removed public read-only endpoints from default registries used by\n",
      "        gcloud docker and docker-credential-gcloud for authentication.\n",
      "\n",
      "  Kubernetes Engine\n",
      "      o Fixed an issue causing relative KUBECONFIG paths to fail when used\n",
      "        with the gcloud container clusters get-credentials command.\n",
      "\n",
      "  Miscellaneous\n",
      "      o Fixed crash when attempting to use a SOCKS proxy\n",
      "        https://issuetracker.google.com/72407295\n",
      "        (https://issuetracker.google.com/72407295).\n",
      "\n",
      "186.0.0 (2018-01-24)\n",
      "  Breaking Changes\n",
      "      o **(REMOVED)** Removed support for the format\n",
      "        --scopes=[ACCOUNT=]SCOPE,[[ACCOUNT=]SCOPE,…]] in gcloud compute\n",
      "        instances <create|create-with-container> and gcloud compute\n",
      "        instance-templates <create|create-with-container>. Please use\n",
      "        --scopes=[SCOPE, …] and --service-account=ACCOUNT instead.\n",
      "\n",
      "      o **(MODIFIED)** Added cautionary 'y/n' prompts to gcloud beta iam\n",
      "        roles create, gcloud beta iam roles update, and gcloud beta iam roles\n",
      "        copy commands when using permissions with TESTING\n",
      "        customRolesSupportLevel. The prompt needs to be answered to finish the\n",
      "        request. Specify --quiet to prevent prompting confirming intent.\n",
      "\n",
      "  Cloud Datalab\n",
      "      o Updated the datalab component to the 20180119 release.\n",
      "\n",
      "        Released changes are documented in its tracking issue at\n",
      "        https://github.com/googledatalab/datalab/issues/1921 (https://github.com/googledatalab/datalab/issues/1921).\n",
      "\n",
      "  Cloud Datastore Emulator\n",
      "      o Released Cloud Datastore Emulator version 1.4.0.\n",
      "        * The emulator now returns error codes that match the Cloud Datastore\n",
      "          service for two scenarios: inserts of entities that already exist and\n",
      "          updates to ones that don't.\n",
      "\n",
      "  Cloud Functions\n",
      "      o Modified behaviour of gcloud beta functions deploy when re-deploying\n",
      "        existing function without --source flag. beta functions deploy will now\n",
      "        always upload source code (whether or not --source flag is supplied)\n",
      "        from current directory if function was previously deployed from local\n",
      "        source.\n",
      "\n",
      "  Cloud SDK\n",
      "      o The [all-box] attribute has been added to the table format. It draws\n",
      "        a rule around all table cells and may be useful for visualizing list\n",
      "        data or data with embedded newlines. Usage: --format=\"tableall-box\n",
      "      o Added gcloudignore/enabled property to allow turning off default\n",
      "        file-skipping behavior on commands that upload source. Run $ gcloud\n",
      "        config set gcloudignore/enabled false (and see $ gcloud topic\n",
      "        gcloudignore for more details).\n",
      "\n",
      "185.0.0 (2018-01-17)\n",
      "  Cloud Datalab\n",
      "      o Updated the datalab component to the 20180105 release.\n",
      "\n",
      "        Released changes are documented in its tracking issue at\n",
      "          https://github.com/googledatalab/datalab/issues/1892 (https://github.com/googledatalab/datalab/issues/1892).\n",
      "\n",
      "  Compute Engine\n",
      "      o Promoted gcloud compute os-login commands to GA.\n",
      "\n",
      "      o Promoted SSL policy commands to beta\n",
      "        * Promoted compute ssl-policies to beta.\n",
      "        * Promoted --ssl-policy flag in compute target-https-proxies create\n",
      "          and compute target-ssl-proxies create to beta.\n",
      "        * Promoted --ssl-policy and --clear-ssl-policy flags in compute\n",
      "          target-https-proxies update and compute target-ssl-proxies update to\n",
      "          beta.\n",
      "\n",
      "  Container Registry\n",
      "      o Added staging-k8s.gcr.io to the default set of registries\n",
      "        authenticated by gcloud docker.\n",
      "\n",
      "  Kubernetes Engine\n",
      "      o Removed --disable-addons flag in gcloud container alpha|beta clusters\n",
      "        create.\n",
      "      o Added --addons flag to gcloud container clusters create.\n",
      "      o Deprecated --disable-addons flag in gcloud container clusters create.\n",
      "\n",
      "184.0.0 (2018-01-10)\n",
      "  Breaking Changes\n",
      "      o (REMOVED) Removed gcloud ml-engine init-project. This step is now\n",
      "        performed automatically.\n",
      "      o Removed --discard-local-ssd flag from gcloud compute instances stop\n",
      "        (beta and GA). This flag wasn't working as intended. Stopping an\n",
      "        instance that uses a local SSD is not currently supported; delete and\n",
      "        recreate the instance instead.\n",
      "      o (DEPRECATED) Deprecated the gcloud container\n",
      "        --[no-]enable-cloud-endpoints flag (removed in alpha and beta).\n",
      "      o (MODIFIED) Added the gcloud container container/new_scopes_behavior\n",
      "        property, which will, in a future release, be the default behavior. If\n",
      "        set to true, compute-rw, devstorage-ro, service-control, and\n",
      "        service-management scopes are no longer added to what is specified in\n",
      "        --scopes, compute-rw is no longer inluded in the default scopes, and\n",
      "        --[no-]enable-cloud-endpoints flags are not allowed. This is now the\n",
      "        default behavior for alpha and beta, so this property has no effect for\n",
      "        those tracks.\n",
      "\n",
      "  App Engine\n",
      "      o Fixed an issue where queue.yaml deployments failed due to a\n",
      "        permission error.\n",
      "      o Updated the Python SDK for App Engine to version 1.9.65.\n",
      "        * Added SetupTools version 36.6.0\n",
      "          (https://pypi.python.org/pypi/setuptools/36.6.0){: target=\"blank\"\n",
      "          class=\"external\"} to the built-in third-party libraries.\n",
      "      o Updated Java SDK to version 1.9.60. Please visit the following\n",
      "        release notes for details:\n",
      "        https://cloud.google.com/appengine/docs/java/release-notes\n",
      "      o Updated the Go SDK for App Engine to version 1.9.62\n",
      "        * Includes internal updates for how applications are deployed.\n",
      "      o Fixed inaccurate warning about \"module\" in app.yaml configuration\n",
      "        file\n",
      "\n",
      "  BigQuery\n",
      "      o Fixed issue where page token switch (-k or --page_token) was not\n",
      "        passed to list --transfer_config command.\n",
      "      o Fixed issue where list --transfer_run command filter condition failed\n",
      "        due to field name error.\n",
      "      o Added time partitioning field to show command.\n",
      "\n",
      "  Cloud Datalab\n",
      "      o Updated the datalab component to the 20171222 release.\n",
      "\n",
      "        Released changes are documented in its tracking issue at\n",
      "        https://github.com/googledatalab/datalab/issues/1868 (https://github.com/googledatalab/datalab/issues/1868).\n",
      "\n",
      "  Cloud Dataproc\n",
      "      o Added boot disk type configuration flags to the gcloud beta dataproc\n",
      "        clusters create command:\n",
      "        * --master-boot-disk-type\n",
      "        * --worker-boot-disk-type\n",
      "        * --preemptible-worker-boot-disk-type\n",
      "\n",
      "  Cloud Machine Learning Engine\n",
      "      o Added --labels flag to gcloud ml-engine <models|versions> create.\n",
      "      o Added --labels flag to gcloud ml-engine jobs <prediction|training>\n",
      "        submit.\n",
      "      o Added gcloud ml-engine <models|versions|jobs> update commands which\n",
      "        update Cloud Machine Learning resources.\n",
      "\n",
      "  Cloud PubSub\n",
      "      o Added --wait flag to gcloud beta pubsub subscriptions pull.\n",
      "\n",
      "  Cloud SQL\n",
      "      o Added --user flag to gcloud beta sql import sql to add support for\n",
      "        specifying a Postgres user to import with.\n",
      "      o Added --user flag to gcloud beta sql import csv to add support for\n",
      "        specifying a Postgres user to import with.\n",
      "\n",
      "  Container Builder\n",
      "    Added support for .gcloudignore files to container builds submit command.\n",
      "\n",
      "  Container Engine\n",
      "      o Updated Google Kubernetes Engine's kubectl from version 1.8.4 to\n",
      "        1.8.6.\n",
      "      o Promoted --node-version flag of gcloud container\n",
      "        <clusters|node-pools> create to GA. Clusters/node-pools can now be\n",
      "        created with a node version different from that of the master, via the\n",
      "        --node-version flag.\n",
      "\n",
      "  Container Registry\n",
      "      o Updated docker-credential-gcr to v1.4.2:\n",
      "        * Refreshes the cloud SDK's access token when retrieving it, when\n",
      "          configured to use gcloud as a token source.\n",
      "\n",
      "#============================================================#\n",
      "#= Creating update staging area                             =#\n",
      "#============================================================#\n",
      "#= Uninstalling: BigQuery Command Line Tool                 =#\n",
      "#============================================================#\n",
      "#= Uninstalling: Cloud SDK Core Libraries                   =#\n",
      "#============================================================#\n",
      "#= Uninstalling: gcloud cli dependencies                    =#\n",
      "#============================================================#\n",
      "#= Installing: BigQuery Command Line Tool                   =#\n",
      "#============================================================#\n",
      "#= Installing: Cloud SDK Core Libraries                     =#\n",
      "#============================================================#\n",
      "#= Installing: gcloud cli dependencies                      =#\n",
      "#============================================================#\n",
      "#= Creating backup and activating new installation          =#\n",
      "#============================================================#\n",
      "\n",
      "Performing post processing steps...\n",
      "...........................done.\n",
      "\n",
      "Update done!\n",
      "\n",
      "To revert your SDK to the previously installed version, you may run:\n",
      "  $ gcloud components update --version 183.0.0\n",
      "\n"
     ]
    }
   ],
   "source": [
    "%bash \n",
    "gcloud --quiet components update"
   ]
  },
  {
   "cell_type": "code",
   "execution_count": 56,
   "metadata": {
    "collapsed": false
   },
   "outputs": [
    {
     "name": "stderr",
     "output_type": "stream",
     "text": [
      "\n",
      "All components are up to date.\n"
     ]
    }
   ],
   "source": [
    "%bash \n",
    "gcloud --quiet components update"
   ]
  },
  {
   "cell_type": "code",
   "execution_count": 57,
   "metadata": {
    "collapsed": false
   },
   "outputs": [
    {
     "name": "stdout",
     "output_type": "stream",
     "text": [
      "gs://single-bucket/taxifare/ch4/taxi_trained us-central1 lab4a_180212_211459\n",
      "jobId: lab4a_180212_211459\n",
      "state: QUEUED\n"
     ]
    },
    {
     "name": "stderr",
     "output_type": "stream",
     "text": [
      "Removing gs://single-bucket/taxifare/ch4/taxi_trained/#1516660108309866...\n",
      "Removing gs://single-bucket/taxifare/ch4/taxi_trained/checkpoint#1516660109676435...\n",
      "Removing gs://single-bucket/taxifare/ch4/taxi_trained/events.out.tfevents.1516660104.cmle-training-master-eb04fd3d3f-0-fmt7t#1516660110934335...\n",
      "Removing gs://single-bucket/taxifare/ch4/taxi_trained/graph.pbtxt#1516660106377089...\n",
      "Removing gs://single-bucket/taxifare/ch4/taxi_trained/model.ckpt-0.data-00000-of-00001#1516660108754189...\n",
      "/ [1/7 objects]  14% Done                                                       \r",
      "/ [2/7 objects]  28% Done                                                       \r",
      "Removing gs://single-bucket/taxifare/ch4/taxi_trained/model.ckpt-0.index#1516660109060084...\n",
      "/ [3/7 objects]  42% Done                                                       \r",
      "/ [4/7 objects]  57% Done                                                       \r",
      "/ [5/7 objects]  71% Done                                                       \r",
      "Removing gs://single-bucket/taxifare/ch4/taxi_trained/model.ckpt-0.meta#1516660110577804...\n",
      "/ [6/7 objects]  85% Done                                                       \r",
      "/ [7/7 objects] 100% Done                                                       \r\n",
      "Operation completed over 7 objects.                                              \n",
      "Job [lab4a_180212_211459] submitted successfully.\n",
      "Your job is still active. You may view the status of your job with the command\n",
      "\n",
      "  $ gcloud ml-engine jobs describe lab4a_180212_211459\n",
      "\n",
      "or continue streaming the logs with the command\n",
      "\n",
      "  $ gcloud ml-engine jobs stream-logs lab4a_180212_211459\n"
     ]
    }
   ],
   "source": [
    "%%bash\n",
    "OUTDIR=gs://${BUCKET}/taxifare/ch4/taxi_trained\n",
    "JOBNAME=lab4a_$(date -u +%y%m%d_%H%M%S)\n",
    "echo $OUTDIR $REGION $JOBNAME\n",
    "gsutil -m rm -rf $OUTDIR\n",
    "gcloud ml-engine jobs submit training $JOBNAME \\\n",
    "   --region=$REGION \\\n",
    "   --module-name=trainer.task \\\n",
    "   --package-path=${REPO}/courses/machine_learning/feateng/taxifare/trainer \\\n",
    "   --job-dir=$OUTDIR \\\n",
    "   --staging-bucket=gs://$BUCKET \\\n",
    "   --scale-tier=BASIC \\\n",
    "   --runtime-version=1.2 \\\n",
    "   -- \\\n",
    "   --train_data_paths=\"gs://$BUCKET/taxifare/ch4/taxi_preproc/train*\" \\\n",
    "   --eval_data_paths=\"gs://${BUCKET}/taxifare/ch4/taxi_preproc/valid*\"  \\\n",
    "   --output_dir=$OUTDIR \\\n",
    "   --num_epochs=100"
   ]
  },
  {
   "cell_type": "markdown",
   "metadata": {},
   "source": [
    "The RMSE is now 8.33249, an improvement over the 9.3 that we were getting ... of course, we won't know until we train/validate on a larger dataset. Still, this is promising. But before we do that, let's do hyper-parameter tuning."
   ]
  },
  {
   "cell_type": "code",
   "execution_count": 60,
   "metadata": {
    "collapsed": false
   },
   "outputs": [
    {
     "name": "stdout",
     "output_type": "stream",
     "text": [
      "createTime: '2018-02-12T21:15:13Z'\n",
      "etag: Y-i2565rqH4=\n",
      "jobId: lab4a_180212_211459\n",
      "state: PREPARING\n",
      "trainingInput:\n",
      "  args:\n",
      "  - --train_data_paths=gs://single-bucket/taxifare/ch4/taxi_preproc/train*\n",
      "  - --eval_data_paths=gs://single-bucket/taxifare/ch4/taxi_preproc/valid*\n",
      "  - --output_dir=gs://single-bucket/taxifare/ch4/taxi_trained\n",
      "  - --num_epochs=100\n",
      "  jobDir: gs://single-bucket/taxifare/ch4/taxi_trained\n",
      "  packageUris:\n",
      "  - gs://single-bucket/lab4a_180212_211459/403093da9efea2411a7440278b5c6a88e4c29327d97790ff2733b71c111faf5b/trainer-0.0.0.tar.gz\n",
      "  pythonModule: trainer.task\n",
      "  region: us-central1\n",
      "  runtimeVersion: '1.2'\n",
      "trainingOutput: {}\n"
     ]
    },
    {
     "name": "stderr",
     "output_type": "stream",
     "text": [
      "\n",
      "View job in the Cloud Console at:\n",
      "https://console.cloud.google.com/ml/jobs/lab4a_180212_211459?project=coursera-192902\n",
      "\n",
      "View logs at:\n",
      "https://console.cloud.google.com/logs?resource=ml.googleapis.com%2Fjob_id%2Flab4a_180212_211459&project=coursera-192902\n"
     ]
    }
   ],
   "source": [
    "%%bash\n",
    "gcloud ml-engine jobs describe lab4a_180212_211459"
   ]
  },
  {
   "cell_type": "markdown",
   "metadata": {},
   "source": [
    "<h2> 6. Hyper-parameter tune </h2>\n",
    "\n",
    "Look at <a href=\"hyperparam.ipynb\">hyper-parameter tuning notebook</a> to decide what parameters to use for model. Based on that run, I ended up choosing:\n",
    "<ol>\n",
    "<li> train_batch_size: 512 </li>\n",
    "<li> nbuckets: 16 </li>\n",
    "<li> hidden_units: \"64 64 64 8\" </li>    \n",
    "</ol>\n",
    "\n",
    "This gives an RMSE of 5, a considerable improvement from the 8.3 we were getting earlier ... Let's try this over a larger dataset."
   ]
  },
  {
   "cell_type": "markdown",
   "metadata": {},
   "source": [
    "<h1> Run Cloud training on 2 million row dataset </h1>\n",
    "\n",
    "This run uses as input 2 million rows and takes ~20 minutes with 10 workers (STANDARD_1 pricing tier). The model is exactly the same as above. The only changes are to the input (to use the larger dataset) and to the Cloud MLE tier (to use STANDARD_1 instead of BASIC -- STANDARD_1 is approximately 10x more powerful than BASIC). Because the Dataflow preprocessing takes about 15 minutes, we train here using CSV files in a public bucket.\n",
    "\n",
    "When doing distributed training, use train_steps instead of num_epochs. The distributed workers don't know how many rows there are, but we can calculate train_steps = num_rows \\* num_epochs / train_batch_size. In this case, we have 2141023 * 100 / 512 = 418168 train steps."
   ]
  },
  {
   "cell_type": "code",
   "execution_count": 55,
   "metadata": {
    "collapsed": false
   },
   "outputs": [
    {
     "name": "stdout",
     "output_type": "stream",
     "text": [
      "gs://single-bucket/taxifare/feateng2m us-central1 lab4a_180122_222340\n",
      "jobId: lab4a_180122_222340\n",
      "state: QUEUED\n"
     ]
    },
    {
     "name": "stderr",
     "output_type": "stream",
     "text": [
      "bash: line 2: WARNING: command not found\n",
      "CommandException: 1 files/objects could not be removed.\n",
      "Job [lab4a_180122_222340] submitted successfully.\n",
      "Your job is still active. You may view the status of your job with the command\n",
      "\n",
      "  $ gcloud ml-engine jobs describe lab4a_180122_222340\n",
      "\n",
      "or continue streaming the logs with the command\n",
      "\n",
      "  $ gcloud ml-engine jobs stream-logs lab4a_180122_222340\n"
     ]
    }
   ],
   "source": [
    "%%bash\n",
    "\n",
    "WARNING -- this uses significant resources and is optional. Remove this line to run the block.\n",
    "\n",
    "OUTDIR=gs://${BUCKET}/taxifare/feateng2m\n",
    "JOBNAME=lab4a_$(date -u +%y%m%d_%H%M%S)\n",
    "TIER=STANDARD_1 \n",
    "echo $OUTDIR $REGION $JOBNAME\n",
    "gsutil -m rm -rf $OUTDIR\n",
    "gcloud ml-engine jobs submit training $JOBNAME \\\n",
    "   --region=$REGION \\\n",
    "   --module-name=trainer.task \\\n",
    "   --package-path=${REPO}/courses/machine_learning/feateng/taxifare/trainer \\\n",
    "   --job-dir=$OUTDIR \\\n",
    "   --staging-bucket=gs://$BUCKET \\\n",
    "   --scale-tier=$TIER \\\n",
    "   --runtime-version=1.2 \\\n",
    "   -- \\\n",
    "   --train_data_paths=\"gs://cloud-training-demos/taxifare/train*\" \\\n",
    "   --eval_data_paths=\"gs://cloud-training-demos/taxifare/valid*\"  \\\n",
    "   --output_dir=$OUTDIR \\\n",
    "   --train_steps=418168 \\\n",
    "   --train_batch_size=512 --nbuckets=16 --hidden_units=\"64 64 64 8\""
   ]
  },
  {
   "cell_type": "code",
   "execution_count": 61,
   "metadata": {
    "collapsed": false
   },
   "outputs": [
    {
     "name": "stdout",
     "output_type": "stream",
     "text": [
      "gs://single-bucket/taxifare/feateng2m\n"
     ]
    },
    {
     "data": {
      "text/html": [
       "<p>TensorBoard was started successfully with pid 25535. Click <a href=\"/_proxy/43579/\" target=\"_blank\">here</a> to access it.</p>"
      ]
     },
     "metadata": {},
     "output_type": "display_data"
    },
    {
     "data": {
      "text/plain": [
       "25535"
      ]
     },
     "execution_count": 61,
     "metadata": {},
     "output_type": "execute_result"
    }
   ],
   "source": [
    "from google.datalab.ml import TensorBoard\n",
    "OUTDIR='gs://{0}/taxifare/feateng2m'.format(BUCKET)\n",
    "print OUTDIR\n",
    "TensorBoard().start(OUTDIR)"
   ]
  },
  {
   "cell_type": "markdown",
   "metadata": {},
   "source": [
    "The RMSE after training on the 2-million-row dataset is \\$3.03.  This graph shows the improvements so far ..."
   ]
  },
  {
   "cell_type": "code",
   "execution_count": 57,
   "metadata": {
    "collapsed": false
   },
   "outputs": [
    {
     "name": "stderr",
     "output_type": "stream",
     "text": [
      "/usr/local/lib/python2.7/dist-packages/seaborn/categorical.py:1424: FutureWarning: remove_na is deprecated and is a private function. Do not use.\n",
      "  stat_data = remove_na(group_data)\n"
     ]
    },
    {
     "data": {
      "image/png": "[encoded data removed]",
      "text/plain": [
       "<matplotlib.figure.Figure at 0x7fc45305d810>"
      ]
     },
     "metadata": {},
     "output_type": "display_data"
    }
   ],
   "source": [
    "import pandas as pd\n",
    "import seaborn as sns\n",
    "import numpy as np\n",
    "import matplotlib.pyplot as plt\n",
    "\n",
    "df = pd.DataFrame({'Lab' : pd.Series(['1a', '2-3', '4a', '4b', '4c']),\n",
    "              'Method' : pd.Series(['Heuristic Benchmark', 'tf.learn', '+Feature Eng.', '+ Hyperparam', '+ 2m rows']),\n",
    "              'RMSE': pd.Series([8.026, 9.4, 8.3, 5.0, 3.03]) })\n",
    "\n",
    "ax = sns.barplot(data = df, x = 'Method', y = 'RMSE')\n",
    "ax.set_ylabel('RMSE (dollars)')\n",
    "ax.set_xlabel('Labs/Methods')\n",
    "plt.plot(np.linspace(-20, 120, 1000), [5] * 1000, 'b');"
   ]
  },
  {
   "cell_type": "code",
   "execution_count": 58,
   "metadata": {
    "collapsed": false
   },
   "outputs": [
    {
     "name": "stderr",
     "output_type": "stream",
     "text": [
      "Copying gs://single-bucket/taxifare/ch4/taxi_preproc/tmp/staging/preprocess-taxifeatures-180122-221628.1516659388.764292/dataflow_python_sdk.tar [Content-Type=application/octet-stream]...\n",
      "/ [0 files][    0.0 B/563.3 KiB]                                                \r",
      "Removing gs://single-bucket/taxifare/ch4/taxi_preproc/tmp/staging/preprocess-taxifeatures-180122-221628.1516659388.764292/dataflow_python_sdk.tar...\n",
      "/ [1/6 files][563.3 KiB/563.3 KiB]  99% Done                                    \r"
     ]
    }
   ],
   "source": [
    "%bash\n",
    "gsutil -m mv gs://${BUCKET}/taxifare/ch4/  gs://${BUCKET}/taxifare/ch4_1m/"
   ]
  },
  {
   "cell_type": "markdown",
   "metadata": {},
   "source": [
    "Copyright 2016 Google Inc. Licensed under the Apache License, Version 2.0 (the \"License\"); you may not use this file except in compliance with the License. You may obtain a copy of the License at http://www.apache.org/licenses/LICENSE-2.0 Unless required by applicable law or agreed to in writing, software distributed under the License is distributed on an \"AS IS\" BASIS, WITHOUT WARRANTIES OR CONDITIONS OF ANY KIND, either express or implied. See the License for the specific language governing permissions and limitations under the License"
   ]
  }
 ],
 "metadata": {
  "kernelspec": {
   "display_name": "Python 2",
   "language": "python",
   "name": "python2"
  },
  "language_info": {
   "codemirror_mode": {
    "name": "ipython",
    "version": 2
   },
   "file_extension": ".py",
   "mimetype": "text/x-python",
   "name": "python",
   "nbconvert_exporter": "python",
   "pygments_lexer": "ipython2",
   "version": "2.7.12"
  }
 },
 "nbformat": 4,
 "nbformat_minor": 0
}
